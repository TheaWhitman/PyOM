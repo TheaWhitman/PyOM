{
 "cells": [
  {
   "cell_type": "code",
   "execution_count": 134,
   "metadata": {
    "collapsed": false
   },
   "outputs": [],
   "source": [
    "# Imports all the necessary programs\n",
    "# screed for making databases\n",
    "# pandas, which is a library of Python data analysis functions\n",
    "# Counter tool for convenient and rapid tallies\n",
    "# matplotlib for plotting\n",
    "# numpy for basic computing in Python\n",
    "# mpltools are more tools for matplotlib\n",
    "import screed\n",
    "import pandas as pd\n",
    "from collections import Counter\n",
    "import matplotlib.pyplot as plt\n",
    "import numpy as np\n",
    "from mpltools import style"
   ]
  },
  {
   "cell_type": "code",
   "execution_count": 135,
   "metadata": {
    "collapsed": false
   },
   "outputs": [],
   "source": [
    "# sets our style parameters to ggplot\n",
    "style.use(\"ggplot\")"
   ]
  },
  {
   "cell_type": "code",
   "execution_count": 136,
   "metadata": {
    "collapsed": false
   },
   "outputs": [],
   "source": [
    "# tells the notebook to show the output (graphics) from matplotlib inline (in the notebook)\n",
    "%matplotlib inline"
   ]
  },
  {
   "cell_type": "code",
   "execution_count": 8,
   "metadata": {
    "collapsed": false
   },
   "outputs": [],
   "source": [
    "# I added this step to unzip our index read fastq files.\n",
    "!pigz -k -d -p 2 ./SeqData/index_read_*.fq.gz\n",
    "# pigz unzips the files, and can do this in parallel. Could also use \"gunzip\" Here, the ? indicates a wildcard character, so anything\n",
    "# that has 1 character before .fq.gz\n",
    "# it will output files called read?.fq\n",
    "# -k means keep the original, -d means decompress the input, -p means use this number of processors"
   ]
  },
  {
   "cell_type": "code",
   "execution_count": 11,
   "metadata": {
    "collapsed": false
   },
   "outputs": [
    {
     "data": {
      "text/plain": [
       "<ScreedDB, './SeqData/index_read_2.fq_screed'>"
      ]
     },
     "execution_count": 11,
     "metadata": {},
     "output_type": "execute_result"
    }
   ],
   "source": [
    "# There also wasn't a step where the screed DB is created. So, I'm making that.\n",
    "# This creates the database which it will query\n",
    "# The database will have the sequence name, description, quality, and sequence itself (if those data are in the original files)\n",
    "# The output will be the same file with NAME_screed\n",
    "screed.read_fastq_sequences(\"./SeqData/index_read_1.fq\")\n",
    "screed.read_fastq_sequences(\"./SeqData/index_read_2.fq\")"
   ]
  },
  {
   "cell_type": "code",
   "execution_count": 137,
   "metadata": {
    "collapsed": false
   },
   "outputs": [],
   "source": [
    "# tells the notebook where our index reads are\n",
    "# This used to have .gz at the end of the fastq files\n",
    "# but I feel like we should unzip them before putting them into the DB.\n",
    "# So, I added the unzipping step above.\n",
    "ir1 = \"./SeqData/index_read_1.fq\"\n",
    "ir2 = \"./SeqData/index_read_2.fq\""
   ]
  },
  {
   "cell_type": "code",
   "execution_count": 138,
   "metadata": {
    "collapsed": false
   },
   "outputs": [],
   "source": [
    "# Takes our index reads and turns them into databases using Screed\n",
    "ir1db = screed.ScreedDB(ir1)\n",
    "ir2db = screed.ScreedDB(ir2)"
   ]
  },
  {
   "cell_type": "code",
   "execution_count": 51,
   "metadata": {
    "collapsed": false
   },
   "outputs": [],
   "source": [
    "# Troubleshooting\n",
    "record=ir1db[ir1db.keys()[14]]"
   ]
  },
  {
   "cell_type": "code",
   "execution_count": 52,
   "metadata": {
    "collapsed": false
   },
   "outputs": [
    {
     "data": {
      "text/plain": [
       "'TCTTTCCC'"
      ]
     },
     "execution_count": 52,
     "metadata": {},
     "output_type": "execute_result"
    }
   ],
   "source": [
    "# Troubleshooting\n",
    "record['sequence']\n",
    "# This is not the right index, but it is what is in the index file."
   ]
  },
  {
   "cell_type": "code",
   "execution_count": 57,
   "metadata": {
    "collapsed": false
   },
   "outputs": [
    {
     "name": "stdout",
     "output_type": "stream",
     "text": [
      "['AGGGCGTTGTGCTCGATAATGGCGACATGCATGTTGATGGCTATAAGGCCGCTTCTGACGTTCGTGATGAGTTCGTATCTGTTACTGAGAAGTTAATGGACGAATTGGCACAATGCTACAATGTGCTCAGATCGGAAGAGCGGTTCAGCAGGAATGCCGAGACCGATCTCGTATGCCGTCTTCTGCCTGAAAAAAAAAATTCTTTCTTTCTCTTTTCTTCCTCTTCTTCTCTCCCTCTTTTTTCTCTCCCCTTCTTCTCTCCCCTTTTCTTCCTCTCTCTCCTCTTTTTCTCCTTTTTTTT\\n', '+\\n', '6@<<@:@C7,=,CFGEG8-6@9,@1++B<,6CFGGD,,6<E,6E<,,E6,@+6B,:6,9,B6CFF?8C9,EFG,4,4,:<,CC9;A<5=?,,CC?,C,<,,7++BBB,?E5,,A<8CD,,4,9E9?B?,@:99=+++@,?,64?FED,E?>E+;D?95@33@C+>8>+),3@AE6<>:;;D:C,3;,59,2301;11*(++++++19+,++++++++1..2+))+49,++.+/0))/*))-)-(0.),00((*(39-).-02*/(,,-.*-.0**),)/,.,)()).+*))).-))+,)-(\\n', '@M01032:142:000000000-A88P9:1:1101:11330:1725 1:N:0:0\\n', 'TCCCTTTAATAACCTGATTCAGCGAAATCAATCTGCGGCACTTAGTAGCGGTAAAGTTAGACCAAACCATGAAACCAACATAAACATTACTGCCCGGCGTACGGGGAAGGACGTCAACAGTCACACAGTCCTTGACGGTATAATTACCACTATCATGGCGACCATCCAAAGGATAAACATCATAGGCAGTCGGGAGGGCAGTCGGAACCGAAGAAGACTCAAAGCGAACCCACCAGGCATAAAATCTAGGTTTGGCATCTAAAGCAATATTACCACCACTAGACACAACCTCATTATCCG\\n', '+\\n', 'BC-8@@E<,CCC6EF<,CEE@,@=1++,;;,C,,<C@+@:+C,6,C<C64@@+,,,<<,,,;C,6,9C,CC,,9?E4@@@E9,61,:,:,9,66:,+7+@8@+++4++84,4+8?++*5,9C,?,8+,A>47C,,8++83A,C@,,8>,,,,@B2,,,,3+>C3>C,,)20,,>2,,7:<3,3,8,8,*5,+*4**47(*6/07*(*/8**51*5+**/;<+;;?(1*77(.)7).,*.),-)):2440*)6+,(+)4:)2+0+)(,447)-,8*.-4)(().))2(157:(.4..+6*(\\n', '@M01032:142:000000000-A88P9:1:1101:19331:1734 1:N:0:0\\n', 'ACATGGCGCCACCAGCAAGAGCAGAAGTAATACTGCTAGCAATAGCATCAAACATAAATCACCTCACTTAAGTGGCTGGAGACAAATAACCTCTTTAATAACCTGATTCAGCGAAACCAATCCGCGGCATTTAGTAGCGGTAATGTCAGATTAAACCATGAAATCAACATAAACATTATTGCCCGGCGTACGGGGAAGGACGTCAATAGTCACACAGTCCCTGACGGTATAATAACCACCATCATGGCGACCATTCAAAGGATAAAAATCTTAGGCAGTCGGGAGGGTAGTCGGAACCGAA\\n', '+\\n', '-AAC886F;@@E<FFF8,6,,;D?,;,6,<;,,6<C6,6CC,,,,,,,6;,,C,;,,,;C,CFF,,;EE9,,C<<FF,,,,,9,),9:A,:BC@@C<,<<4B,A,99AFE,<+++448,,9@<@4+++++C,4BC;,<+@B>F,,4,,7,,,,4,==,EDFGD,5:<1:EF,7,,6B<?89=DC:+<+@+*50@8*4>),2:?C54CBB=FC?,18*;3>,063:;84;5?=+AF4=+/,(74<F).4*231:))0.64)2*+:).,)(*)-,/*2)47(-31491(2)7466002C(5(,\\n', '@M01032:142:000000000-A88P9:1:1101:17306:1738 1:N:0:0\\n', 'ACGGTCAGGCACCCACGGTGCTCTAAAATAGTTGTTATAGATATTCAAACAACTCTGAAACAAATGCTTAGGGACCTTATTGGTATCAGGGTTAATCGTGCCAAGAAAAGCGGCATGGTCAATATAACCAGTAGTGTTAATAGTCGGGAGAGGAGTGGCATTAACACCATCCTTCATGAACTTAATCCACTGTTCACCATACACGTGACGATGAGGGACATAAAAAGTAAAAATGTCTACAGTAGAGTCAATAGCAAGGCCACGACGCAATGGAGAAAGACGGAGAGCGCCAACGGCGTC\\n', '+\\n', '<C<9BCBE8C@,9B,C@:-,7C;E;C,,<;,CFGG<,EC@CF9FCC,,,,,,;,6<,,,,;;6,C,@EF9FCCF,,:9,9C@<F9FEE?<,BFC<<F,C@CD,,,,>,A9,++=+@<)C@94@,B,,?4>F==CE,AA,4,59B,+++4@+865C48=+66,<,7;31:DF,6@=,E998D;,,3,8=9,@,2@DD>=DBB*2@+1,,:+9?5,:,3*0:,2:8;@C>F6>@>*@BEF486>EFC***728C39*6*8-(;,;8,2*(,/6;<6)33@F(6;:4323*)036>61;E>5,\\n', '@M01032:142:000000000-A88P9:1:1101:15529:1741 1:N:0:0\\n', 'TGGTTGTGGCCCGCTGATGCTAAAGGTGAGCTGTTTAAAGCTATCAGTTATATGGCTTTTGGCTTCTATGTGGCCAAATACGTTAACAAAATGTCAGATACGTACCTTGCTGCTAAAGGTCTAGGAGCTAAAGAATGGTATAACTCACTAAAAACCAAGCTGTTGCTACTTTCTAAGAAGCTGTTCAGAATCAGAATGAGCCGCAACTTCGGGATGAAAATGCTCACAATGACAAATCTGTTCACGGAGTGCTCAATCCAACTTACCAAGTCGGGTCACGACGCGATGCCGTTCAACCTGA\\n', '+\\n', 'C<<A@,B@,6;,++@6+C6;CE,,,,;;,66,C,C,,,66CF9,;,,<CFF9;<C,C,;C,6,CCEC,C,E9<F,A,4:,C<CE<45:,9,,,<6,,,<6,,,,484@?EF9=?,,,0,9,4,5,,,,:,4,C,,9,,,4,,5,99,9?,,5,0+6,49+49,,93?,:D+,6,,,5,+@8,75,<,,,3@,<@9D;AD,,;+++11==D9>6+@+++0*2,A@>A,,*49898<6*4;*;*2*+)-/53)8B**21*7*,622*.3/)2**8)06(//3(3:>(((*5913-2(.+8)(,\\n', '@M01032:142:000000000-A88P9:1:1101:15509:1747 1:N:0:0\\n', 'TGGTTGTGGCCCGCTGATGCTAAAGGTGAGCTGTTTAAAGCTACCAGTTATATGGCTGTTGGCTTCTATGTGGCCAAATACGTTAACAAAAAGTCAGATATGGACCTTGCTGCTAAAGGTCTAGGAGCTAAAGAATGGAACAACTCACTAAAAACCAAGCTGTTGCTACTTCCCAAGAAGCTGTTCAGAATCAGAATGAGCCGCAACTTCGGGATGAAAATGCTCACAATGACAAATCTGTTCACGGAGTGCTTAATCCAACTTACCAAGCTGGGTTACGACGCGACGCCGTTCAACCAGA\\n', '+\\n', 'CC<A@@FE7@@,++=6+CCCEED,2,;6,;6,C,C6,,;@FFD,;,;CCFA;@CC<C,CC,6,CCEF9E9F9FF,A4@A@E<FFB,?C5A,,,C@,E,C6,,,,999A?EFDEE99,0,C9,9?,,,4A=4AE9,A,A,9,,A,9@9A?5,5,;1==<449=,,8:A3DF9,6,688,=8=6>?,B,=,,@,<=8=;C<F9;6=+:19>DGD6+@*720*5,>A;E9,A58ACFF>429EE*2::/:9:*-8;5/285<.2<:;*08/7;(.85=5(/61=>(3241*7>(4230::<30(\\n', '@M01032:142:000000000-A88P9:1:1101:16757:1756 1:N:0:0\\n', 'AGCTCAGTCTCAGGAGGAAGCGGAGCAGTCCAAATGTTCCCGAGATGGCAGCAACGGAAACCATAACGAGCATCATCTTGATTAAGCCCATTAGGGTTAGCCTCGGTACGGTCAGGCATCCACGGCGCTTTAAAATAGTTGCTTTAGATATTCAAATAACCCCGAAACAAATGCTTAGGGATTTTATTGGTACCAGGGTTACTCGTGCCAAGAAAAGCGGCATGGTCAATATAACCAGTAGTGTTAACAGTCGGTAGAGGAGTGGCATTATCACCATCCTTCATGAACTTAATCCACTGTT\\n', '+\\n', '<@C@@,CE@CCE,6668,-,6@++6@,;CF@,,,CCEF,,,B,@+C,C,=F,6,,++,,+9:6E6,C,,+++CEE,,9<@,<C,*59,AA?A,<<8EC,:@EA=,,@,@=7BB+,,4:FB,=?++6++8+A94,,9,79@,,,,<,,,75CF,?,76,,3>B++38<1:1;CA,2=,3988:,8,,37@,@,+37,@7)6>*=B*/111;?<,,,,2*55C*.6C/+,/36C@8:6<*769C1);<36,267*.(*(-)(2/2;((25-0).,/05)37>2>B44<)2=6<)4..50<4<:\\n', '@M01032:142:000000000-A88P9:1:1101:17278:1760 1:N:0:0\\n', 'GTGGCCTTATGGTCACAGTATGCTCATTGCAGTTTGTTACATGCAGGACGTTTTTTCACGTTCTGGTTGGTTGCGGCCTGTTGACGCCAAAGGTGAGCTGCTTAAAGCCACCAGTTACATGGCTGTTGGTTTCTATGTGGCCAAATACGTTAACAAAAAGTCAGACATGGACCTTGCTGCTAAAGGTCTAGGAGCCTAAGAATGGAACAACTCACTAAAAACCAAGCTGTCGCTACCTCCCAAGAAGCCGTTTAGAATCAGAATGAGCCGCAACTTCGGGACGAAATTGCTCACAATGATA\\n', '+\\n', '6-8-8CEF9CE8C,6C9CF9FCE4,CC,,C,@FG,C,CCDF,,,,,,,96,9;CF@6,6,;6CFC,CC,+BFE,7>4@:<CE9,*?:+8@,,,C=?F=,9@,C,,,9,,9,4,,AE?*,9CE<E+AEE86A:=B9C,9,4+,9,,64A?CE,+9,6,4+6@D,3,)678=D,@DA9<@FC>7@FB>,3@,@>DGG+,80@9+=9,:,4,3@79,@;+001E:99B=*7@B>@F*98(?3---3-*((6,7/:,(/+9?A3;?C2.)8)//((*2)6<:514(3-(4(3*/.4:90<C20))\\n', '@M01032:142:000000000-A88P9:1:1101:16739:1761 1:N:0:0\\n', 'AGCTCAGTCTCAGGAGGAAGCGGAGCAGTCCAAATGTTCCCGAGATGGCAGCAACGTAAACCATAACGAGCATCATCTTGATTAAGCTCATTAGGGTTAGCCTCGGTACGGTCAGGCATCCACGTCGCTTTAAAATAGTTGTTTTAGATATTCAAATAACCCCGAAACAAATGCTTAGGGATCTTATTGGTACCAGGGCTAATCGTGCCAAGAAAAGCGGCATGGTCAATATAACCAGTAGTGCTAACAGTCGGGTGAGGAGTGGCATTAACACCATCCTTCATGAACTTAATCCACTGTT\\n', '+\\n', '<8B<@,CF@CCF98668,-,;@++6@,;CC@,,,CCEF,,,B,@+C,E6AF,6,,+,,,,9CCF@,E,,+++CEF,5:A,,CC<;E?,AFEE,6?8FC,6CEE=,:8,@?@EC:8,4:FB,@<++9+4@9A94,,:,59CB,,,:;,,85CF,?,==5336@+330618,;=9,==,C8:8@+33,,7>,=,+37,:<)6:*?@*1,18,<*,,:,**7=E*5>,42,;=CF>FC8@276;C;);<<;,094*31*.,,(5422((,540)5,07,)..8<><--:)2/92)6.)5+<4:6\\n', '@M01032:142:000000000-A88P9:1:1101:22765:1769 1:N:0:0\\n', 'AACAGCTTTATCAATACCATGAAAAATATCAACCACATCAGAAGCAGCATCAGTGACGACATTAGAAATATCCTTTGCAGTAGCGCCAATATGAGAAGAGCCATACCGCTGATTCTGCGTTTGCTGATGAACTAAGTCAACCTCAGCACTAACCTTGCGAGTCATTTCTTTGATTTGGTCATTGGTAAAATACTGACCAGCCGTTTGAGCTTGAGTAAGCATTTGGCGCATAATCTCGGAAACCTGCTGTTGCTTGGAAAGATTGGTGTTTTCCATAATAGACGCAACGCGAGCAGTAGA\\n', '+\\n', '<ACCCEEFF<FFA<FC<6-<,,4,3C;,@E9,6,,C,,;<6,,;C,<,,,546CC,C,,@+@,66,;@F<E,,5,5@A<@FE9<84=@B,,C<,6CC,6<@F8C,=@:B>B7EEEF9:@FF=B<B9,C,,9AF,,,9?A@,B,,,,@,EE844;E9;,@88@=4F*C6*@2@=D=D,?==DB,5=,,,63@5<ECD38>:=:=@C8;7@BFGC6C@=:A=@B7AFFC7D5599B@FAD2554:@F35>7+0798>,0.**6,6+3;<8,:;(<8+<3<@6?)712(,3)7907;0:C:4)\\n', '@M01032:142:000000000-A88P9:1:1101:14908:1774 1:N:0:0\\n', 'TACGAACTGTGCGAACGTTATTCGGAATCACTGGGCTTACAGGGTTCGTAGGCGGCTATTCAGGTCAGGTGTGAAAGCCCTCGGCTCAACCGAGGAACTGCGCTTGAAACTGGATGGCTCGAGTCAGCTAGAGGTACACGGAATTTCCAGTGTAGCGGTGAAATGCGTTGATATCATCAGGAACACCGGAGGCGCAGGCGGCTCACTGGGGCTTTTCTGACGCTGAGGAACGAAAGCCTGGGTAGCGACCGGGATTAGATCCCCCGGTAGTCCTGGCCGTACACGCTGAGCCCTTGCCCGG\\n', '+\\n', 'B@C<,,6C,C,C,B+@@FG8CEGCD;,F6C;EE@EEGGGFCE,BC,;@BFDE@@F:@,:C,66:C@,,,<6CFAD9,?=?CE:,:A=5AE=++4++<?F9E74>?A,5AE,,,,:,+:B=>=+F=,,,:,C,CEA,8533++=+:3C@,,83322@6+@C6>C@@:+@0:9E;D:,@32,@3,8,DE*8**18:5*1*6*:58:9>F+,8:>C@G6:><2C5<B51**0)4;85DF20(.46?FC44(*9,7563A).6:+<?C(4*7(159:6*463;41(4<<(4*).,(-4(.+.)(,\\n', '@M01032:142:000000000-A88P9:1:1101:16616:1774 1:N:0:0\\n', 'GAGGGTAGTCGGAACCGAAGAAGACCCAAAGTGAACTAAACAGGCAAAAAATTTAGGGTCGGCATCAAAAGCAACATCAGCACCAACAGAAACAACCTGACTAGCGGCGCTGACAGACGTATCCATCTGAATGCAATGAAGAAAACCACCATTACCAGCATTAACCGTCAAACTATCAAAATATAACGTTGACGATGTAGCTTTAGGTGTCTGTAAAACAGGTGCCGAAGAAGCTGGAGTAACAGAAGTGAGAACCAGCTTATCAGAAAAAAAGTTTGAATGATGGCGAGAAATAAAAGTT\\n', '+\\n', '<B<@8@CFFCF7+B+DF7+:,64,,,;,6C,,C,,C,,;EF,CC@,,,;9+;6C,,,,:C:@C+@E<@9<E,,4,:@EAEE<C,3,?A=E<,C=AEFCC8,5,,9@B:=+@77AA9,)8A:465,9??<A;3E,,,AA9,5CF33@B8==,CEF9D8@,3,,8,7:@CA79,<D7D=,59BDA;ACGCGFG7?E:*6@<FC8CF74?C,CFCDFC,:1.7?F3;C@C<:A16;AAF,*,634/97;857;)4+6)1(4<?+<0<)69))7,4:>7:)6644).4:4(2.>(4:A29C5@<)\\n', '@M01032:142:000000000-A88P9:1:1101:13948:1778 1:N:0:0\\n', 'GAGCCGCAACTCCGGGATGAAAATGCTTACAATGACAAACCTGTCCATGGAGTGCTTAATCCAACTTACCAAGCTGGGTTAAGCACTCCGTGAGATCGGAAGAGCGGTTCAGCAGGAATGCCGAGACCGATCTCGTATGCCGCTTTCTGCTTGAACAAAAAAATTCTTCTCTCTCTCCTTTCCCCCCTTTTTCTCCTTCCTCTTCCTTTTCCTTTTCTTCCCCTTCTTCTCTCCCTCTCTTTTCTCCCCCCTTCTTTTCTCCCCCTTTCTTCCTCTCCCTCTCCTCTTTCTCCTCACTTTT\\n', '+\\n', 'CC@CB@@:@BE,;;@7+@FC@CDFGGA,<EC,CF9C9,;,CEEFC<C,,45ACC,<C,,<;C<,9BF<E@,,AF,5,@BF7CE,:9=EE:B<=BEAF7::=:,69CBE:C95EA87=8F8;@F:+4@=+CFCF,,A+?,;,3++88@@<,EFD?,,63,3+3333;<70;<:,9,,,,+,7,38,55*,24,/5,5,,8,,1+,,01,8,,2,,4,+107+*//*(+23+/+6.5),2(.1)1.+.//1)(-*.-+))))+2*/((0,)*--0**-(,),(((..()0**))-)()*./-)\\n', '@M01032:142:000000000-A88P9:1:1101:12088:1787 1:N:0:0\\n', 'AGCGAAACCAACCCGCGGTATTCAGCAGCGGTAAAGTTAGATCAAACTACGAAATCAACATAAACATTATTGCCCGGCGTACGGGGAAGGACGTCAATAGTCACACAGTCCTTGACGGTATAATAACCACCATCATGGCGACCATCCAAAGGACAAACATCATAGGCAGTCGGGAGGGTAGTCGGAACCGAAGAAGACTCAAAGCGAACCAAACAGGCACAAAATTTAGGGTCGGCATCAAAAGCAATATCAGCTCCAACAGAAACAACCTGATTAGCGGCGTTGACAGATGTATCCAT\\n', '+\\n', '6@B<,+66;,9,8BCE@@++:C,4;,,;66+B:,,<CFEAE,<66,C,,,8,,,,9,,9,:@6,6,CEAEFC,?E?+@:@+@@C)4+444,B+8==+A<?4B,5,:@,,A,AB,,B?)B+AE<E,,,4,>3>F,,9,533+@B+=>D,,88>,*15,,3@B9,,70,,1@A9:****13,>4<<<<<::**1)3>222.24)*+3./**=6C58565*1(:*88C3?76).<?>>52E4.3-4,18(5<0.535)+.(5,108:41@38742,0*6):>0932(-()3*)6)66<<+)1\\n', '@M01032:142:000000000-A88P9:1:1101:20598:1788 1:N:0:0\\n', 'AGAATGTTTATAGGTCTGTTGAACACGACCAGAAAATTGGCTTAACGACGTTTGGTCAGTTCCATCAACATCATAGCCAGATGCCCAGAGATTAGAGCGCATGACAAGTAAAGGACGGTTGTCAGCGTCATAAGAGGTTTTACCTCCAAATGAAGAAATAACATCATGGTAACGCTGCATGAAGTAATCACGTTCCTGGTCAGTATGCAAATTAGCATAAGCAGCTTGCAGACCCATAATGTCAACAGAGGTGGTTGAAGTCGTCATTTGGCGAGAAAGCTCAGTCTCAGGAGGAAGCGGG\\n', '+\\n', '-<A@AFFFDCCG99EFFFGEC<D,,=,+6@:<,,,;,C,,E,6,,66,6489;FGE9,,CFCC9CF@,C6E,,,:?,B@E8CF,:,,9A=,@E<FEACC7CC,,59C<,C,9,5,BF)8@F495,A:FBEGFAA,ACA=;FEF,?EF,A<EF,9E88,E9@DFF8DAD8FF8?B=@+==9EE=<3BCED3,83@D:>B)8,49<,0::@EF8B7D6=E7*7,*887DCF471?>F4),1:EF?E+*056*(0<26*00)/49B1,3=?5C);<5>9?=F()6336<A39=1(4:(324>>1\\n', '@M01032:142:000000000-A88P9:1:1101:19220:1789 1:N:0:0\\n', 'TACGTAGGGTGCGAGCGTTGTCCGGATTTACTGGGCGTAAAGAGCTCGTAGGCGGTTTGTTGCGTTGTTTGTGAAATCCCCTGGCTCAACCTTGTGCCTTCGTCCGATACTCCCTGTCTTGAGTCCTGTAGGGGAGACTGGAATTCCTGGTGTAGCGGTGGAATGCGCAGATATCAGGAGGAACACCCGTGGCGAAGGCGGCTCTCTGGGCCGTTACTGACGCTGAGGCGCGAAAGCGTGGGGAGCGAACAGGATTAGATACCCTGGTAGTCCACGCCGTAAACGATGGGTGCTAGGTTTG\\n', '+\\n', 'C@CC@,CC76,B+BFEFGGC@@EC>8,BCC,CC@FCFGFFDG9F6<6C@@FG,@F6+,,:,,9@F,+,C,CFDGAFF5,,,,9D:E,:CE,4,,95,,9,C+:+4+8+CC,,,A,,:5C,9,<F,A9<,8A,@F++++8@B:@>BFG;=<ECDFCECCFE++@@,A@*8>AFDFC,<:4*>C,>>CECEEEC?CECBE8*=59C9<FFC**78***9CB9FD<?595;))-88D:@8*4(9>BFG;BF?D9?G14F??A<3:CC41C>2?89C49(1::9:(4<?1:C@)4(48)6*.*)(\\n', '@M01032:142:000000000-A88P9:1:1101:11887:1789 1:N:0:0\\n', 'ACTTTTATTTCCCGCCATAATTCAAACTTCTTTTCTGATAAGCTGGTTCTCACTTCTGTTACTCCAGCTTCTTCGGCACCTGTTCTACAGACACCTAAAGCTACATCGTCAACGTTACATTTTGATAGTTTGACGGTTAATGCTGGTAATGGTGGTTTTCTTCATTGCATCCAGATGGATACATCTGTCAACGCCGCTAATCAGGTTGTTTCTGTTGGTGCTGATATTGCTTTTGATGCCGACCCTAAATTTTTTGCCTGTTTGGTTCGCTTTGAGTCTTCTTCGGTTCCGACTACCCTT\\n', '+\\n', '<B-ACF@FEEE,;@+@:F9,CED,,<CFE,<EFG,CF,,<6FCEC8CF@,5,;CF@E9EECD,6;@<@FE6EFGFC:@@DFFEF9F?DF=,E<CBEC,6@CE9A9AEC9A6:ECFF<)5AA,CE,C<<F=FE;,47@?49BEEFC8>,,CEFF9C4@FFCD9@,C*53DF+,6@,@?E6D;B?,?,,@=:,506==8>A+>:99,0@CFF7FF7FE?F@5AA;*6=DCC>*=6*<*0,/.5--5/85-,419E89*7.@@<<987=F36)82**+/)7;?7);7:3;?561(-7(.;46(\\n', '@M01032:142:000000000-A88P9:1:1101:15231:1793 1:N:0:0\\n', 'TCCTTTGGATGGTCGCTATGATGGTGGTTATTATACTGCCAAGGACTGTGTGACTATTGACGCTCTTCCCCGTACGCCGGGCAACAACGCTTATGTTGGTCTCATGGTCCGGTCTAACTTTACCGCTACTAAATGCCGCGGACTGGTTTCGCTGAATCAGGCTATCAAAGAGATTATTTGTCTCCAGCCACTCAAGTGAGGTGATTTATGTTTGGTGCTATTGCTGGCGGCATTGCCTCTGCTCTCGCCGGTGGTGCCATGCCTTAATCGTTTGGAGGCGGTCAAAAAGCCGCCTCCGGTG\\n', '+\\n', 'CCCCC@FG,CC,CEFG,,BC@<,@=<:FDFCF9C,C,<,;;,6:,C;FE,AF96C,CE,,68,,6:C@C;,8CFCC+@+::F:,),,,4+8?,CFCF,,C,A5,C?@E,,4+@FF9,8EEFFA,+>>4>89=4A,,8@4@C8+8,,68=,@+>0+5@,,@@,,,7),,*@5@8E:9FFDFGG,8>83:11,8*11263AFG6*,>*=9@;=FF?5:5+7@9:73B<6*5:())*21)<,52)69D),3*1(7*,(*-,.6++2+),06)/42*))(,351;(3(,6)1)7(391::8>:;(\\n', '@M01032:142:000000000-A88P9:1:1101:12411:1801 1:N:0:0\\n', 'ATACCTTTCTTCTCGGGGTAATCATACTCATCGCGAATATCCTTAAGAGGGCGTTCAGCAGCCAGCTTGCGGCAAAACTGCGTAACCGCCTTCTCGTTCTCTAAAAACCATTTTTCGTCCCCTTCGGGGCGGTGGTCTATAGTGTTATTAATATCAAGTTGGGGGAGCACATTGTAGCATTGTGCCAATTCACCCATTAACTTCTCAGTAACAGATACAAACTCATCACGAACGTCAGAAGCAGCCTTATGGCCGTCAACATACATATCACCATTATCGAACTCAACGCCCTGCATACGAA\\n', '+\\n', '6-AA@EFGFGE,C,B<@FGGFE,4=CCFCFD,C,@F+CF,C,6CE996,<@,@@FC89C9CED8@@FD<@FG:FGGEEEFFGE@A:?>+@CCEBEEFB4AEE9<9B@?FFGFFFFGE84@?BFEF7+=+>FCFF7F@D;F;@7,@BFFF;,@,+7@3@FGFFED<>E596FF7<<<,@8=F?@,<CA8E@+2+5=BEFC,2::C;>97??979>897+6;F=;<<)++9@:>@B75<C95:037C??5+*)48:0243:23*+<4:,:<7.4,115)-.,.4457:,257>>B?0<+4511\\n', '@M01032:142:000000000-A88P9:1:1101:12203:1810 1:N:0:0\\n', 'TACGAAGGGGACTAGCGTTGTTCGGAATCACTGGGCGTAAAGCGCACGTAGGCGGATTTGTAAGTCAGGGGTGAAATCCCGGGGCTCAACCTCGGAACTGCCTTTGATACTGCGAATCTCGAGTCCGATAGAGGTGGGTGGAATTCCTAGTGTAGAGGTGAAATTCGTAGATATTAGGAAGAACACCGGTGGCGAAGGCGGCCCACTGGATCGGTCCTGACGCTGAGGTGCGAAAGCGTGGGGAGCAAACAGGCTTAGATCCCCTGGTCGTCCACGCCGTAAACGATGGATGCTAGCCGT\\n', '+\\n', 'A-A9,,6@,++@CC8E:FG7BFF>@@,D@C6EC,CECF@@CF@C@+8@CFBGABF+7@E,C96CFE<,,,+BF7,CBE=?,+>::F=C5E<??B7++8EAEDFEC?@EABE,E+++8:FAF,:B=C7+>+C,@AD7++8@+33:@DAB,8DCDAF7;:FF,,,7FACF47*B>D:=,,7,>8,<<CE*7?E>?E*1:73*:5<5*4C68*395*;*1:24?=8:A1C5F347<)8>8*-4296<C>04+90<G<8F).46+<:822;8)97:?3661<:4<(3:6(4A3):):B2:87)-\\n', '@M01032:142:000000000-A88P9:1:1101:8419:1810 1:N:0:0\\n', 'ATATCTGACTTTTTGTTAACGTATTTAGCCACATAGAAACCAACATCCATATAACTGTTAGCTTTAAGCGGCTCACCTTTAGCATCAACAGTCCACAACCAACCAGAACGTGAAAAAGCGTCCTGCGTTTAGCGAACTGCGATGGGCATACTGTAACCATAAGGCCACGTATTTTGCAAGCTTTTTAACTGGCGGCCATTGCGTACCCCACGACCAAAATTAGGGTCAACGCTACCTGTAGGAAGTGTCCGCCTAACGTGCACCGCATGGAAATGAAGACGGCCATTAGCTGTACCATA\\n', '+\\n', '6A-@@@,,<E@;C;+CC<C@6CDDFC,,6@C6;C,;,,,;C6,8,,;;,,;A,66C,,<,,;6CE9,,;++7@?9?@EAE,,9,09,,9,,,::,:<@@@@,?=,,4,?:C7,,5,,8=+@>=?,?+8+84,4+++89,4++6++,6,8,8A,?;=:83>,,:,61,6:@5A=DA:>,+,=6,<>=,,5E,,3@*8**07,33;*77<+*=5*:C*2*0/7+675=**;815.)854+9))43)2.)12:(,*4,3(4438*<8(2*4(2)),1*-))*.4(422,63*9<)<<-6+6*\\n', '@M01032:142:000000000-A88P9:1:1101:16740:1811 1:N:0:0\\n', 'TACGGAGGGTGCAAGCGTTGTCCGGAATCACTGGGCGTAAAGGGCGCGTAGGCGGCCTGGTAAGTAGGGGGTGAAATCCTGCGGCTTAACCGCAGGGCTGCCTTCTAAACTGTCAGGCTTGAGCACGGTAGAGGCAGATGGAATTCCCGGTGTAGCGGTGGAATGCGTAGAGATCGGGAAGAACATCAGTGGCGAAGGCGGTCTGCTGGGCCGTTGCTGACGCTGAGGCGCGACAGCGTGGGGAGCAAACAGGATTAGATACCCTGGTAGTCCACGCCGTAAACGATGGGCACTTGGCGT\\n', '+\\n', 'B8B<8,@7+B@F,C9D@FE>CEECC;:F@CCFCF8FFECC<E97@+7@@FFE@@@+78,,:6<EF,9,,+8F7FFFBEBB,<>::C@A<E?+=++77=DFEFGFD?C,,@FABD99,:FDFF?8,8++@:C,=8B**5>:8<,8>DC@*<>7>FFFCCEC*=8>A6<=@C57+?<8*:)=CE7<C,<+?AC:8*2::5.*:7CE6<G?6*:CCEG*9>44?=BFGF5>F36>8>>D214(239<D;1(3<17F:4C<<A<+:8:8(A?);5:?76123)48(-6:9:A341(4()-+..4\\n', '@M01032:142:000000000-A88P9:1:1101:13747:1819 1:N:0:0\\n', 'TACAGAGGGGGCAAGCGTTGTTCGGAATTACTGGGCGTAAAGGGCGCGTAGGCGGCCTTCTAAGTCGAACGTGAAATCCCCGGGCTCACCCCGGGAACTGCGTCCGATCCTGGAATGCTTGATTCCGGTAGAGGTCTGCGGACTTCCCGGTGTAGCGGTGAAATGCGTAGATATCTGGAGGAACCCCGGTGGCGACCGCTGCATCCTGGACCGGCCTTGACGCTGAGGCTCGCAAGCCCGGGGCGCAACCCGGATTAGATCCCCCGGTAGTCCTGGCCCTAAACGCTGAATGCTTGCTTTG\\n', '+\\n', 'C@C98,C8,++F+9CDFFGCCFF>EC:FCE<FF<,C@F7,,,,B6+@F@6@,96+66BECC,,9CB,,494B<E@,CE<?D++4:@=A,A?@+++++:B,D+833++8+8B,,,,,,5DB>,,:87,+**3,7,,,7,3****58?>,**4*=8:A**=**+<5,9*2,7)=+<:@99+0;*+8*=>**:*87:****-*20*2<:F+0*AF>*/*1942C*-4*4*5>).7)08>2;(-(7((1-(-*9(-:3-:522:+<?>((84098A97*4:6531(472(-2)*5)):-)*6*6)\\n', '@M01032:142:000000000-A88P9:1:1101:11582:1820 1:N:0:0\\n', 'AAATTTAACCTGACTATTTCACTGCAATAACTGAACGGACCGGAAACACCGGTCATAATCATGGTGGCGAATAAGTACGCGTTCCTGCAAATCACCAGAAGGCGGTTCCTGAATGAACGGGAAGCCTTCAAGAAGGTGATAAGCAGGAGAAATATACGAAGGCGCATAACGATACCACTGACCCCCAGCAATCTTAAACTTCTTAGACGAATCACCAGAACGGAAAACATCCTTCATAGAAATTTCACGCGGCGGCAAGTTGCCATACAAACCAGGGTCGCCAGCAATATCGGTTTAAGT\\n', '+\\n', '<BCCCEA<CEE<<EFDFG-;C<,@,C,,6CCFF9,CF:BF+CB7++C,6,8F@+,C,,<@,,9CFF7<:7+@<??55A@@+8>,)A,EEG<EE<?CF,,49,:+4@47E,C<,<?,,*B+FC7C<FF?<=,=4,,,A>,@,CA,,,8+83,,,4@:=C+,68C:78F1:69+3*:D,<9@9@CB*>5*4,,39D;,;85@;BF?76,088*1*,>6651(0/2(8:8+5640/1;/)+1...7)3?<4*>(453(*(,4:++2<)40(,0),*)7<035(;?B1(3(2*/64>2((+)*6\\n', '@M01032:142:000000000-A88P9:1:1101:20438:1820 1:N:0:0\\n', 'CAATACCATGAAAAACATTAACCACACTAGAAGTAGTACCAGTGACGACATTAGAAATATCCTTTGCAGTAGCGCCAATATGAGAAGAGCCATACCGCTGATTCTGCGTCTGCTGATGAACTAAGTCAACCTCAGCACTAACCTTGCGAGTCATTTCTTTGATTTGGTCATTGGTAAAATACTGACCAGCCGTTCGAGCTTGAGTAAGCATTTGGCGCATAATCTCGGAAACCTGCTGTTGCTTGGAAAGATTGGTGTTTTCCATAATAGACGCAACGCGAGCAGTAGACTCCTTCTGTTG\\n', '+\\n', '-ACCBE@<@<CF9F8,,C-6C@D,,=8,6;,,C,,C,,,<CFEFDE:,7F=EAF9,,C<C<C,CFDF,@E9C,>FE@BEFFFAF9,,A=FB8FCACF@FGDEEEEEFE,+8C?FFCF0,99,9<,C?<?B,9=4,9AAA?<<BEG,E+BFG,,+8,@EFGEF,@F7?@D;+@=,@8DA=D9@,<,BF8D,+@3A,+3B=>@:+,@C99,>FGCEC?7*08@<*;;CGGB>59A*;62?AEF*8*;()621(7F73?6578+;?+9?27?C)7*8),73516,49?<996=442<>496F2)\\n']\n"
     ]
    }
   ],
   "source": [
    "# Troubleshooting\n",
    "f=open(\"./SeqData/read1.fq\")\n",
    "lines = f.readlines()\n",
    "print lines[1:100]"
   ]
  },
  {
   "cell_type": "code",
   "execution_count": 139,
   "metadata": {
    "collapsed": false
   },
   "outputs": [
    {
     "data": {
      "text/html": [
       "<div style=\"max-height:1000px;max-width:1500px;overflow:auto;\">\n",
       "<table border=\"1\" class=\"dataframe\">\n",
       "  <thead>\n",
       "    <tr style=\"text-align: right;\">\n",
       "      <th></th>\n",
       "      <th>i1</th>\n",
       "      <th>i2</th>\n",
       "      <th>SampleID</th>\n",
       "    </tr>\n",
       "  </thead>\n",
       "  <tbody>\n",
       "    <tr>\n",
       "      <th>1</th>\n",
       "      <td> ACTATCTG</td>\n",
       "      <td> GACATAGT</td>\n",
       "      <td> S232</td>\n",
       "    </tr>\n",
       "    <tr>\n",
       "      <th>2</th>\n",
       "      <td> ACTATCTG</td>\n",
       "      <td> ACGCTACT</td>\n",
       "      <td> S233</td>\n",
       "    </tr>\n",
       "    <tr>\n",
       "      <th>3</th>\n",
       "      <td> ACTATCTG</td>\n",
       "      <td> ACTCACTG</td>\n",
       "      <td> S234</td>\n",
       "    </tr>\n",
       "    <tr>\n",
       "      <th>4</th>\n",
       "      <td> ACTATCTG</td>\n",
       "      <td> TGAGTACG</td>\n",
       "      <td> S236</td>\n",
       "    </tr>\n",
       "    <tr>\n",
       "      <th>5</th>\n",
       "      <td> ACTATCTG</td>\n",
       "      <td> CTGCGTAG</td>\n",
       "      <td> S237</td>\n",
       "    </tr>\n",
       "    <tr>\n",
       "      <th>6</th>\n",
       "      <td> ACTATCTG</td>\n",
       "      <td> TAGTCTCC</td>\n",
       "      <td> S238</td>\n",
       "    </tr>\n",
       "    <tr>\n",
       "      <th>7</th>\n",
       "      <td> ACTATCTG</td>\n",
       "      <td> CGAGCGAC</td>\n",
       "      <td> S239</td>\n",
       "    </tr>\n",
       "    <tr>\n",
       "      <th>8</th>\n",
       "      <td> ACTATCTG</td>\n",
       "      <td> ACTACGAC</td>\n",
       "      <td> S241</td>\n",
       "    </tr>\n",
       "  </tbody>\n",
       "</table>\n",
       "<p>8 rows × 3 columns</p>\n",
       "</div>"
      ],
      "text/plain": [
       "         i1        i2 SampleID\n",
       "1  ACTATCTG  GACATAGT     S232\n",
       "2  ACTATCTG  ACGCTACT     S233\n",
       "3  ACTATCTG  ACTCACTG     S234\n",
       "4  ACTATCTG  TGAGTACG     S236\n",
       "5  ACTATCTG  CTGCGTAG     S237\n",
       "6  ACTATCTG  TAGTCTCC     S238\n",
       "7  ACTATCTG  CGAGCGAC     S239\n",
       "8  ACTATCTG  ACTACGAC     S241\n",
       "\n",
       "[8 rows x 3 columns]"
      ]
     },
     "execution_count": 139,
     "metadata": {},
     "output_type": "execute_result"
    }
   ],
   "source": [
    "# locating the tab delimited file with the index reads and the sample IDS\n",
    "# Note that 0,1,2,3,4 are just row numbers\n",
    "# I need to make this file in excel\n",
    "# This step is making that information into a data frame (using panda), called df_map\n",
    "# Note that the first items are identified by a \"0\" (Python uses a 0-index)\n",
    "# Also note that the first column was made up by the program - not present in the initial file.\n",
    "df_map = pd.read_csv(\"./SeqData/INDEX.txt\", delimiter=\"\\t\", usecols=[0,1,2], names=[\"i1\",\"i2\",\"SampleID\"])\n",
    "# prints the head of the dataframe we made called df_map\n",
    "df_map[1:9]"
   ]
  },
  {
   "cell_type": "code",
   "execution_count": 38,
   "metadata": {
    "collapsed": false
   },
   "outputs": [
    {
     "name": "stdout",
     "output_type": "stream",
     "text": [
      "gacatagttcatcgag\n"
     ]
    }
   ],
   "source": [
    "# Just a test making something lowercase. Don't need to run.\n",
    "t = \"GACATAGTTCATCGAG\"\n",
    "t = t.lower()\n",
    "print t"
   ]
  },
  {
   "cell_type": "code",
   "execution_count": 39,
   "metadata": {
    "collapsed": false
   },
   "outputs": [
    {
     "name": "stdout",
     "output_type": "stream",
     "text": [
      "False\n",
      "False\n"
     ]
    }
   ],
   "source": [
    "# Also don't need to run this.\n",
    "# But it didn't work...\n",
    "print t[:8] in set(df_map.i1)\n",
    "print t[8:] in set(df_map.i2)"
   ]
  },
  {
   "cell_type": "code",
   "execution_count": 140,
   "metadata": {
    "collapsed": false
   },
   "outputs": [
    {
     "name": "stdout",
     "output_type": "stream",
     "text": [
      "CGTGAGTGTATAGCGA S244\n"
     ]
    }
   ],
   "source": [
    "# This is making ...\n",
    "# map calls a function (lambda) for a sequence of items (zipped)\n",
    "# lambda creates a function, into which x is input. \n",
    "# Here, we are getting whatever x was at 0, 1, and 2 (so the first three columns of our data), and adding the first two\n",
    "# together (our indicies), and maintaining the second one (our sample IDs).\n",
    "# \"Zipping\" links together three elements of the same length, effectively creating an array of vectors\n",
    "# So, here, we have linked together the columns in our mapping dataframe, df_map.\n",
    "# Basically, we link together the three columns, using zip, and then we concatenate the first two values\n",
    "# at each place and keep the last one separate, using the lambda function we created here.\n",
    "# This happens using the map function - the function called is defined by lambda, the sequence of items we look at \n",
    "# is defined by the zip function\n",
    "# Dict is a data structure in Python, the \"dictionary\"\n",
    "# A dictionary has unique keys that are linked to other data\n",
    "# Here we are using our map output to make the dictionary. The map created two values - our combined indicies and ID.\n",
    "# Thus, the map_d.keys at a given position will be the combined index primers,\n",
    "# and the map_d returned when the map_d.keys at a given position is input, will be our sample ID.\n",
    "map_d = dict(map(lambda x: (x[0] + x[1], x[2]), zip(df_map.i1, df_map.i2, df_map.SampleID)))\n",
    "print map_d.keys()[100], map_d[map_d.keys()[100]]"
   ]
  },
  {
   "cell_type": "code",
   "execution_count": 141,
   "metadata": {
    "collapsed": false
   },
   "outputs": [
    {
     "data": {
      "text/plain": [
       "True"
      ]
     },
     "execution_count": 141,
     "metadata": {},
     "output_type": "execute_result"
    }
   ],
   "source": [
    "# Troubleshooting\n",
    "\"GTCAGATAACTCACTG\" in map_d"
   ]
  },
  {
   "cell_type": "code",
   "execution_count": 119,
   "metadata": {
    "collapsed": false
   },
   "outputs": [
    {
     "name": "stdout",
     "output_type": "stream",
     "text": [
      "S041\n"
     ]
    }
   ],
   "source": [
    "# Troubleshooting\n",
    "print map_d[\"GTCAGATAACTCACTG\"]"
   ]
  },
  {
   "cell_type": "code",
   "execution_count": 10,
   "metadata": {
    "collapsed": false
   },
   "outputs": [
    {
     "data": {
      "text/plain": [
       "<ScreedDB, '/var/seq_data/RNASIP/pear_merged-2014-01-30.assembled.fastq_screed'>"
      ]
     },
     "execution_count": 10,
     "metadata": {},
     "output_type": "execute_result"
    }
   ],
   "source": [
    "# I should already have the output from this in the folder from our pear_merged data activity from before.\n",
    "screed.read_fastq_sequences(\"./SeqData/pear_merged-2014-03-25.assembled.fastq\")"
   ]
  },
  {
   "cell_type": "code",
   "execution_count": 142,
   "metadata": {
    "collapsed": false
   },
   "outputs": [],
   "source": [
    "# Creates the screed database\n",
    "db = screed.ScreedDB(\"./SeqData/pear_merged-2014-03-25.assembled.fastq_screed\")"
   ]
  },
  {
   "cell_type": "code",
   "execution_count": 102,
   "metadata": {
    "collapsed": false
   },
   "outputs": [
    {
     "data": {
      "text/plain": [
       "'GTCAGATAACTCACTG'"
      ]
     },
     "execution_count": 102,
     "metadata": {},
     "output_type": "execute_result"
    }
   ],
   "source": [
    "# Troubleshooting\n",
    "record = db[db.keys()[123924]]\n",
    "ir1db[record[\"name\"]][\"sequence\"] + ir2db[record[\"name\"]][\"sequence\"]\n",
    "# Ok, some of these work.\n",
    "# e.g., that sequence is S041."
   ]
  },
  {
   "cell_type": "code",
   "execution_count": 95,
   "metadata": {
    "collapsed": false
   },
   "outputs": [
    {
     "data": {
      "text/plain": [
       "{'id': 123924, 'sequence': 'TACGTAGGGTGCGAGCGTTAATCGGAATTACTGGGCGTAAAGCGTGCGCAGGCGGTTATGCAAGACAGATGTGAAATCCCCGGGCTCAACCTGGGAACTGCATTTGTGACTGCATGGCTGGAGTGCGGCAGAGGGGGATGGAATTCCGCGTGTAGCAGTGAAATGCGTAGATATGCGGAGGAACACCGATGGCGAAGGCAATCCCCTGGGCCTGCACTGACGCTCATGCACGAAAGCGTGGGGAGCAAACAGGATTAGATACCCTGGTAGTCCACGCCCTAAACGATGTCAACTGGTTGTTGGGAAGGTTCCTTCTCAGTAACGTAGCTAACGCGTGAAGTTGACCGCCTGGGGAGTACGGCCGCAAGGTTG', 'annotations': '1:N:0:0', 'name': 'M01032:142:000000000-A88P9:1:1101:20850:9306', 'accuracy': 'CCCCCGGGGGGGGFFGGFGDFGFFEFFGGGFGGGGGGGGFFFGGFGGGDGGDGGGGGGGGGGGGGFGGGGGGbhaWXW]NYYNdWMY\\\\_b^Veb\\\\OSOO`O`ZGZZNOSRN[G\\\\RNTKOYXW\\\\_cbX^Y``Xd]`XZ]bbg]\\\\a]SVd\\\\ak_ijed^jhhgkkkljkgcYbeaf__d`[XiZJYcdbleZhcfhaihl^[T]j_lhhclglljihFckddf^`dV[\\\\kiKZcgZ\\\\NYcTOOXcUh_e\\\\i_UX`UEW]dNYZhmiSbllXlgZRclhd``_VYWXNXbi[^bbO\\\\YNGZ^d\\\\GGGGGGGF<CFGGGFFDEGFFFFGEDGGGGGGGGGGGGGGGGFCCFECGGGGGFGGGEGGFFGGGGCCCCC'}"
      ]
     },
     "execution_count": 95,
     "metadata": {},
     "output_type": "execute_result"
    }
   ],
   "source": [
    "# Troubleshooting\n",
    "record"
   ]
  },
  {
   "cell_type": "code",
   "execution_count": 121,
   "metadata": {
    "collapsed": false
   },
   "outputs": [
    {
     "data": {
      "text/plain": [
       "'S041'"
      ]
     },
     "execution_count": 121,
     "metadata": {},
     "output_type": "execute_result"
    }
   ],
   "source": [
    "# Troubleshooting\n",
    "# index_concat = ir1db[record[\"name\"]][\"sequence\"] + ir2db[record[\"name\"]][\"sequence\"]\n",
    "map_d[index_concat]\n",
    "# map_d[\"GTCAGATAACTCACTG\"]"
   ]
  },
  {
   "cell_type": "code",
   "execution_count": 143,
   "metadata": {
    "collapsed": false
   },
   "outputs": [
    {
     "name": "stdout",
     "output_type": "stream",
     "text": [
      "Unable to assign 2578322 reads to samples\n"
     ]
    }
   ],
   "source": [
    "# Re-started at 11:32 PM, finished by 4:20AM\n",
    "# I shouldn't've stopped it - it was probably running fine. So long as there is a star, it is working\n",
    "# The \"Kernel busy\" message button just shows up the first time you start the process. If you reload, it doesn't reappear.\n",
    "\n",
    "# Did a bunch of troubleshooting, figured some things out, probably was all fine, maybe had index reads in wrong order\n",
    "# In a short trial, generated 17% rejected reads (not 100% match). This is fine, probably. After all, there are 16M seqs.\n",
    "# That rate would leave about 13.7M sequences. Then, more QC after that.\n",
    "# Re-started to run again at 6:20AM, finished by 8:15AM.\n",
    "\n",
    "# Sets a counting index and starts the number of unassigned reads at zero.\n",
    "# Defines our output as our fastq file.\n",
    "# Sets up a counter function, which is actually like a dictionary.\n",
    "counter = 0\n",
    "unassigned = 0\n",
    "cnt = Counter()\n",
    "fn = \"./SeqData/pear_merged-2014-03-25.assembled.demult.fastq\"\n",
    "# I think we open up a new file, created, as we called it under fn, [What is \"w\"? \"w\" means we are opeing the file to \"w\"rite]\n",
    "with open(fn, \"w\") as out:\n",
    "    # for each record in our database that we go through iteratively...\n",
    "  for rec in db.itervalues(): \n",
    "        # We make a concatenated index of the ir1db and ir2db that we made earlier, joining the name and sequence\n",
    "        index_concat = ir1db[rec[\"name\"]][\"sequence\"] + ir2db[rec[\"name\"]][\"sequence\"]\n",
    "        # We create a new name from our map_d file created above (the dictionary) using the dictionary to look up what\n",
    "        # it should be called, based on an input of this new name we made (making sure it's all lowercase)\n",
    "        # This should spit out the ID of the sample associated with these indicies, which we then join to\n",
    "        # an underscore, and the current counter value (which number sequence is this?)\n",
    "        try:\n",
    "            new_name = map_d[index_concat] + \"_\" + str(counter) #case sensitive\n",
    "            # If we couldn't find the index name in our dictionary map file, we say it was unassigned, and tally it.\n",
    "        except KeyError:\n",
    "            unassigned += 1\n",
    "            continue\n",
    "            # Resetting to continue\n",
    "        counter += 1\n",
    "        # map_d[index_etc.lower] should give us the sample name we assigned to that index set.\n",
    "        # We feed that into the counter - not quite sure what happens\n",
    "        # We also increase [what?] by 1.\n",
    "        cnt[map_d[index_concat]] += 1 #case sensitive\n",
    "        # We define s and q as the sequecnce and accuracy values (from screed?) \n",
    "        s, q = rec[\"sequence\"], rec[\"accuracy\"]\n",
    "        # The output written to the file we called fn will be all this..not quite sure what's going on.\n",
    "        out.write(\"@%s orig_name=%s\\n%s\\n+\\n%s\\n\"%(new_name,rec[\"name\"],s,q))\n",
    "        # Reports how many reads didn't match the mapping file. Note that we require an exact match here.\n",
    "print \"Unable to assign %s reads to samples\"%unassigned\n",
    "# The final output should be still a fastq file but now with the sample ID attached.\n",
    "# For now it is called pear_merged-2014-03-25.assembled.demult.fastq"
   ]
  },
  {
   "cell_type": "code",
   "execution_count": 132,
   "metadata": {
    "collapsed": false
   },
   "outputs": [
    {
     "data": {
      "text/plain": [
       "115478"
      ]
     },
     "execution_count": 132,
     "metadata": {},
     "output_type": "execute_result"
    }
   ],
   "source": [
    "# Troubleshooting\n",
    "counter"
   ]
  },
  {
   "cell_type": "code",
   "execution_count": 160,
   "metadata": {
    "collapsed": false
   },
   "outputs": [
    {
     "data": {
      "image/png": "[encoded data removed]",
      "text/plain": [
       "<matplotlib.figure.Figure at 0xf404ac50>"
      ]
     },
     "metadata": {},
     "output_type": "display_data"
    }
   ],
   "source": [
    "# Makes a plot of read counts organized by index\n",
    "# Seems like it worked okay - lowest 12 reads <50,000 counts.\n",
    "X = np.arange(len(cnt.keys()))\n",
    "Y = [v for k, v in cnt.most_common()]\n",
    "fig = plt.figure()\n",
    "fig.set_size_inches((18,8))\n",
    "ax = fig.add_subplot(111)\n",
    "bars = ax.bar(X, Y, width=0.5)\n",
    "xlims = ax.set_xlim((X.min(), X.max()))\n",
    "xt = ax.set_xticks(X)\n",
    "\n",
    "xtl = ax.set_xticklabels([k for k, v in cnt.most_common()], rotation=90, ha=\"center\", size=8)\n"
   ]
  },
  {
   "cell_type": "code",
   "execution_count": 165,
   "metadata": {
    "collapsed": false
   },
   "outputs": [
    {
     "data": {
      "text/plain": [
       "120"
      ]
     },
     "execution_count": 165,
     "metadata": {},
     "output_type": "execute_result"
    }
   ],
   "source": [
    "# Making sure all 120 samples did return something. That's actually great!\n",
    "len(xt)"
   ]
  }
 ],
 "metadata": {
  "kernelspec": {
   "display_name": "Python 2",
   "language": "python",
   "name": "python2"
  },
  "language_info": {
   "codemirror_mode": {
    "name": "ipython",
    "version": 2
   },
   "file_extension": ".py",
   "mimetype": "text/x-python",
   "name": "python",
   "nbconvert_exporter": "python",
   "pygments_lexer": "ipython2",
   "version": "2.7.9"
  }
 },
 "nbformat": 4,
 "nbformat_minor": 0
}
