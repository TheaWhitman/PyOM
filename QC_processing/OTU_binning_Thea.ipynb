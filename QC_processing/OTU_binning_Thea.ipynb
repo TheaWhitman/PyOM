{
 "cells": [
  {
   "cell_type": "code",
   "execution_count": 13,
   "metadata": {
    "collapsed": false
   },
   "outputs": [],
   "source": [
    "# Imports a parser from cogent\n",
    "from cogent.parse.fasta import MinimalFastaParser as parse"
   ]
  },
  {
   "cell_type": "code",
   "execution_count": 5,
   "metadata": {
    "collapsed": false
   },
   "outputs": [],
   "source": [
    "# applies for the whole segment\n",
    "nprocs = 10"
   ]
  },
  {
   "cell_type": "code",
   "execution_count": 4,
   "metadata": {
    "collapsed": false
   },
   "outputs": [
    {
     "name": "stdout",
     "output_type": "stream",
     "text": [
      ">S133_53\r\n",
      "TACGTAGGGGGCAAGCGTTGTCCGGAATTATTGGGCGTAAAGGGCGCGTAGGCGGTTCGGTAAGTCACCTGTGAAACCTCTGGGCTCAACTCAGGGCCTGCAGGCGAAACTGCCGTGCTGGAGTGTGGGAGAGGTGCGTGGAATTCCCGGTGTAGCGGTGAAATGCGTAGATATCGGGAGGAACACCTGTGGCGAAAGCGGCGCACTGGACCACAACTGACGCTGAGGCGCGAAAGCTAGGGGAGCAAACAGGATTAGATACCCTGGTAGTCCTAGCCCTAAACGATGGATGCTTGGTGTGTCGGGTACCCAATCCCGACGTGCCGAAGCTAACGCGATAAGCATCCCGCCTGGGGAGTACGGTCGCAAGGCTG\r\n",
      ">S009_54\r\n",
      "TACGAAGGTGGCAAGCGTTATTCGGATTTACTGGGCGTACAGGGAGCGTAGGCGGTTCGGTAAGCCCTTTGTGAAATCTTCAGGCTTAACCTGGAACAGTCGGAGGGGACTGCCGGGCTAGAGGACGGGAGAGGAGCGCGGAATTCCCGGTGTAGCGGTGAAATGCGTAGAGATCGGGAGGAAGGCCGGTGGCGAAGGCGGCGCTCTGGAACGTTTCTGATGCTGAGGCTCGAAAGCGTGGGGAGCAAACAGGATTAGATACCCTGGTAGTCCACGCCTTAAACTATGAATACTAAGTGTCGGCGGGTTACCGCCGGTGCCGCAGCTAACGCATTAAGTATTCCGCCTGGGAAGTACGGCCGCAAGGTTG\r\n",
      ">S026_79\r\n",
      "TACGAAGGGGGCTAGCGTTGCTCGGAATCACTGGGCGTAAAGGGTGCGTAGGCGGGTCTTTAAGTCAGGGGTGAAATCCTGGAGCTCAACTCCAGAACTGCCTTTGATACTGAAGATCTTGAGTTCGGGAGAGGTGAGTGGAACTGCGAGTGTAGAGGTGAAATTCGTAGATATTCGCAAGAACACCAGTGGCGAAGGCGGCTCACTGGCCCGATACTGACGCTGAGGCACGAAAGCGTGGGGAGCAAACAGGATTAGATACCCTGGTAGTCCACGCCGTAAACGATGAATGCCAGCCGTTAGTGGGTTTACTCACTAGTGGCGCAGCTAACGCTTTAAGCATTCCGCCTGGGGAGTACGGTCGCAAGATTA\r\n",
      ">S204_910\r\n",
      "TACGAAGGGGGCTAGCGTTGCTCGGAATCACTGGGCGTAAAGGGTGCGTAGGCGGGTCTTTAAGTCAGGGGTGAAATCCTGGAGCTCAACTCCAGAACTGCCTTTGATACTGAAGATCTTGAGTTCGGGAGAGGTGAGTGGAACTGCGAGTGTAGAGGTGAAATTCGTAGATATTCGCAAGAACACCAGTGGCGAAGGCGGCTCACTGGCCCGATACTGACGCTGAGGCACGAAAGCGTGGGGAGCAAACAGGATTAGATACCCTGGTAGTCCACGCCGTAAACGATGAATGCCAGCCGTTAGTGGGTTTACTCACTAGTGGCGCAGCTAACGCTTTAAGCATTCCGCCTGGGGAGTACGGTCGCAAGATTA\r\n",
      ">S247_1753\r\n",
      "TACGAAGGGGGCTAGCGTTGCTCGGAATCACTGGGCGTAAAGGGTGCGTAGGCGGGTCTTTAAGTCAGGGGTGAAATCCTGGAGCTCAACTCCAGAACTGCCTTTGATACTGAAGATCTTGAGTTCGGGAGAGGTGAGTGGAACTGCGAGTGTAGAGGTGAAATTCGTAGATATTCGCAAGAACACCAGTGGCGAAGGCGGCTCACTGGCCCGATACTGACGCTGAGGCACGAAAGCGTGGGGAGCAAACAGGATTAGATACCCTGGTAGTCCACGCCGTAAACGATGAATGCCAGCCGTTAGTGGGTTTACTCACTAGTGGCGCAGCTAACGCTTTAAGCATTCCGCCTGGGGAGTACGGTCGCAAGATTA\r\n"
     ]
    }
   ],
   "source": [
    "# Checking out data file.\n",
    "# This file was created using the QC_basic notebook.\n",
    "!head data/finalQC.fasta"
   ]
  },
  {
   "cell_type": "code",
   "execution_count": 10,
   "metadata": {
    "collapsed": false
   },
   "outputs": [],
   "source": [
    "%%bash\n",
    "# Running the seq separation on mothur instead\n",
    "\n",
    "mothur \"#unique.seqs(fasta=data/finalQC.fasta)\" > /dev/null"
   ]
  },
  {
   "cell_type": "code",
   "execution_count": 11,
   "metadata": {
    "collapsed": false
   },
   "outputs": [],
   "source": [
    "# Making a dictionary of the names files, splitting it into the first (ID) and second (commas list of all seqs in it)\n",
    "# Then it counts their lengths and saves it in the dictionary\n",
    "\n",
    "counts = {}\n",
    "\n",
    "with open(\"data/finalQC.names\") as f:\n",
    "    for line in f:\n",
    "        seedID, seqIDs = line.split(\"\\t\")\n",
    "        count = len(seqIDs.split(\",\"))\n",
    "        counts[seedID] = count        "
   ]
  },
  {
   "cell_type": "code",
   "execution_count": 14,
   "metadata": {
    "collapsed": false
   },
   "outputs": [],
   "source": [
    "# Adds the counts from this dictionary to our finalQC.unique file so it looks like a usearch file with \"size=XXX\"\n",
    "\n",
    "with open(\"data/finalQC.unique.usearch_names.fasta\", \"w\") as f:\n",
    "    for n, s in parse(open(\"data/finalQC.unique.fasta\")):\n",
    "        f.write(\">%s;size=%s;\\n%s\\n\"%(n,counts[n],s))  "
   ]
  },
  {
   "cell_type": "code",
   "execution_count": 15,
   "metadata": {
    "collapsed": false
   },
   "outputs": [
    {
     "name": "stdout",
     "output_type": "stream",
     "text": [
      ">S133_53;size=1;\r\n",
      "TACGTAGGGGGCAAGCGTTGTCCGGAATTATTGGGCGTAAAGGGCGCGTAGGCGGTTCGGTAAGTCACCTGTGAAACCTCTGGGCTCAACTCAGGGCCTGCAGGCGAAACTGCCGTGCTGGAGTGTGGGAGAGGTGCGTGGAATTCCCGGTGTAGCGGTGAAATGCGTAGATATCGGGAGGAACACCTGTGGCGAAAGCGGCGCACTGGACCACAACTGACGCTGAGGCGCGAAAGCTAGGGGAGCAAACAGGATTAGATACCCTGGTAGTCCTAGCCCTAAACGATGGATGCTTGGTGTGTCGGGTACCCAATCCCGACGTGCCGAAGCTAACGCGATAAGCATCCCGCCTGGGGAGTACGGTCGCAAGGCTG\r\n",
      ">S009_54;size=1;\r\n",
      "TACGAAGGTGGCAAGCGTTATTCGGATTTACTGGGCGTACAGGGAGCGTAGGCGGTTCGGTAAGCCCTTTGTGAAATCTTCAGGCTTAACCTGGAACAGTCGGAGGGGACTGCCGGGCTAGAGGACGGGAGAGGAGCGCGGAATTCCCGGTGTAGCGGTGAAATGCGTAGAGATCGGGAGGAAGGCCGGTGGCGAAGGCGGCGCTCTGGAACGTTTCTGATGCTGAGGCTCGAAAGCGTGGGGAGCAAACAGGATTAGATACCCTGGTAGTCCACGCCTTAAACTATGAATACTAAGTGTCGGCGGGTTACCGCCGGTGCCGCAGCTAACGCATTAAGTATTCCGCCTGGGAAGTACGGCCGCAAGGTTG\r\n",
      ">S026_79;size=35877;\r\n",
      "TACGAAGGGGGCTAGCGTTGCTCGGAATCACTGGGCGTAAAGGGTGCGTAGGCGGGTCTTTAAGTCAGGGGTGAAATCCTGGAGCTCAACTCCAGAACTGCCTTTGATACTGAAGATCTTGAGTTCGGGAGAGGTGAGTGGAACTGCGAGTGTAGAGGTGAAATTCGTAGATATTCGCAAGAACACCAGTGGCGAAGGCGGCTCACTGGCCCGATACTGACGCTGAGGCACGAAAGCGTGGGGAGCAAACAGGATTAGATACCCTGGTAGTCCACGCCGTAAACGATGAATGCCAGCCGTTAGTGGGTTTACTCACTAGTGGCGCAGCTAACGCTTTAAGCATTCCGCCTGGGGAGTACGGTCGCAAGATTA\r\n",
      ">S118_104;size=1967;\r\n",
      "TACGAAGGGGGCTAGCGTTGCTCGGAATGACTGGGCGTAAAGGGCGCGTAGGCGGTTTGTACAGTCAGGTGTGAAATTCCCGGGCTCAACCTGGGGGCTGCACTTGATACGTATGGACTGGAGTGGGGAAGAGGGTCGTGGAATTCCCAGTGTAGAGGTGAAATTCGTAGATATTGGGAAGAACACCGGTGGCGAAGGCGGCGACCTGGTCCTTGACTGACGCTGAGGCGCGAAAGCGTGGGGAGCAAACAGGATTAGATACCCTGGTAGTCCACGCCGTAAACGATGTGCGCTGGATGTTGGGCGACGCAGTCGCTCAGTGTCGCAGCTAACGCGCTAAGCGCACCGCCTGGGGAGTACGGCCGCAAGGTTG\r\n",
      ">S147_106;size=3019;\r\n",
      "TACGGAGGGTGCAAGCGTTATCCGGATTTATTGGGTTTAAAGGGTCCGTAGGCGGACTCGTAAGTCAGTGGTGAAATCTCACAGCTTAACTGTGAAACTGCCATTGATACTGCGGGTCTTGAGTGTTGTTGAAGTAGCTGGAATAAGTAGTGTAGCGGTGAAATGCATAGATATTACTTAGAACACCAATTGCGAAGGCAGGTTACTAAGCAACAACTGACGCTGATGGACGAAAGCGTGGGGAGCGAACAGGATTAGATACCCTGGTAGTCCACGCCGTAAACGATGCTAACTCGTTTTTGGGCTTTCGGGTTCAGAGACTAAGCGAAAGTGATAAGTTAGCCACCTGGGGAGTACGTTCGCAAGAATG\r\n"
     ]
    }
   ],
   "source": [
    "!head data/finalQC.unique.usearch_names.fasta"
   ]
  },
  {
   "cell_type": "code",
   "execution_count": 7,
   "metadata": {
    "collapsed": false
   },
   "outputs": [
    {
     "name": "stdout",
     "output_type": "stream",
     "text": [
      "3.8G\tdata/finalQC.fasta\r\n"
     ]
    }
   ],
   "source": [
    "# Chuck looking to see how many Gb this file is.\n",
    "!du -h data/finalQC.fasta"
   ]
  },
  {
   "cell_type": "code",
   "execution_count": 16,
   "metadata": {
    "collapsed": false
   },
   "outputs": [
    {
     "name": "stdout",
     "output_type": "stream",
     "text": [
      "usearch v7.0.1090_i86linux32, 4.0Gb RAM (132Gb total), 40 cores\n",
      "(C) Copyright 2013 Robert C. Edgar, all rights reserved.\n",
      "http://drive5.com/usearch\n",
      "\n",
      "Licensed to: chuck.peperanney@gmail.com\n",
      "\n",
      "00:10 2.0Gb  100.0% Reading data/finalQC.unique.usearch_names.fasta\n",
      "00:19 2.4Gb 4697604 (4.7M) uniques, avg cluster 1.0, median 1, max 1\n",
      "^C\n"
     ]
    }
   ],
   "source": [
    "# This runs out of memory.\n",
    "!usearch -derep_fulllength data/finalQC.fasta -output data/finalQC.unique.fasta -sizeout -threads 20"
   ]
  },
  {
   "cell_type": "code",
   "execution_count": 17,
   "metadata": {
    "collapsed": false
   },
   "outputs": [
    {
     "name": "stdout",
     "output_type": "stream",
     "text": [
      "usearch v7.0.1090_i86linux32, 4.0Gb RAM (132Gb total), 40 cores\n",
      "(C) Copyright 2013 Robert C. Edgar, all rights reserved.\n",
      "http://drive5.com/usearch\n",
      "\n",
      "Licensed to: chuck.peperanney@gmail.com\n",
      "\n",
      "00:10 2.0Gb  100.0% Reading data/finalQC.unique.usearch_names.fasta\n",
      "00:10 2.0Gb Getting sizes                                          \n",
      "00:19 2.0Gb Sorting 581709 sequences\n",
      "00:22 2.0Gb  100.0% Writing data/finalQC.unique_sorted.fasta\n"
     ]
    }
   ],
   "source": [
    "# Sequences are sorted by size\n",
    "# Here the size of clusters - we are excluding the singletons here\n",
    "# You would change minsize to 1 if you wanted to include singletons\n",
    "# Or, you know, just not do this step.\n",
    "# But you should just get rid of them.\n",
    "!usearch -sortbysize data/finalQC.unique.usearch_names.fasta -output data/finalQC.unique_sorted.fasta -minsize 2"
   ]
  },
  {
   "cell_type": "code",
   "execution_count": 18,
   "metadata": {
    "collapsed": false
   },
   "outputs": [
    {
     "name": "stdout",
     "output_type": "stream",
     "text": [
      ">S139_760;size=37566;\r\n",
      "TACGGAGGGGGCTAGCGTTGTTCGGAATTACTGGGCGTAAAGCGCACGTAGGCGGCTTTGTAAGTTAGAGGTGAAAGCCC\r\n",
      "GGGGCTCAACTCCGGAATTGCCTTTAAGACTGCATCGCTAGAATTGTGGAGAGGTAAGTGGAATTCCGAGTGTAGAGGTG\r\n",
      "AAATTCGTAGATATTCGGAAGAACACCAGTGGCGAAGGCGACTTACTGGACACATATTGACGCTGAGGTGCGAAAGCGTG\r\n",
      "GGGAGCAAACAGGATTAGATACCCTGGTAGTCCACGCCGTAAACGATGATGACTAGCTGTCCGGGCACTTAGTGCTTGGG\r\n",
      "TGGCGCAGCTAACGCGTTAAGTCATCCGCCTGGGGAGTACGGCCGCAAGGTTA\r\n",
      ">S026_79;size=35877;\r\n",
      "TACGAAGGGGGCTAGCGTTGCTCGGAATCACTGGGCGTAAAGGGTGCGTAGGCGGGTCTTTAAGTCAGGGGTGAAATCCT\r\n",
      "GGAGCTCAACTCCAGAACTGCCTTTGATACTGAAGATCTTGAGTTCGGGAGAGGTGAGTGGAACTGCGAGTGTAGAGGTG\r\n",
      "AAATTCGTAGATATTCGCAAGAACACCAGTGGCGAAGGCGGCTCACTGGCCCGATACTGACGCTGAGGCACGAAAGCGTG\r\n"
     ]
    }
   ],
   "source": [
    "# Checking data\n",
    "# You can see here, the first two sequences we saw above are now gone.\n",
    "!head data/finalQC.unique_sorted.fasta"
   ]
  },
  {
   "cell_type": "code",
   "execution_count": 19,
   "metadata": {
    "collapsed": false
   },
   "outputs": [
    {
     "name": "stdout",
     "output_type": "stream",
     "text": [
      "usearch v7.0.1090_i86linux32, 4.0Gb RAM (132Gb total), 40 cores\n",
      "(C) Copyright 2013 Robert C. Edgar, all rights reserved.\n",
      "http://drive5.com/usearch\n",
      "\n",
      "Licensed to: chuck.peperanney@gmail.com\n",
      "\n",
      "05:17 218Mb  100.0% 8828 OTUs\n",
      "                             \n",
      "Input seqs  581709 (581.7k)\n",
      "      OTUs  8828\n",
      "   Members  442908 (442.9k)\n",
      "  Chimeras  129973 (130.0k)\n",
      "   Max mem  218Mb\n",
      "      Time  05:17\n",
      "Throughput  1835.0 seqs/sec.\n",
      "\n"
     ]
    }
   ],
   "source": [
    "# This is the clustering command.\n",
    "# Default is 97% minimum ID.\n",
    "# Not recommended to use more than 97%.\n",
    "# Creates the centroids, or \"seeds\"\n",
    "# Then you can take them out\n",
    "!usearch -cluster_otus data/finalQC.unique_sorted.fasta -otus data/otus.fasta"
   ]
  },
  {
   "cell_type": "code",
   "execution_count": 1,
   "metadata": {
    "collapsed": false
   },
   "outputs": [
    {
     "name": "stdout",
     "output_type": "stream",
     "text": [
      "/bin/sh: 1: cannot create data/otusn.fasta: Directory nonexistent\r\n",
      "/bin/sh: 1: fasta_number.py: not found\r\n"
     ]
    }
   ],
   "source": [
    "# Making another file\n",
    "# Figure this out (what is this?)\n",
    "# This is a script (fasta_number.py) that replaces fasta names with XXX1, XXX2, etc.\n",
    "# In our case, it is replacing the names with OTU.1, OTU.2, etc., and outputs it into a file called otusn.fasta\n",
    "!/opt/bioinfo/edgar_python_scripts/fasta_number.py data/otus.fasta OTU. > data/otusn.fasta"
   ]
  },
  {
   "cell_type": "code",
   "execution_count": 25,
   "metadata": {
    "collapsed": false
   },
   "outputs": [
    {
     "name": "stdout",
     "output_type": "stream",
     "text": [
      ">OTU.1\r\n",
      "TACGGAGGgggCTAGCGTTGTTCGGAATTACTGGGCGTAAAGCGCACGTAGGCGGCTTTGTAAGTTAGAGGTGAAAGCCC\r\n",
      "GGGGCTCAACTCCGGAATTGCCTTTAAGACTGCATCGCTAGAATTGTGGAGAGGTAAGTGGAATTCCGAGTGTAGAGGTG\r\n",
      "AAATTCGTAGATATTCGGAAGAACACCAGTGGCGAAGGCGACTTACTGGACACATATTGACGCTGAGGTGCGAAAGCGTG\r\n",
      "GGGAGCAAACAGGATTAGATACCCTGGTAGTCCACGCCGTAAACGATGATGACTAGCTGTCCGGGCACTTAGTGCTTGGG\r\n",
      "TGGCGCAGCTAACGCGTTAAGTCATCCGCCTGGGGAGTACGGCCGCAAGGTTA\r\n",
      ">OTU.2\r\n",
      "TACGAAGGgggCTAGCGTTGCTCGGAATCACTGGGCGTAAAGGGTGCGTAGGCGGGTCTTTAAGTCAGGGGTGAAATCCT\r\n",
      "GGAGCTCAACTCCAGAACTGCCTTTGATACTGAAGATCTTGAGTTCGGGAGAGGTGAGTGGAACTGCGAGTGTAGAGGTG\r\n",
      "AAATTCGTAGATATTCGCAAGAACACCAGTGGCGAAGGCGGCTCACTGGCCCGATACTGACGCTGAGGCACGAAAGCGTG\r\n"
     ]
    }
   ],
   "source": [
    "!head data/otusn.fasta"
   ]
  },
  {
   "cell_type": "markdown",
   "metadata": {},
   "source": [
    "### Removing Chloroplast, Eukaryal, and Archaeal sequences"
   ]
  },
  {
   "cell_type": "code",
   "execution_count": 3,
   "metadata": {
    "collapsed": false
   },
   "outputs": [
    {
     "ename": "SyntaxError",
     "evalue": "invalid syntax (<ipython-input-3-df77c5e7b58d>, line 9)",
     "output_type": "error",
     "traceback": [
      "\u001b[1;36m  File \u001b[1;32m\"<ipython-input-3-df77c5e7b58d>\"\u001b[1;36m, line \u001b[1;32m9\u001b[0m\n\u001b[1;33m    -O 10 -i data/otusn.fasta -o data/otusn_tax\u001b[0m\n\u001b[1;37m        ^\u001b[0m\n\u001b[1;31mSyntaxError\u001b[0m\u001b[1;31m:\u001b[0m invalid syntax\n"
     ]
    }
   ],
   "source": [
    "# You do need to assign taxonomy in order to pull out the Euks., etc.\n",
    "# I could cp these files from the server to wherever I need them.\n",
    "# Input is your fasta file\n",
    "# Output is a fasta with taxonomy assinged (still working with unique seqs)\n",
    "# This didn't work first, because Chuck had to delete a \"jobs\" folder in the tmp directory.\n",
    "\n",
    "!parallel_assign_taxonomy_uclust.py \\\n",
    "-r data/97_Silva_111_rep_set_no_ambig.fasta \\\n",
    "-t data/Silva_111_taxa_map_full.txt \\\n",
    "-O 10 \\\n",
    "-i data/otusn.fasta \\\n",
    "-o data/otusn_tax"
   ]
  },
  {
   "cell_type": "code",
   "execution_count": 31,
   "metadata": {
    "collapsed": false
   },
   "outputs": [],
   "source": [
    "# This makes a file of what we want to remove\n",
    "# Could change this to pull out different groups.\n",
    "# These primers actually had good Archaeal targets - so, it would be okay to include them.\n",
    "!egrep \"Chloroplast|Eukaryota|Archaea|Unassigned|mitochondria\" \\\n",
    "data/otusn_tax/otusn_tax_assignments.txt \\\n",
    "| awk '{print $1}' > data/to_remove_tax.accnos"
   ]
  },
  {
   "cell_type": "code",
   "execution_count": 32,
   "metadata": {
    "collapsed": false
   },
   "outputs": [
    {
     "name": "stdout",
     "output_type": "stream",
     "text": [
      "1058 data/to_remove_tax.accnos\r\n"
     ]
    }
   ],
   "source": [
    "# wc is number of lines of the taxa that will be removed\n",
    "!wc -l data/to_remove_tax.accnos"
   ]
  },
  {
   "cell_type": "code",
   "execution_count": 33,
   "metadata": {
    "collapsed": false
   },
   "outputs": [
    {
     "name": "stdout",
     "output_type": "stream",
     "text": [
      "OTU.699\r\n",
      "OTU.272\r\n",
      "OTU.335\r\n",
      "OTU.595\r\n",
      "OTU.115\r\n",
      "OTU.392\r\n",
      "OTU.850\r\n",
      "OTU.327\r\n",
      "OTU.325\r\n",
      "OTU.690\r\n"
     ]
    }
   ],
   "source": [
    "# Looking at what you're removing\n",
    "!head data/to_remove_tax.accnos"
   ]
  },
  {
   "cell_type": "code",
   "execution_count": 39,
   "metadata": {
    "collapsed": true
   },
   "outputs": [
    {
     "name": "stdout",
     "output_type": "stream",
     "text": [
      "\u001b[H\u001b[2J\n",
      "\n",
      "\n",
      "\n",
      "\n",
      "\n",
      "mothur v.1.32.1\n",
      "Last updated: 10/16/2013\n",
      "\n",
      "by\n",
      "Patrick D. Schloss\n",
      "\n",
      "Department of Microbiology & Immunology\n",
      "University of Michigan\n",
      "pschloss@umich.edu\n",
      "http://www.mothur.org\n",
      "\n",
      "When using, please cite:\n",
      "Schloss, P.D., et al., Introducing mothur: Open-source, platform-independent, community-supported software for describing and comparing microbial communities. Appl Environ Microbiol, 2009. 75(23):7537-41.\n",
      "\n",
      "Distributed under the GNU General Public License\n",
      "\n",
      "Type 'help()' for information on the commands that are available\n",
      "\n",
      "Type 'quit()' to exit program\n",
      "\n",
      "\n",
      "\n",
      "mothur > remove.seqs(fasta=data/otusn.fasta, accnos=data/to_remove_tax.accnos)\n",
      "Removed 1058 sequences from your fasta file.\n",
      "\n",
      "Output File Names: \n",
      "data/otusn.pick.fasta\n",
      "\n",
      "\n",
      "mothur > quit()\n"
     ]
    }
   ],
   "source": [
    "%%bash\n",
    "# Remove.seqs command will actually remove these taxa\n",
    "mothur \"#remove.seqs(fasta=data/otusn.fasta, \\\n",
    "accnos=data/to_remove_tax.accnos)\" #> /dev/null"
   ]
  },
  {
   "cell_type": "markdown",
   "metadata": {},
   "source": [
    "### Mapping Reads"
   ]
  },
  {
   "cell_type": "code",
   "execution_count": 40,
   "metadata": {
    "collapsed": false
   },
   "outputs": [],
   "source": [
    "# Pulling out the sample identifier.\n",
    "# It is adding a portion to the finalQC file that has the barcode label.\n",
    "# Then we can use this later\n",
    "# Now we will see how these reads map to the defined centroids (after removing EuK, etc.)\n",
    "# Basically, we cut, cut, refined our fasta to make our OTU centroids.\n",
    "# THEN, we went back to our original QC'd total fasta file and will throw it all against these nicely defined seeds.\n",
    "# Anything that doesn't match, we won't keep.\n",
    "!awk -F\"_\" \\\n",
    "'BEGIN{OFS=\";\"}{ if ( substr($1,0,1) == \">\"){ print $0,\"barcodelabel=\",$1 } else { print $0 } }' \\\n",
    "data/finalQC.fasta | \\\n",
    "sed 's/;>//' > data/finalQC_usearchfmt.fasta"
   ]
  },
  {
   "cell_type": "code",
   "execution_count": 41,
   "metadata": {
    "collapsed": false
   },
   "outputs": [
    {
     "name": "stdout",
     "output_type": "stream",
     "text": [
      ">S133_53;barcodelabel=S133\r\n",
      "TACGTAGGGGGCAAGCGTTGTCCGGAATTATTGGGCGTAAAGGGCGCGTAGGCGGTTCGGTAAGTCACCTGTGAAACCTCTGGGCTCAACTCAGGGCCTGCAGGCGAAACTGCCGTGCTGGAGTGTGGGAGAGGTGCGTGGAATTCCCGGTGTAGCGGTGAAATGCGTAGATATCGGGAGGAACACCTGTGGCGAAAGCGGCGCACTGGACCACAACTGACGCTGAGGCGCGAAAGCTAGGGGAGCAAACAGGATTAGATACCCTGGTAGTCCTAGCCCTAAACGATGGATGCTTGGTGTGTCGGGTACCCAATCCCGACGTGCCGAAGCTAACGCGATAAGCATCCCGCCTGGGGAGTACGGTCGCAAGGCTG\r\n",
      ">S009_54;barcodelabel=S009\r\n",
      "TACGAAGGTGGCAAGCGTTATTCGGATTTACTGGGCGTACAGGGAGCGTAGGCGGTTCGGTAAGCCCTTTGTGAAATCTTCAGGCTTAACCTGGAACAGTCGGAGGGGACTGCCGGGCTAGAGGACGGGAGAGGAGCGCGGAATTCCCGGTGTAGCGGTGAAATGCGTAGAGATCGGGAGGAAGGCCGGTGGCGAAGGCGGCGCTCTGGAACGTTTCTGATGCTGAGGCTCGAAAGCGTGGGGAGCAAACAGGATTAGATACCCTGGTAGTCCACGCCTTAAACTATGAATACTAAGTGTCGGCGGGTTACCGCCGGTGCCGCAGCTAACGCATTAAGTATTCCGCCTGGGAAGTACGGCCGCAAGGTTG\r\n",
      ">S026_79;barcodelabel=S026\r\n",
      "TACGAAGGGGGCTAGCGTTGCTCGGAATCACTGGGCGTAAAGGGTGCGTAGGCGGGTCTTTAAGTCAGGGGTGAAATCCTGGAGCTCAACTCCAGAACTGCCTTTGATACTGAAGATCTTGAGTTCGGGAGAGGTGAGTGGAACTGCGAGTGTAGAGGTGAAATTCGTAGATATTCGCAAGAACACCAGTGGCGAAGGCGGCTCACTGGCCCGATACTGACGCTGAGGCACGAAAGCGTGGGGAGCAAACAGGATTAGATACCCTGGTAGTCCACGCCGTAAACGATGAATGCCAGCCGTTAGTGGGTTTACTCACTAGTGGCGCAGCTAACGCTTTAAGCATTCCGCCTGGGGAGTACGGTCGCAAGATTA\r\n",
      ">S204_910;barcodelabel=S204\r\n",
      "TACGAAGGGGGCTAGCGTTGCTCGGAATCACTGGGCGTAAAGGGTGCGTAGGCGGGTCTTTAAGTCAGGGGTGAAATCCTGGAGCTCAACTCCAGAACTGCCTTTGATACTGAAGATCTTGAGTTCGGGAGAGGTGAGTGGAACTGCGAGTGTAGAGGTGAAATTCGTAGATATTCGCAAGAACACCAGTGGCGAAGGCGGCTCACTGGCCCGATACTGACGCTGAGGCACGAAAGCGTGGGGAGCAAACAGGATTAGATACCCTGGTAGTCCACGCCGTAAACGATGAATGCCAGCCGTTAGTGGGTTTACTCACTAGTGGCGCAGCTAACGCTTTAAGCATTCCGCCTGGGGAGTACGGTCGCAAGATTA\r\n",
      ">S247_1753;barcodelabel=S247\r\n",
      "TACGAAGGGGGCTAGCGTTGCTCGGAATCACTGGGCGTAAAGGGTGCGTAGGCGGGTCTTTAAGTCAGGGGTGAAATCCTGGAGCTCAACTCCAGAACTGCCTTTGATACTGAAGATCTTGAGTTCGGGAGAGGTGAGTGGAACTGCGAGTGTAGAGGTGAAATTCGTAGATATTCGCAAGAACACCAGTGGCGAAGGCGGCTCACTGGCCCGATACTGACGCTGAGGCACGAAAGCGTGGGGAGCAAACAGGATTAGATACCCTGGTAGTCCACGCCGTAAACGATGAATGCCAGCCGTTAGTGGGTTTACTCACTAGTGGCGCAGCTAACGCTTTAAGCATTCCGCCTGGGGAGTACGGTCGCAAGATTA\r\n"
     ]
    }
   ],
   "source": [
    "!head data/finalQC_usearchfmt.fasta"
   ]
  },
  {
   "cell_type": "code",
   "execution_count": 44,
   "metadata": {
    "collapsed": false
   },
   "outputs": [
    {
     "name": "stdout",
     "output_type": "stream",
     "text": [
      "usearch v7.0.1090_i86linux32, 4.0Gb RAM (132Gb total), 40 cores\n",
      "(C) Copyright 2013 Robert C. Edgar, all rights reserved.\n",
      "http://drive5.com/usearch\n",
      "\n",
      "Licensed to: chuck.peperanney@gmail.com\n",
      "\n",
      "00:00  19Mb Reading data/otusn.pick.fasta, 3.0Mb\n",
      "00:00  22Mb 7770 seqs, min 370, avg 373, max 376nt\n",
      "00:00  22Mb  100.0% Masking\n",
      "00:00  22Mb  100.0% Word stats\n",
      "00:00  34Mb  100.0% Building slots\n",
      "00:00  34Mb  100.0% Build index\n",
      "02:18 189Mb  100.0% Searching, 81.4% matched\n"
     ]
    }
   ],
   "source": [
    "# This is where the actual OTUs are being assigned. We choose 97% sequence ID threshold here.\n",
    "# This might take a while - like 5 minutes\n",
    "# Depending ont he clustering algorithm, like pairwise... it would take, like, days on the same number of processors.\n",
    "# This is why usearch (centroid-based) is so much better\n",
    "# But is it more biologically relevant? ... maybe, maybe not.\n",
    "# Edgar is showing it's not that bad.\n",
    "\n",
    "# We take our total QC data (modified above to have the sample ID extracted)\n",
    "# We compare it to the otusn.pick.fasta database we made above\n",
    "# We produce a readmap.uc file which tells us how the reads from our finalQC file map to the otusn seed database.\n",
    "\n",
    "!usearch -usearch_global data/finalQC_usearchfmt.fasta \\\n",
    "-db data/otusn.pick.fasta \\\n",
    "-strand plus -id 0.97 \\\n",
    "-uc data/readmap.uc \\\n",
    "-threads 15"
   ]
  },
  {
   "cell_type": "code",
   "execution_count": 4,
   "metadata": {
    "collapsed": false
   },
   "outputs": [
    {
     "name": "stdout",
     "output_type": "stream",
     "text": [
      "/bin/sh: 1: cannot create data/otu_table.txt: Directory nonexistent\r\n"
     ]
    }
   ],
   "source": [
    "# Makes an OTU table\n",
    "# It will tell me the OTU ID, and then for all the samples, which OTUs it has sequences from.\n",
    "!python /opt/bioinfo/edgar_python_scripts/uc2otutab.py data/readmap.uc > data/otu_table.txt"
   ]
  },
  {
   "cell_type": "code",
   "execution_count": 5,
   "metadata": {
    "collapsed": false
   },
   "outputs": [
    {
     "name": "stdout",
     "output_type": "stream",
     "text": [
      "Usage: biom convert [options] {-i/--input-fp INPUT-FP -o/--output-fp OUTPUT-FP}\r\n",
      "\r\n",
      "[] indicates optional input (order unimportant)\r\n",
      "{} indicates required input (order unimportant)\r\n",
      "\r\n",
      "Convert between BIOM and 'classic' (tab-delimited) table formats. Detailed usage examples can be found here: http://biom-format.org/documentation/biom_conversion.html\r\n",
      "\r\n",
      "Example usage: \r\n",
      "Print help message and exit\r\n",
      " biom convert -h\r\n",
      "\r\n",
      "Converting from classic to BIOM format: Convert the classic file table.txt to a sparse BIOM format OTU table\r\n",
      " biom convert -i table.txt -o table.biom --table-type \"otu table\"\r\n",
      "\r\n",
      "biom convert: error: option -i: file does not exist: 'data/otu_table.txt'\r\n"
     ]
    }
   ],
   "source": [
    "# Issues with biom table formatting\n",
    "!if [ -f data/otu_table.biom ]; then rm data/otu_table.biom; fi #This is to mitigate a biom bug\n",
    "!biom convert -i data/otu_table.txt -o data/otu_table.biom --table-type\"otu table\""
   ]
  },
  {
   "cell_type": "code",
   "execution_count": 47,
   "metadata": {
    "collapsed": false
   },
   "outputs": [],
   "source": [
    "# Issues with biom table formatting\n",
    "!if [ -f data/otu_table_summary.txt ]; then rm data/otu_table_summary.txt; fi #This is to mitigate a biom bug\n",
    "!biom summarize-table -i data/otu_table.biom -o data/otu_table_summary.txt"
   ]
  },
  {
   "cell_type": "code",
   "execution_count": 48,
   "metadata": {
    "collapsed": false
   },
   "outputs": [
    {
     "name": "stdout",
     "output_type": "stream",
     "text": [
      "Num samples: 120\r\n",
      "Num observations: 7770\r\n",
      "Total count: 8330257\r\n",
      "Table density (fraction of non-zero values): 0.412\r\n",
      "Table md5 (unzipped): db748eb39a90836c39c72248bfadbc13\r\n",
      "\r\n",
      "Counts/sample summary:\r\n",
      " Min: 8.0\r\n",
      " Max: 194356.0\r\n",
      " Median: 53598.500\r\n",
      " Mean: 69418.808\r\n",
      " Std. dev.: 44070.005\r\n",
      " Sample Metadata Categories: None provided\r\n",
      " Observation Metadata Categories: None provided\r\n",
      "\r\n",
      "Counts/sample detail:\r\n",
      " S211: 8.0\r\n",
      " S038: 8830.0\r\n",
      " S242: 13813.0\r\n",
      " S039: 15038.0\r\n",
      " S129: 20512.0\r\n",
      " S245: 21660.0\r\n",
      " S029: 23329.0\r\n",
      " S021: 25060.0\r\n",
      " S239: 25681.0\r\n",
      " S037: 26554.0\r\n",
      " S017: 26555.0\r\n",
      " S014: 26968.0\r\n",
      " S027: 27587.0\r\n",
      " S013: 27713.0\r\n",
      " S018: 28479.0\r\n",
      " S243: 28671.0\r\n",
      " S012: 31182.0\r\n",
      " S131: 31203.0\r\n",
      " S145: 31203.0\r\n",
      " S042: 31996.0\r\n",
      " S246: 32120.0\r\n",
      " S114: 32298.0\r\n",
      " S044: 32861.0\r\n",
      " S016: 34523.0\r\n",
      " S148: 34617.0\r\n",
      " S006: 35309.0\r\n",
      " S247: 35635.0\r\n",
      " S036: 36097.0\r\n",
      " S043: 36098.0\r\n",
      " S023: 36682.0\r\n",
      " S003: 36728.0\r\n",
      " S033: 37283.0\r\n",
      " S034: 37348.0\r\n",
      " S244: 37578.0\r\n",
      " S007: 37877.0\r\n",
      " S233: 39284.0\r\n",
      " S028: 39352.0\r\n",
      " S004: 39569.0\r\n",
      " S022: 39898.0\r\n",
      " S137: 39955.0\r\n",
      " S048: 40087.0\r\n",
      " S241: 40139.0\r\n",
      " S045: 40986.0\r\n",
      " S146: 41880.0\r\n",
      " S117: 42691.0\r\n",
      " S248: 42810.0\r\n",
      " S128: 45576.0\r\n",
      " S041: 46249.0\r\n",
      " S141: 46890.0\r\n",
      " S121: 47684.0\r\n",
      " S011: 47710.0\r\n",
      " S024: 48814.0\r\n",
      " S026: 49017.0\r\n",
      " S002: 49719.0\r\n",
      " S217: 50293.0\r\n",
      " S231: 51393.0\r\n",
      " S008: 51542.0\r\n",
      " S046: 51708.0\r\n",
      " S031: 52771.0\r\n",
      " S102: 53477.0\r\n",
      " S216: 53720.0\r\n",
      " S232: 58540.0\r\n",
      " S116: 58551.0\r\n",
      " S237: 58807.0\r\n",
      " S234: 61928.0\r\n",
      " S138: 63448.0\r\n",
      " S222: 65700.0\r\n",
      " S112: 66290.0\r\n",
      " S209: 66337.0\r\n",
      " S213: 66819.0\r\n",
      " S032: 67299.0\r\n",
      " S109: 67615.0\r\n",
      " S227: 70308.0\r\n",
      " S224: 71940.0\r\n",
      " S103: 73168.0\r\n",
      " S236: 73434.0\r\n",
      " S218: 74627.0\r\n",
      " S113: 74789.0\r\n",
      " S019: 77203.0\r\n",
      " S223: 78864.0\r\n",
      " S229: 79837.0\r\n",
      " S219: 80119.0\r\n",
      " S214: 80154.0\r\n",
      " S124: 81038.0\r\n",
      " S111: 84124.0\r\n",
      " S206: 84638.0\r\n",
      " S001: 86007.0\r\n",
      " S238: 88192.0\r\n",
      " S009: 89290.0\r\n",
      " S107: 89310.0\r\n",
      " S136: 90128.0\r\n",
      " S047: 90848.0\r\n",
      " S147: 90944.0\r\n",
      " S221: 90967.0\r\n",
      " S207: 92273.0\r\n",
      " S108: 96114.0\r\n",
      " S127: 102935.0\r\n",
      " S143: 106468.0\r\n",
      " S119: 107738.0\r\n",
      " S144: 108677.0\r\n",
      " S101: 109686.0\r\n",
      " S104: 114784.0\r\n",
      " S123: 115443.0\r\n",
      " S228: 119662.0\r\n",
      " S118: 126421.0\r\n",
      " S106: 129553.0\r\n",
      " S126: 133446.0\r\n",
      " S208: 139063.0\r\n",
      " S122: 144272.0\r\n",
      " S133: 153494.0\r\n",
      " S139: 154182.0\r\n",
      " S132: 159371.0\r\n",
      " S134: 160612.0\r\n",
      " S142: 168244.0\r\n",
      " S201: 171706.0\r\n",
      " S226: 171724.0\r\n",
      " S202: 177721.0\r\n",
      " S212: 182268.0\r\n",
      " S203: 190471.0\r\n",
      " S204: 194356.0\r\n"
     ]
    }
   ],
   "source": [
    "# This tells us the overall data info\n",
    "# Num obs = OTUs\n",
    "# total count = total seqs\n",
    "# Chantal had 50% reduction after QC.\n",
    "\n",
    "!cat data/otu_table_summary.txt\n",
    "\n",
    "# Sample 211 was just bad 8 sequesce. Final day, plot 11, \n",
    "# Other samples have 8,000 while biggest one has 194,000 sequences.\n",
    "# 8M total sequences"
   ]
  },
  {
   "cell_type": "code",
   "execution_count": 14,
   "metadata": {
    "collapsed": false
   },
   "outputs": [],
   "source": [
    "# My final data will be as follows:\n",
    "# My OTU table\n",
    "# This has OTUs and counts per sample\n",
    "otu_table.biom\n",
    "# This file has the sequences of my OTUs\n",
    "otusn.pick.fasta\n",
    "# These should be the only files I care about from now on.\n",
    "# Also note, I have created an aligned file\n",
    "ssu-aln.bacteria.mask.fasta\n",
    "# And I have also a tree\n",
    "ssu-aln.bacteria.mask.tre"
   ]
  },
  {
   "cell_type": "code",
   "execution_count": null,
   "metadata": {
    "collapsed": false
   },
   "outputs": [],
   "source": []
  }
 ],
 "metadata": {
  "kernelspec": {
   "display_name": "Python 2",
   "language": "python",
   "name": "python2"
  },
  "language_info": {
   "codemirror_mode": {
    "name": "ipython",
    "version": 2
   },
   "file_extension": ".py",
   "mimetype": "text/x-python",
   "name": "python",
   "nbconvert_exporter": "python",
   "pygments_lexer": "ipython2",
   "version": "2.7.9"
  }
 },
 "nbformat": 4,
 "nbformat_minor": 0
}
