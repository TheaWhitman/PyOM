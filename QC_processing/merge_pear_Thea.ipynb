{
 "metadata": {
  "name": ""
 },
 "nbformat": 3,
 "nbformat_minor": 0,
 "worksheets": [
  {
   "cells": [
    {
     "cell_type": "code",
     "collapsed": false,
     "input": [
      "# bringing in some python code\n",
      "# screed reads the fasta or fastq files\n",
      "import screed\n",
      "# matplotlib.pyplot is a program for plotting data\n",
      "import matplotlib.pyplot as plt\n",
      "from mpltools import style\n",
      "import numpy as np\n",
      "from mpld3 import enable_notebook\n",
      "# A mode is indicated by a % sign.\n",
      "# Here we are telling it to show the graphics IN the notebook itself\n",
      "%matplotlib inline"
     ],
     "language": "python",
     "metadata": {},
     "outputs": [],
     "prompt_number": 2
    },
    {
     "cell_type": "code",
     "collapsed": false,
     "input": [
      "# python code that allows us to have interactive figures in the notebook (imported preiously)\n",
      "enable_notebook()"
     ],
     "language": "python",
     "metadata": {},
     "outputs": [],
     "prompt_number": 3
    },
    {
     "cell_type": "code",
     "collapsed": false,
     "input": [
      "# run pear in bash and get help file. -j is the number of processors\n",
      "#!pear -h"
     ],
     "language": "python",
     "metadata": {},
     "outputs": [
      {
       "output_type": "stream",
       "stream": "stdout",
       "text": [
        " ____  _____    _    ____ \r\n",
        "|  _ \\| ____|  / \\  |  _ \\\r\n",
        "| |_) |  _|   / _ \\ | |_) |\r\n",
        "|  __/| |___ / ___ \\|  _ <\r\n",
        "|_|   |_____/_/   \\_\\_| \\_\\\r\n",
        "\r\n",
        ".oOo. Paired-End reAd mergeR .oOo.\r\n",
        "PEAR v0.9.0 released on November 20 2013 by Tomas Flouri and Jiajie Zhang\r\n",
        "License: Creative Commons Licence\r\n",
        "Bug-reports and requests to: Tomas.Flouri@h-its.org and Jiajie.Zhang@h-its.org\r\n",
        "\r\n",
        "\r\n",
        "Usage: pear <options>\r\n",
        "Standard (mandatory):\r\n",
        "  -f, --forward-fastq         <str>     Forward paired-end FASTQ file.\r\n",
        "  -r, --reverse-fastq         <str>     Reverse paired-end FASTQ file.\r\n",
        "  -o, --output                <str>     Output filename.\r\n",
        "Optional:\r\n",
        "  -p, --p-value               <float>   Specify  a p-value for the statistical test. If the computed\r\n",
        "                                        p-value of a possible assembly exceeds the specified p-value\r\n",
        "                                        then  paired-end  read  will not be assembled. Valid options\r\n",
        "                                        are: 0.0001, 0.001, 0.01, 0.05 and 1.0. Setting 1.0 disables\r\n",
        "                                        the test. (default: 0.01)\r\n",
        "  -v, --min-overlap           <int>     Specify the minimum overlap size. The minimum overlap may be\r\n",
        "                                        set to 1 when the statistical test is used. However, further\r\n",
        "                                        restricting  the  minimum overlap size to a proper value may\r\n",
        "                                        reduce false-positive assembles. (default: 10)\r\n",
        "  -m, --max-assembly-length   <int>     Specify   the  maximum  possible  length  of  the  assembled\r\n",
        "                                        sequences.  Setting this value to 0 disables the restriction\r\n",
        "                                        and assembled sequences may be arbitrary long. (default: 0)\r\n",
        "  -n, --min-assembly-length   <int>     Specify   the  minimum  possible  length  of  the  assembled\r\n",
        "                                        sequences.  Setting this value to 0 disables the restriction\r\n",
        "                                        and  assembled  sequences  may be arbitrary short. (default:\r\n",
        "                                        50)\r\n",
        "  -t, --min-trim-length       <int>     Specify  the  minimum length of reads after trimming the low\r\n",
        "                                        quality part (see option -q). (default: 1)\r\n",
        "  -q, --quality-threshold     <int>     Specify  the  quality  score  threshold for trimming the low\r\n",
        "                                        quality  part  of  a  read.  If  the  quality  scores of two\r\n",
        "                                        consecutive  bases  are  strictly  less  than  the specified\r\n",
        "                                        threshold,  the  rest of the read will be trimmed. (default:\r\n",
        "                                        0)\r\n",
        "  -u, --max-uncalled-base     <float>   Specify  the maximal proportion of uncalled bases in a read.\r\n",
        "                                        Setting this value to 0 will cause PEAR to discard all reads\r\n",
        "                                        containing  uncalled  bases.  The other extreme setting is 1\r\n",
        "                                        which  causes  PEAR  to process all reads independent on the\r\n",
        "                                        number of uncalled bases. (default: 1)\r\n",
        "  -g, --test-method           <int>     Specify  the  type  of  statistical  test.  Two  options are\r\n",
        "                                        available. (default: 1)\r\n",
        "                                        1: Given the minimum allowed overlap, test using the highest\r\n",
        "                                        OES. Note that due to its discrete nature, this test usually\r\n",
        "                                        yields  a lower p-value for the assembled read than the cut-\r\n",
        "                                        off  (specified  by -p). For example, setting the cut-off to\r\n",
        "                                        0.05  using  this  test,  the  assembled reads might have an\r\n",
        "                                        actual p-value of 0.02.\r\n",
        "\r\n",
        "                                        2. Use the acceptance probability (m.a.p). This test methods\r\n",
        "                                        computes  the same probability as test method 1. However, it\r\n",
        "                                        assumes  that  the  minimal  overlap is the observed overlap\r\n",
        "                                        with  the  highest  OES, instead of the one specified by -v.\r\n",
        "                                        Therefore,  this  is  not  a  valid statistical test and the\r\n",
        "                                        'p-value'  is  in fact the maximal probability for accepting\r\n",
        "                                        the assembly. Nevertheless, we observed in practice that for\r\n",
        "                                        the case the actual overlap sizes are relatively small, test\r\n",
        "                                        2  can  correctly  assemble  more  reads  with only slightly\r\n",
        "                                        higher false-positive rate.\r\n",
        "  -e, --empirical-freqs                 Disable  empirical base frequencies. (default: use empirical\r\n",
        "                                        base frequencies)\r\n",
        "  -s, --score-method          <int>     Specify the scoring method. (default: 2)\r\n",
        "                                        1. OES with +1 for match and -1 for mismatch.\r\n",
        "                                        2: Assembly score (AS). Use +1 for match and -1 for mismatch\r\n",
        "                                        multiplied by base quality scores.\r\n",
        "                                        3: Ignore quality scores and use +1 for a match and -1 for a\r\n",
        "                                        mismatch.\r\n",
        "  -b, --phred-base            <int>     Base PHRED quality score. (default: 33)\r\n",
        "  -y, --memory                <str>     Specify  the  amount of memory to be used. The number may be\r\n",
        "                                        followed  by  one  of  the  letters  K,  M,  or  G  denoting\r\n",
        "                                        Kilobytes,  Megabytes and Gigabytes, respectively. Bytes are\r\n",
        "                                        assumed in case no letter is specified.\r\n",
        "  -j, --threads               <int>     Number of threads to use\r\n",
        "  -h, --help                            This help screen.\r\n",
        "\r\n"
       ]
      }
     ],
     "prompt_number": 1
    },
    {
     "cell_type": "code",
     "collapsed": false,
     "input": [
      "# These commands we would be running at command line. This is indicated by \n",
      "# We could also use an ! to indicate that what comes next is in bash. Instead of writing ! each time, you can \n",
      "# designate an entire cell to be run in bash (or %%R, etc.)\n",
      "# It wasn't working, so I'm commenting it, and inserting ! instead, for each command.\n",
      "# %%bash\n",
      "# Note: it turned out that you need to save\n",
      "!pigz -k -d -p 20 ./SeqData/read*.fq.gz\n",
      "# pigz unzips the files, and can do this in parallel. Could also use \"gunzip\" Here, the ? indicates a wildcard character, so anything\n",
      "# that has 1 character before .fq.gz\n",
      "# it will output files called read?.fq\n",
      "# -k means keep the original, -d means decompress the input, -p means use this number of processors\n",
      "# The backslash \\ continues the \"same line\" but prints it on the next line\n",
      "# -m is the maximum length we will consider assembling\n",
      "!pear -m 600 -j 20 \\\n",
      "-f ./SeqData/read1.fq \\\n",
      "-r ./SeqData/read2.fq \\\n",
      "-o ./SeqData/pear_merged-$(date +%F)\n",
      "#pigz -p 20 /var/seq_data/RNASIP/read?.fq\n",
      "# Thus, the data will be paired together, merged, including max lengths of 600 (-m) and using 20 processors (-j),returning a file\n",
      "# called pear_merged-DATE\n",
      "# Not sure what the \"+%F\" means."
     ],
     "language": "python",
     "metadata": {},
     "outputs": [
      {
       "output_type": "stream",
       "stream": "stdout",
       "text": [
        " ____  _____    _    ____ \r\n",
        "|  _ \\| ____|  / \\  |  _ \\\r\n",
        "| |_) |  _|   / _ \\ | |_) |\r\n",
        "|  __/| |___ / ___ \\|  _ <\r\n",
        "|_|   |_____/_/   \\_\\_| \\_\\\r\n",
        "\r\n",
        "Forward reads file.................: ./SeqData/read1.fq\r\n",
        "Reverse reads file.................: ./SeqData/read2.fq\r\n",
        "PHRED..............................: 33\r\n",
        "Using empirical frequencies........: YES\r\n",
        "Statistical method.................: OES\r\n",
        "Maximum assembly length............: 600\r\n",
        "Minimum assembly length............: 50\r\n",
        "p-value............................: 0.010000\r\n",
        "Quality score threshold (trimming).: 0\r\n",
        "Minimum read size after trimming...: 1\r\n",
        "Maximal ratio of uncalled bases....: 1.000000\r\n",
        "Minimum overlap....................: 10\r\n",
        "Scoring method.....................: Scaled score\r\n",
        "Threads............................: 20\r\n",
        "\r\n",
        "Allocating memory..................: 200,000,000 bytes\r\n",
        "Computing empirical frequencies....: "
       ]
      },
      {
       "output_type": "stream",
       "stream": "stdout",
       "text": [
        "DONE\r\n",
        "  A: 0.216774\r\n",
        "  C: 0.280814\r\n",
        "  G: 0.276366\r\n",
        "  T: 0.226046\r\n",
        "  1719 uncalled bases\r\n",
        "Assemblying reads..................: ["
       ]
      },
      {
       "output_type": "stream",
       "stream": "stdout",
       "text": [
        "."
       ]
      },
      {
       "output_type": "stream",
       "stream": "stdout",
       "text": [
        "."
       ]
      },
      {
       "output_type": "stream",
       "stream": "stdout",
       "text": [
        "."
       ]
      },
      {
       "output_type": "stream",
       "stream": "stdout",
       "text": [
        "."
       ]
      },
      {
       "output_type": "stream",
       "stream": "stdout",
       "text": [
        "."
       ]
      },
      {
       "output_type": "stream",
       "stream": "stdout",
       "text": [
        "."
       ]
      },
      {
       "output_type": "stream",
       "stream": "stdout",
       "text": [
        "."
       ]
      },
      {
       "output_type": "stream",
       "stream": "stdout",
       "text": [
        "."
       ]
      },
      {
       "output_type": "stream",
       "stream": "stdout",
       "text": [
        "."
       ]
      },
      {
       "output_type": "stream",
       "stream": "stdout",
       "text": [
        "."
       ]
      },
      {
       "output_type": "stream",
       "stream": "stdout",
       "text": [
        "."
       ]
      },
      {
       "output_type": "stream",
       "stream": "stdout",
       "text": [
        "."
       ]
      },
      {
       "output_type": "stream",
       "stream": "stdout",
       "text": [
        "."
       ]
      },
      {
       "output_type": "stream",
       "stream": "stdout",
       "text": [
        "."
       ]
      },
      {
       "output_type": "stream",
       "stream": "stdout",
       "text": [
        "."
       ]
      },
      {
       "output_type": "stream",
       "stream": "stdout",
       "text": [
        "."
       ]
      },
      {
       "output_type": "stream",
       "stream": "stdout",
       "text": [
        "."
       ]
      },
      {
       "output_type": "stream",
       "stream": "stdout",
       "text": [
        "."
       ]
      },
      {
       "output_type": "stream",
       "stream": "stdout",
       "text": [
        "."
       ]
      },
      {
       "output_type": "stream",
       "stream": "stdout",
       "text": [
        "."
       ]
      },
      {
       "output_type": "stream",
       "stream": "stdout",
       "text": [
        "."
       ]
      },
      {
       "output_type": "stream",
       "stream": "stdout",
       "text": [
        "."
       ]
      },
      {
       "output_type": "stream",
       "stream": "stdout",
       "text": [
        "."
       ]
      },
      {
       "output_type": "stream",
       "stream": "stdout",
       "text": [
        "."
       ]
      },
      {
       "output_type": "stream",
       "stream": "stdout",
       "text": [
        "."
       ]
      },
      {
       "output_type": "stream",
       "stream": "stdout",
       "text": [
        "."
       ]
      },
      {
       "output_type": "stream",
       "stream": "stdout",
       "text": [
        "."
       ]
      },
      {
       "output_type": "stream",
       "stream": "stdout",
       "text": [
        "."
       ]
      },
      {
       "output_type": "stream",
       "stream": "stdout",
       "text": [
        "."
       ]
      },
      {
       "output_type": "stream",
       "stream": "stdout",
       "text": [
        "."
       ]
      },
      {
       "output_type": "stream",
       "stream": "stdout",
       "text": [
        "."
       ]
      },
      {
       "output_type": "stream",
       "stream": "stdout",
       "text": [
        "."
       ]
      },
      {
       "output_type": "stream",
       "stream": "stdout",
       "text": [
        "."
       ]
      },
      {
       "output_type": "stream",
       "stream": "stdout",
       "text": [
        "."
       ]
      },
      {
       "output_type": "stream",
       "stream": "stdout",
       "text": [
        "."
       ]
      },
      {
       "output_type": "stream",
       "stream": "stdout",
       "text": [
        "."
       ]
      },
      {
       "output_type": "stream",
       "stream": "stdout",
       "text": [
        "."
       ]
      },
      {
       "output_type": "stream",
       "stream": "stdout",
       "text": [
        "."
       ]
      },
      {
       "output_type": "stream",
       "stream": "stdout",
       "text": [
        "."
       ]
      },
      {
       "output_type": "stream",
       "stream": "stdout",
       "text": [
        "."
       ]
      },
      {
       "output_type": "stream",
       "stream": "stdout",
       "text": [
        "."
       ]
      },
      {
       "output_type": "stream",
       "stream": "stdout",
       "text": [
        "."
       ]
      },
      {
       "output_type": "stream",
       "stream": "stdout",
       "text": [
        "."
       ]
      },
      {
       "output_type": "stream",
       "stream": "stdout",
       "text": [
        "."
       ]
      },
      {
       "output_type": "stream",
       "stream": "stdout",
       "text": [
        "."
       ]
      },
      {
       "output_type": "stream",
       "stream": "stdout",
       "text": [
        "."
       ]
      },
      {
       "output_type": "stream",
       "stream": "stdout",
       "text": [
        "."
       ]
      },
      {
       "output_type": "stream",
       "stream": "stdout",
       "text": [
        "."
       ]
      },
      {
       "output_type": "stream",
       "stream": "stdout",
       "text": [
        "."
       ]
      },
      {
       "output_type": "stream",
       "stream": "stdout",
       "text": [
        "."
       ]
      },
      {
       "output_type": "stream",
       "stream": "stdout",
       "text": [
        "."
       ]
      },
      {
       "output_type": "stream",
       "stream": "stdout",
       "text": [
        "."
       ]
      },
      {
       "output_type": "stream",
       "stream": "stdout",
       "text": [
        "."
       ]
      },
      {
       "output_type": "stream",
       "stream": "stdout",
       "text": [
        "."
       ]
      },
      {
       "output_type": "stream",
       "stream": "stdout",
       "text": [
        "."
       ]
      },
      {
       "output_type": "stream",
       "stream": "stdout",
       "text": [
        "."
       ]
      },
      {
       "output_type": "stream",
       "stream": "stdout",
       "text": [
        "."
       ]
      },
      {
       "output_type": "stream",
       "stream": "stdout",
       "text": [
        "."
       ]
      },
      {
       "output_type": "stream",
       "stream": "stdout",
       "text": [
        "."
       ]
      },
      {
       "output_type": "stream",
       "stream": "stdout",
       "text": [
        "."
       ]
      },
      {
       "output_type": "stream",
       "stream": "stdout",
       "text": [
        "."
       ]
      },
      {
       "output_type": "stream",
       "stream": "stdout",
       "text": [
        "."
       ]
      },
      {
       "output_type": "stream",
       "stream": "stdout",
       "text": [
        "."
       ]
      },
      {
       "output_type": "stream",
       "stream": "stdout",
       "text": [
        "."
       ]
      },
      {
       "output_type": "stream",
       "stream": "stdout",
       "text": [
        "."
       ]
      },
      {
       "output_type": "stream",
       "stream": "stdout",
       "text": [
        "."
       ]
      },
      {
       "output_type": "stream",
       "stream": "stdout",
       "text": [
        "."
       ]
      },
      {
       "output_type": "stream",
       "stream": "stdout",
       "text": [
        "."
       ]
      },
      {
       "output_type": "stream",
       "stream": "stdout",
       "text": [
        "."
       ]
      },
      {
       "output_type": "stream",
       "stream": "stdout",
       "text": [
        "."
       ]
      },
      {
       "output_type": "stream",
       "stream": "stdout",
       "text": [
        "."
       ]
      },
      {
       "output_type": "stream",
       "stream": "stdout",
       "text": [
        "."
       ]
      },
      {
       "output_type": "stream",
       "stream": "stdout",
       "text": [
        "."
       ]
      },
      {
       "output_type": "stream",
       "stream": "stdout",
       "text": [
        "."
       ]
      },
      {
       "output_type": "stream",
       "stream": "stdout",
       "text": [
        "."
       ]
      },
      {
       "output_type": "stream",
       "stream": "stdout",
       "text": [
        "."
       ]
      },
      {
       "output_type": "stream",
       "stream": "stdout",
       "text": [
        "."
       ]
      },
      {
       "output_type": "stream",
       "stream": "stdout",
       "text": [
        "."
       ]
      },
      {
       "output_type": "stream",
       "stream": "stdout",
       "text": [
        "."
       ]
      },
      {
       "output_type": "stream",
       "stream": "stdout",
       "text": [
        "."
       ]
      },
      {
       "output_type": "stream",
       "stream": "stdout",
       "text": [
        "."
       ]
      },
      {
       "output_type": "stream",
       "stream": "stdout",
       "text": [
        "."
       ]
      },
      {
       "output_type": "stream",
       "stream": "stdout",
       "text": [
        "."
       ]
      },
      {
       "output_type": "stream",
       "stream": "stdout",
       "text": [
        "."
       ]
      },
      {
       "output_type": "stream",
       "stream": "stdout",
       "text": [
        "."
       ]
      },
      {
       "output_type": "stream",
       "stream": "stdout",
       "text": [
        "."
       ]
      },
      {
       "output_type": "stream",
       "stream": "stdout",
       "text": [
        "."
       ]
      },
      {
       "output_type": "stream",
       "stream": "stdout",
       "text": [
        "."
       ]
      },
      {
       "output_type": "stream",
       "stream": "stdout",
       "text": [
        "."
       ]
      },
      {
       "output_type": "stream",
       "stream": "stdout",
       "text": [
        "."
       ]
      },
      {
       "output_type": "stream",
       "stream": "stdout",
       "text": [
        "."
       ]
      },
      {
       "output_type": "stream",
       "stream": "stdout",
       "text": [
        "."
       ]
      },
      {
       "output_type": "stream",
       "stream": "stdout",
       "text": [
        "."
       ]
      },
      {
       "output_type": "stream",
       "stream": "stdout",
       "text": [
        "."
       ]
      },
      {
       "output_type": "stream",
       "stream": "stdout",
       "text": [
        "."
       ]
      },
      {
       "output_type": "stream",
       "stream": "stdout",
       "text": [
        "."
       ]
      },
      {
       "output_type": "stream",
       "stream": "stdout",
       "text": [
        "."
       ]
      },
      {
       "output_type": "stream",
       "stream": "stdout",
       "text": [
        "."
       ]
      },
      {
       "output_type": "stream",
       "stream": "stdout",
       "text": [
        "."
       ]
      },
      {
       "output_type": "stream",
       "stream": "stdout",
       "text": [
        "."
       ]
      },
      {
       "output_type": "stream",
       "stream": "stdout",
       "text": [
        "."
       ]
      },
      {
       "output_type": "stream",
       "stream": "stdout",
       "text": [
        "."
       ]
      },
      {
       "output_type": "stream",
       "stream": "stdout",
       "text": [
        "."
       ]
      },
      {
       "output_type": "stream",
       "stream": "stdout",
       "text": [
        "."
       ]
      },
      {
       "output_type": "stream",
       "stream": "stdout",
       "text": [
        "."
       ]
      },
      {
       "output_type": "stream",
       "stream": "stdout",
       "text": [
        "."
       ]
      },
      {
       "output_type": "stream",
       "stream": "stdout",
       "text": [
        "."
       ]
      },
      {
       "output_type": "stream",
       "stream": "stdout",
       "text": [
        "."
       ]
      },
      {
       "output_type": "stream",
       "stream": "stdout",
       "text": [
        "."
       ]
      },
      {
       "output_type": "stream",
       "stream": "stdout",
       "text": [
        "."
       ]
      },
      {
       "output_type": "stream",
       "stream": "stdout",
       "text": [
        "."
       ]
      },
      {
       "output_type": "stream",
       "stream": "stdout",
       "text": [
        "."
       ]
      },
      {
       "output_type": "stream",
       "stream": "stdout",
       "text": [
        "."
       ]
      },
      {
       "output_type": "stream",
       "stream": "stdout",
       "text": [
        "."
       ]
      },
      {
       "output_type": "stream",
       "stream": "stdout",
       "text": [
        "."
       ]
      },
      {
       "output_type": "stream",
       "stream": "stdout",
       "text": [
        "."
       ]
      },
      {
       "output_type": "stream",
       "stream": "stdout",
       "text": [
        "."
       ]
      },
      {
       "output_type": "stream",
       "stream": "stdout",
       "text": [
        "."
       ]
      },
      {
       "output_type": "stream",
       "stream": "stdout",
       "text": [
        "."
       ]
      },
      {
       "output_type": "stream",
       "stream": "stdout",
       "text": [
        "."
       ]
      },
      {
       "output_type": "stream",
       "stream": "stdout",
       "text": [
        "."
       ]
      },
      {
       "output_type": "stream",
       "stream": "stdout",
       "text": [
        "."
       ]
      },
      {
       "output_type": "stream",
       "stream": "stdout",
       "text": [
        "."
       ]
      },
      {
       "output_type": "stream",
       "stream": "stdout",
       "text": [
        "."
       ]
      },
      {
       "output_type": "stream",
       "stream": "stdout",
       "text": [
        "."
       ]
      },
      {
       "output_type": "stream",
       "stream": "stdout",
       "text": [
        "."
       ]
      },
      {
       "output_type": "stream",
       "stream": "stdout",
       "text": [
        "."
       ]
      },
      {
       "output_type": "stream",
       "stream": "stdout",
       "text": [
        "."
       ]
      },
      {
       "output_type": "stream",
       "stream": "stdout",
       "text": [
        "."
       ]
      },
      {
       "output_type": "stream",
       "stream": "stdout",
       "text": [
        "."
       ]
      },
      {
       "output_type": "stream",
       "stream": "stdout",
       "text": [
        "."
       ]
      },
      {
       "output_type": "stream",
       "stream": "stdout",
       "text": [
        "."
       ]
      },
      {
       "output_type": "stream",
       "stream": "stdout",
       "text": [
        "."
       ]
      },
      {
       "output_type": "stream",
       "stream": "stdout",
       "text": [
        "."
       ]
      },
      {
       "output_type": "stream",
       "stream": "stdout",
       "text": [
        "."
       ]
      },
      {
       "output_type": "stream",
       "stream": "stdout",
       "text": [
        "."
       ]
      },
      {
       "output_type": "stream",
       "stream": "stdout",
       "text": [
        "."
       ]
      },
      {
       "output_type": "stream",
       "stream": "stdout",
       "text": [
        "."
       ]
      },
      {
       "output_type": "stream",
       "stream": "stdout",
       "text": [
        "."
       ]
      },
      {
       "output_type": "stream",
       "stream": "stdout",
       "text": [
        "."
       ]
      },
      {
       "output_type": "stream",
       "stream": "stdout",
       "text": [
        "."
       ]
      },
      {
       "output_type": "stream",
       "stream": "stdout",
       "text": [
        "."
       ]
      },
      {
       "output_type": "stream",
       "stream": "stdout",
       "text": [
        "."
       ]
      },
      {
       "output_type": "stream",
       "stream": "stdout",
       "text": [
        "."
       ]
      },
      {
       "output_type": "stream",
       "stream": "stdout",
       "text": [
        "."
       ]
      },
      {
       "output_type": "stream",
       "stream": "stdout",
       "text": [
        "."
       ]
      },
      {
       "output_type": "stream",
       "stream": "stdout",
       "text": [
        "."
       ]
      },
      {
       "output_type": "stream",
       "stream": "stdout",
       "text": [
        "."
       ]
      },
      {
       "output_type": "stream",
       "stream": "stdout",
       "text": [
        "."
       ]
      },
      {
       "output_type": "stream",
       "stream": "stdout",
       "text": [
        "."
       ]
      },
      {
       "output_type": "stream",
       "stream": "stdout",
       "text": [
        "."
       ]
      },
      {
       "output_type": "stream",
       "stream": "stdout",
       "text": [
        "."
       ]
      },
      {
       "output_type": "stream",
       "stream": "stdout",
       "text": [
        "."
       ]
      },
      {
       "output_type": "stream",
       "stream": "stdout",
       "text": [
        "."
       ]
      },
      {
       "output_type": "stream",
       "stream": "stdout",
       "text": [
        "."
       ]
      },
      {
       "output_type": "stream",
       "stream": "stdout",
       "text": [
        "."
       ]
      },
      {
       "output_type": "stream",
       "stream": "stdout",
       "text": [
        "."
       ]
      },
      {
       "output_type": "stream",
       "stream": "stdout",
       "text": [
        "."
       ]
      },
      {
       "output_type": "stream",
       "stream": "stdout",
       "text": [
        "."
       ]
      },
      {
       "output_type": "stream",
       "stream": "stdout",
       "text": [
        "."
       ]
      },
      {
       "output_type": "stream",
       "stream": "stdout",
       "text": [
        "."
       ]
      },
      {
       "output_type": "stream",
       "stream": "stdout",
       "text": [
        "."
       ]
      },
      {
       "output_type": "stream",
       "stream": "stdout",
       "text": [
        "."
       ]
      },
      {
       "output_type": "stream",
       "stream": "stdout",
       "text": [
        "."
       ]
      },
      {
       "output_type": "stream",
       "stream": "stdout",
       "text": [
        "."
       ]
      },
      {
       "output_type": "stream",
       "stream": "stdout",
       "text": [
        "."
       ]
      },
      {
       "output_type": "stream",
       "stream": "stdout",
       "text": [
        "."
       ]
      },
      {
       "output_type": "stream",
       "stream": "stdout",
       "text": [
        "."
       ]
      },
      {
       "output_type": "stream",
       "stream": "stdout",
       "text": [
        "."
       ]
      },
      {
       "output_type": "stream",
       "stream": "stdout",
       "text": [
        "."
       ]
      },
      {
       "output_type": "stream",
       "stream": "stdout",
       "text": [
        "."
       ]
      },
      {
       "output_type": "stream",
       "stream": "stdout",
       "text": [
        "."
       ]
      },
      {
       "output_type": "stream",
       "stream": "stdout",
       "text": [
        "."
       ]
      },
      {
       "output_type": "stream",
       "stream": "stdout",
       "text": [
        "."
       ]
      },
      {
       "output_type": "stream",
       "stream": "stdout",
       "text": [
        "."
       ]
      },
      {
       "output_type": "stream",
       "stream": "stdout",
       "text": [
        "."
       ]
      },
      {
       "output_type": "stream",
       "stream": "stdout",
       "text": [
        "."
       ]
      },
      {
       "output_type": "stream",
       "stream": "stdout",
       "text": [
        "."
       ]
      },
      {
       "output_type": "stream",
       "stream": "stdout",
       "text": [
        "."
       ]
      },
      {
       "output_type": "stream",
       "stream": "stdout",
       "text": [
        "."
       ]
      },
      {
       "output_type": "stream",
       "stream": "stdout",
       "text": [
        "."
       ]
      },
      {
       "output_type": "stream",
       "stream": "stdout",
       "text": [
        "."
       ]
      },
      {
       "output_type": "stream",
       "stream": "stdout",
       "text": [
        "."
       ]
      },
      {
       "output_type": "stream",
       "stream": "stdout",
       "text": [
        "."
       ]
      },
      {
       "output_type": "stream",
       "stream": "stdout",
       "text": [
        "."
       ]
      },
      {
       "output_type": "stream",
       "stream": "stdout",
       "text": [
        "."
       ]
      },
      {
       "output_type": "stream",
       "stream": "stdout",
       "text": [
        "."
       ]
      },
      {
       "output_type": "stream",
       "stream": "stdout",
       "text": [
        "."
       ]
      },
      {
       "output_type": "stream",
       "stream": "stdout",
       "text": [
        "."
       ]
      },
      {
       "output_type": "stream",
       "stream": "stdout",
       "text": [
        "."
       ]
      },
      {
       "output_type": "stream",
       "stream": "stdout",
       "text": [
        "."
       ]
      },
      {
       "output_type": "stream",
       "stream": "stdout",
       "text": [
        "."
       ]
      },
      {
       "output_type": "stream",
       "stream": "stdout",
       "text": [
        "."
       ]
      },
      {
       "output_type": "stream",
       "stream": "stdout",
       "text": [
        "."
       ]
      },
      {
       "output_type": "stream",
       "stream": "stdout",
       "text": [
        "."
       ]
      },
      {
       "output_type": "stream",
       "stream": "stdout",
       "text": [
        "."
       ]
      },
      {
       "output_type": "stream",
       "stream": "stdout",
       "text": [
        "."
       ]
      },
      {
       "output_type": "stream",
       "stream": "stdout",
       "text": [
        "."
       ]
      },
      {
       "output_type": "stream",
       "stream": "stdout",
       "text": [
        "."
       ]
      },
      {
       "output_type": "stream",
       "stream": "stdout",
       "text": [
        "."
       ]
      },
      {
       "output_type": "stream",
       "stream": "stdout",
       "text": [
        "."
       ]
      },
      {
       "output_type": "stream",
       "stream": "stdout",
       "text": [
        "."
       ]
      },
      {
       "output_type": "stream",
       "stream": "stdout",
       "text": [
        "."
       ]
      },
      {
       "output_type": "stream",
       "stream": "stdout",
       "text": [
        "."
       ]
      },
      {
       "output_type": "stream",
       "stream": "stdout",
       "text": [
        "."
       ]
      },
      {
       "output_type": "stream",
       "stream": "stdout",
       "text": [
        "."
       ]
      },
      {
       "output_type": "stream",
       "stream": "stdout",
       "text": [
        "."
       ]
      },
      {
       "output_type": "stream",
       "stream": "stdout",
       "text": [
        "."
       ]
      },
      {
       "output_type": "stream",
       "stream": "stdout",
       "text": [
        "."
       ]
      },
      {
       "output_type": "stream",
       "stream": "stdout",
       "text": [
        "."
       ]
      },
      {
       "output_type": "stream",
       "stream": "stdout",
       "text": [
        "."
       ]
      },
      {
       "output_type": "stream",
       "stream": "stdout",
       "text": [
        "."
       ]
      },
      {
       "output_type": "stream",
       "stream": "stdout",
       "text": [
        "."
       ]
      },
      {
       "output_type": "stream",
       "stream": "stdout",
       "text": [
        "."
       ]
      },
      {
       "output_type": "stream",
       "stream": "stdout",
       "text": [
        "."
       ]
      },
      {
       "output_type": "stream",
       "stream": "stdout",
       "text": [
        "."
       ]
      },
      {
       "output_type": "stream",
       "stream": "stdout",
       "text": [
        "."
       ]
      },
      {
       "output_type": "stream",
       "stream": "stdout",
       "text": [
        "."
       ]
      },
      {
       "output_type": "stream",
       "stream": "stdout",
       "text": [
        "."
       ]
      },
      {
       "output_type": "stream",
       "stream": "stdout",
       "text": [
        "."
       ]
      },
      {
       "output_type": "stream",
       "stream": "stdout",
       "text": [
        "."
       ]
      },
      {
       "output_type": "stream",
       "stream": "stdout",
       "text": [
        "."
       ]
      },
      {
       "output_type": "stream",
       "stream": "stdout",
       "text": [
        "."
       ]
      },
      {
       "output_type": "stream",
       "stream": "stdout",
       "text": [
        "."
       ]
      },
      {
       "output_type": "stream",
       "stream": "stdout",
       "text": [
        "."
       ]
      },
      {
       "output_type": "stream",
       "stream": "stdout",
       "text": [
        "."
       ]
      },
      {
       "output_type": "stream",
       "stream": "stdout",
       "text": [
        "."
       ]
      },
      {
       "output_type": "stream",
       "stream": "stdout",
       "text": [
        "."
       ]
      },
      {
       "output_type": "stream",
       "stream": "stdout",
       "text": [
        "."
       ]
      },
      {
       "output_type": "stream",
       "stream": "stdout",
       "text": [
        "."
       ]
      },
      {
       "output_type": "stream",
       "stream": "stdout",
       "text": [
        "."
       ]
      },
      {
       "output_type": "stream",
       "stream": "stdout",
       "text": [
        "."
       ]
      },
      {
       "output_type": "stream",
       "stream": "stdout",
       "text": [
        "."
       ]
      },
      {
       "output_type": "stream",
       "stream": "stdout",
       "text": [
        "."
       ]
      },
      {
       "output_type": "stream",
       "stream": "stdout",
       "text": [
        "."
       ]
      },
      {
       "output_type": "stream",
       "stream": "stdout",
       "text": [
        "."
       ]
      },
      {
       "output_type": "stream",
       "stream": "stdout",
       "text": [
        "."
       ]
      },
      {
       "output_type": "stream",
       "stream": "stdout",
       "text": [
        "."
       ]
      },
      {
       "output_type": "stream",
       "stream": "stdout",
       "text": [
        "."
       ]
      },
      {
       "output_type": "stream",
       "stream": "stdout",
       "text": [
        "."
       ]
      },
      {
       "output_type": "stream",
       "stream": "stdout",
       "text": [
        "]\r\n",
        "\r\n",
        "Assembled reads ...................: 16,503,293 / 16,822,701 (98.101%)\r\n",
        "Discarded reads ...................: 1 / 16,822,701 (0.000%)\r\n",
        "Not assembled reads ...............: 319,407 / 16,822,701 (1.899%)\r\n",
        "Assembled reads file...............: ./SeqData/pear_merged-2014-03-25.assembled.fastq\r\n",
        "Discarded reads file...............: ./SeqData/pear_merged-2014-03-25.discarded.fastq\r\n",
        "Unassembled forward reads file.....: ./SeqData/pear_merged-2014-03-25.unassembled.forward.fastq\r\n",
        "Unassembled reverse reads file.....: ./SeqData/pear_merged-2014-03-25.unassembled.reverse.fastq\r\n"
       ]
      }
     ]
    },
    {
     "cell_type": "code",
     "collapsed": false,
     "input": [
      "# This whole section is a module from Titus (screed is)\n",
      "# Basically it takes your fasta file and makes a database that you can query\n",
      "# Here, we're using it to loop through files, collect seq lengths, and plot as a histogram\n",
      "# This will allow us to evaluate how well the pairing worked."
     ],
     "language": "python",
     "metadata": {},
     "outputs": []
    },
    {
     "cell_type": "code",
     "collapsed": false,
     "input": [
      "# screed is Titus' database maker.\n",
      "# You can find documentation here: http://screed.readthedocs.org/en/latest/\n",
      "import screed"
     ],
     "language": "python",
     "metadata": {},
     "outputs": [],
     "prompt_number": 19
    },
    {
     "cell_type": "code",
     "collapsed": false,
     "input": [
      "# This creates the database which it will query\n",
      "# The database will have the sequence name, description, quality, and sequence itself (if those data are in the original files)\n",
      "# The output will be the same file with NAME_screed\n",
      "screed.read_fastq_sequences(\"./SeqData/pear_merged-2014-03-25.assembled.fastq\")"
     ],
     "language": "python",
     "metadata": {},
     "outputs": [
      {
       "metadata": {},
       "output_type": "pyout",
       "prompt_number": 20,
       "text": [
        "<ScreedDB, './SeqData/pear_merged-2014-03-25.assembled.fastq_screed'>"
       ]
      }
     ],
     "prompt_number": 20
    },
    {
     "cell_type": "code",
     "collapsed": false,
     "input": [
      "# We will import the fastq database we just made using the fqdb command. We are telling it\n",
      "# from the screed package, we want to open a ScreedDB (screed database). We must tell it where the database is.\n",
      "fqdb = screed.ScreedDB(\"./SeqData/pear_merged-2014-03-25.assembled.fastq_screed\")"
     ],
     "language": "python",
     "metadata": {},
     "outputs": [],
     "prompt_number": 22
    },
    {
     "cell_type": "code",
     "collapsed": false,
     "input": [
      "# This will retrieve, from our fqdb, the first record... not quite sure what is happening here.\n",
      "# Oh, I think we're just testing it. So, let's set the record to the first sequence (recall Python is 0-based, so 0 is the 1st item)\n",
      "# Yeah, no need to run this command\n",
      "record = fqdb[fqdb.keys()[0]]"
     ],
     "language": "python",
     "metadata": {},
     "outputs": [],
     "prompt_number": 23
    },
    {
     "cell_type": "code",
     "collapsed": false,
     "input": [
      "# This will now retrieve the sequence from our database for what we have set as the record - i.e., first sequence\n",
      "# We set the record above.\n",
      "# The output should give us the first sequence\n",
      "# No need to run this command either.\n",
      "record[\"sequence\"]"
     ],
     "language": "python",
     "metadata": {},
     "outputs": [
      {
       "metadata": {},
       "output_type": "pyout",
       "prompt_number": 24,
       "text": [
        "'AGGGCGTTGAGTTCGATAATGGTGATATGTATGTTGACGGCCATAAGGCTGCTTCTGACGTTCGTGATGAGTTTGTATCTGTTACTGAGAAGTTAATGGATGAATTGGCACGGTGCTACGATGTGCTC'"
       ]
      }
     ],
     "prompt_number": 24
    },
    {
     "cell_type": "code",
     "collapsed": false,
     "input": [
      "# Here we are basically getting the length of each sequence\n",
      "# What I think is happening:\n",
      "# First we create a string that is called \"lengths\"\n",
      "# For each read from our database (we are looking at all the iterative values of our fqdb), we find the length of the sequence\n",
      "# from the sequence category of our database that we created. Then, we append this length to our original length file.\n",
      "# We should end up with a file that has all the lengths of all our sequences, in a row. They are not necessarily tied to our \n",
      "# original sequence file\n",
      "# It used to say read where it now says record because I thought record might be right.. not sure.\n",
      "# Records worked. This took a long time, like 20 minutes.\n",
      "lengths = []\n",
      "for record in fqdb.itervalues():\n",
      "    lengths.append((len(record[\"sequence\"])))"
     ],
     "language": "python",
     "metadata": {},
     "outputs": [],
     "prompt_number": 27
    },
    {
     "cell_type": "code",
     "collapsed": false,
     "input": [
      "# Setting up graphics in ggplot\n",
      "style.use(\"ggplot\")\n",
      "fig = plt.figure()\n",
      "ax = fig.add_subplot(111)\n",
      "# There will be a histogram axis, where we graph the lengths in bins of 50\n",
      "h = ax.hist(np.array(lengths), bins=50)\n",
      "# The x axis will thus be the sequence length, in nucleotides\n",
      "xl = ax.set_xlabel(\"Sequence Length, nt\")\n",
      "# While the y axis will be the count, or number of times this length bin showed up in our peared sequences\n",
      "yl = ax.set_ylabel(\"Count\")\n",
      "# More figure sizing stuff\n",
      "fig.set_size_inches((10,6))"
     ],
     "language": "python",
     "metadata": {},
     "outputs": [
      {
       "html": [
        "\n",
        "<style>\n",
        "\n",
        "</style>\n",
        "\n",
        "<div id=\"fig210186824258083669597625\"></div>\n",
        "<script>\n",
        "function mpld3_load_lib(url, callback){\n",
        "  var s = document.createElement('script');\n",
        "  s.src = url;\n",
        "  s.async = true;\n",
        "  s.onreadystatechange = s.onload = callback;\n",
        "  s.onerror = function(){console.warn(\"failed to load library \" + url);};\n",
        "  document.getElementsByTagName(\"head\")[0].appendChild(s);\n",
        "}\n",
        "\n",
        "function create_fig210186824258083669597625(){\n",
        "  \n",
        "  mpld3.draw_figure(\"fig210186824258083669597625\", {\"width\": 800.0, \"axes\": [{\"xlim\": [0.0, 600.0], \"yscale\": \"linear\", \"axesbg\": \"#E5E5E5\", \"texts\": [{\"v_baseline\": \"hanging\", \"h_anchor\": \"middle\", \"color\": \"#555555\", \"text\": \"Sequence Length, nt\", \"coordinates\": \"axes\", \"zorder\": 3, \"alpha\": 1, \"fontsize\": 12.0, \"position\": [0.5, -0.065710872162485071], \"rotation\": -0.0, \"id\": \"21018682545488\"}, {\"v_baseline\": \"auto\", \"h_anchor\": \"middle\", \"color\": \"#555555\", \"text\": \"Count\", \"coordinates\": \"axes\", \"zorder\": 3, \"alpha\": 1, \"fontsize\": 12.0, \"position\": [-0.04985999103942651, 0.5], \"rotation\": -90.0, \"id\": \"21018682553744\"}], \"zoomable\": true, \"images\": [], \"xdomain\": [0.0, 600.0], \"ylim\": [0.0, 16000000.0], \"paths\": [{\"edgecolor\": \"#EEEEEE\", \"facecolor\": \"#E24A33\", \"edgewidth\": 0.5, \"pathcodes\": [\"M\", \"L\", \"L\", \"L\", \"Z\"], \"yindex\": 1, \"coordinates\": \"data\", \"dasharray\": \"10,0\", \"zorder\": 1, \"alpha\": 1, \"xindex\": 0, \"data\": \"data01\", \"id\": \"21018682438992\"}, {\"edgecolor\": \"#EEEEEE\", \"facecolor\": \"#E24A33\", \"edgewidth\": 0.5, \"pathcodes\": [\"M\", \"L\", \"L\", \"L\", \"Z\"], \"yindex\": 1, \"coordinates\": \"data\", \"dasharray\": \"10,0\", \"zorder\": 1, \"alpha\": 1, \"xindex\": 0, \"data\": \"data02\", \"id\": \"21018689788944\"}, {\"edgecolor\": \"#EEEEEE\", \"facecolor\": \"#E24A33\", \"edgewidth\": 0.5, \"pathcodes\": [\"M\", \"L\", \"L\", \"L\", \"Z\"], \"yindex\": 1, \"coordinates\": \"data\", \"dasharray\": \"10,0\", \"zorder\": 1, \"alpha\": 1, \"xindex\": 0, \"data\": \"data03\", \"id\": \"21018689790608\"}, {\"edgecolor\": \"#EEEEEE\", \"facecolor\": \"#E24A33\", \"edgewidth\": 0.5, \"pathcodes\": [\"M\", \"L\", \"L\", \"L\", \"Z\"], \"yindex\": 1, \"coordinates\": \"data\", \"dasharray\": \"10,0\", \"zorder\": 1, \"alpha\": 1, \"xindex\": 0, \"data\": \"data04\", \"id\": \"21018689792272\"}, {\"edgecolor\": \"#EEEEEE\", \"facecolor\": \"#E24A33\", \"edgewidth\": 0.5, \"pathcodes\": [\"M\", \"L\", \"L\", \"L\", \"Z\"], \"yindex\": 1, \"coordinates\": \"data\", \"dasharray\": \"10,0\", \"zorder\": 1, \"alpha\": 1, \"xindex\": 0, \"data\": \"data05\", \"id\": \"21018689621968\"}, {\"edgecolor\": \"#EEEEEE\", \"facecolor\": \"#E24A33\", \"edgewidth\": 0.5, \"pathcodes\": [\"M\", \"L\", \"L\", \"L\", \"Z\"], \"yindex\": 1, \"coordinates\": \"data\", \"dasharray\": \"10,0\", \"zorder\": 1, \"alpha\": 1, \"xindex\": 0, \"data\": \"data06\", \"id\": \"21018689623632\"}, {\"edgecolor\": \"#EEEEEE\", \"facecolor\": \"#E24A33\", \"edgewidth\": 0.5, \"pathcodes\": [\"M\", \"L\", \"L\", \"L\", \"Z\"], \"yindex\": 1, \"coordinates\": \"data\", \"dasharray\": \"10,0\", \"zorder\": 1, \"alpha\": 1, \"xindex\": 0, \"data\": \"data07\", \"id\": \"21018689781008\"}, {\"edgecolor\": \"#EEEEEE\", \"facecolor\": \"#E24A33\", \"edgewidth\": 0.5, \"pathcodes\": [\"M\", \"L\", \"L\", \"L\", \"Z\"], \"yindex\": 1, \"coordinates\": \"data\", \"dasharray\": \"10,0\", \"zorder\": 1, \"alpha\": 1, \"xindex\": 0, \"data\": \"data08\", \"id\": \"21018689782672\"}, {\"edgecolor\": \"#EEEEEE\", \"facecolor\": \"#E24A33\", \"edgewidth\": 0.5, \"pathcodes\": [\"M\", \"L\", \"L\", \"L\", \"Z\"], \"yindex\": 1, \"coordinates\": \"data\", \"dasharray\": \"10,0\", \"zorder\": 1, \"alpha\": 1, \"xindex\": 0, \"data\": \"data09\", \"id\": \"21018689783952\"}, {\"edgecolor\": \"#EEEEEE\", \"facecolor\": \"#E24A33\", \"edgewidth\": 0.5, \"pathcodes\": [\"M\", \"L\", \"L\", \"L\", \"Z\"], \"yindex\": 1, \"coordinates\": \"data\", \"dasharray\": \"10,0\", \"zorder\": 1, \"alpha\": 1, \"xindex\": 0, \"data\": \"data10\", \"id\": \"21018689814736\"}, {\"edgecolor\": \"#EEEEEE\", \"facecolor\": \"#E24A33\", \"edgewidth\": 0.5, \"pathcodes\": [\"M\", \"L\", \"L\", \"L\", \"Z\"], \"yindex\": 1, \"coordinates\": \"data\", \"dasharray\": \"10,0\", \"zorder\": 1, \"alpha\": 1, \"xindex\": 0, \"data\": \"data11\", \"id\": \"21018689816400\"}, {\"edgecolor\": \"#EEEEEE\", \"facecolor\": \"#E24A33\", \"edgewidth\": 0.5, \"pathcodes\": [\"M\", \"L\", \"L\", \"L\", \"Z\"], \"yindex\": 1, \"coordinates\": \"data\", \"dasharray\": \"10,0\", \"zorder\": 1, \"alpha\": 1, \"xindex\": 0, \"data\": \"data12\", \"id\": \"21018689728016\"}, {\"edgecolor\": \"#EEEEEE\", \"facecolor\": \"#E24A33\", \"edgewidth\": 0.5, \"pathcodes\": [\"M\", \"L\", \"L\", \"L\", \"Z\"], \"yindex\": 1, \"coordinates\": \"data\", \"dasharray\": \"10,0\", \"zorder\": 1, \"alpha\": 1, \"xindex\": 0, \"data\": \"data13\", \"id\": \"21018689729680\"}, {\"edgecolor\": \"#EEEEEE\", \"facecolor\": \"#E24A33\", \"edgewidth\": 0.5, \"pathcodes\": [\"M\", \"L\", \"L\", \"L\", \"Z\"], \"yindex\": 1, \"coordinates\": \"data\", \"dasharray\": \"10,0\", \"zorder\": 1, \"alpha\": 1, \"xindex\": 0, \"data\": \"data14\", \"id\": \"21018689730960\"}, {\"edgecolor\": \"#EEEEEE\", \"facecolor\": \"#E24A33\", \"edgewidth\": 0.5, \"pathcodes\": [\"M\", \"L\", \"L\", \"L\", \"Z\"], \"yindex\": 1, \"coordinates\": \"data\", \"dasharray\": \"10,0\", \"zorder\": 1, \"alpha\": 1, \"xindex\": 0, \"data\": \"data15\", \"id\": \"21018689839568\"}, {\"edgecolor\": \"#EEEEEE\", \"facecolor\": \"#E24A33\", \"edgewidth\": 0.5, \"pathcodes\": [\"M\", \"L\", \"L\", \"L\", \"Z\"], \"yindex\": 1, \"coordinates\": \"data\", \"dasharray\": \"10,0\", \"zorder\": 1, \"alpha\": 1, \"xindex\": 0, \"data\": \"data16\", \"id\": \"21018689841232\"}, {\"edgecolor\": \"#EEEEEE\", \"facecolor\": \"#E24A33\", \"edgewidth\": 0.5, \"pathcodes\": [\"M\", \"L\", \"L\", \"L\", \"Z\"], \"yindex\": 1, \"coordinates\": \"data\", \"dasharray\": \"10,0\", \"zorder\": 1, \"alpha\": 1, \"xindex\": 0, \"data\": \"data17\", \"id\": \"21018689871632\"}, {\"edgecolor\": \"#EEEEEE\", \"facecolor\": \"#E24A33\", \"edgewidth\": 0.5, \"pathcodes\": [\"M\", \"L\", \"L\", \"L\", \"Z\"], \"yindex\": 1, \"coordinates\": \"data\", \"dasharray\": \"10,0\", \"zorder\": 1, \"alpha\": 1, \"xindex\": 0, \"data\": \"data18\", \"id\": \"21018689873296\"}, {\"edgecolor\": \"#EEEEEE\", \"facecolor\": \"#E24A33\", \"edgewidth\": 0.5, \"pathcodes\": [\"M\", \"L\", \"L\", \"L\", \"Z\"], \"yindex\": 1, \"coordinates\": \"data\", \"dasharray\": \"10,0\", \"zorder\": 1, \"alpha\": 1, \"xindex\": 0, \"data\": \"data19\", \"id\": \"21018689670224\"}, {\"edgecolor\": \"#EEEEEE\", \"facecolor\": \"#E24A33\", \"edgewidth\": 0.5, \"pathcodes\": [\"M\", \"L\", \"L\", \"L\", \"Z\"], \"yindex\": 1, \"coordinates\": \"data\", \"dasharray\": \"10,0\", \"zorder\": 1, \"alpha\": 1, \"xindex\": 0, \"data\": \"data20\", \"id\": \"21018689671888\"}, {\"edgecolor\": \"#EEEEEE\", \"facecolor\": \"#E24A33\", \"edgewidth\": 0.5, \"pathcodes\": [\"M\", \"L\", \"L\", \"L\", \"Z\"], \"yindex\": 1, \"coordinates\": \"data\", \"dasharray\": \"10,0\", \"zorder\": 1, \"alpha\": 1, \"xindex\": 0, \"data\": \"data21\", \"id\": \"21018689673552\"}, {\"edgecolor\": \"#EEEEEE\", \"facecolor\": \"#E24A33\", \"edgewidth\": 0.5, \"pathcodes\": [\"M\", \"L\", \"L\", \"L\", \"Z\"], \"yindex\": 1, \"coordinates\": \"data\", \"dasharray\": \"10,0\", \"zorder\": 1, \"alpha\": 1, \"xindex\": 0, \"data\": \"data22\", \"id\": \"21018689863696\"}, {\"edgecolor\": \"#EEEEEE\", \"facecolor\": \"#E24A33\", \"edgewidth\": 0.5, \"pathcodes\": [\"M\", \"L\", \"L\", \"L\", \"Z\"], \"yindex\": 1, \"coordinates\": \"data\", \"dasharray\": \"10,0\", \"zorder\": 1, \"alpha\": 1, \"xindex\": 0, \"data\": \"data23\", \"id\": \"21018689865360\"}, {\"edgecolor\": \"#EEEEEE\", \"facecolor\": \"#E24A33\", \"edgewidth\": 0.5, \"pathcodes\": [\"M\", \"L\", \"L\", \"L\", \"Z\"], \"yindex\": 1, \"coordinates\": \"data\", \"dasharray\": \"10,0\", \"zorder\": 1, \"alpha\": 1, \"xindex\": 0, \"data\": \"data24\", \"id\": \"21018689830224\"}, {\"edgecolor\": \"#EEEEEE\", \"facecolor\": \"#E24A33\", \"edgewidth\": 0.5, \"pathcodes\": [\"M\", \"L\", \"L\", \"L\", \"Z\"], \"yindex\": 1, \"coordinates\": \"data\", \"dasharray\": \"10,0\", \"zorder\": 1, \"alpha\": 1, \"xindex\": 0, \"data\": \"data25\", \"id\": \"21018689831888\"}, {\"edgecolor\": \"#EEEEEE\", \"facecolor\": \"#E24A33\", \"edgewidth\": 0.5, \"pathcodes\": [\"M\", \"L\", \"L\", \"L\", \"Z\"], \"yindex\": 1, \"coordinates\": \"data\", \"dasharray\": \"10,0\", \"zorder\": 1, \"alpha\": 1, \"xindex\": 0, \"data\": \"data26\", \"id\": \"21018689833168\"}, {\"edgecolor\": \"#EEEEEE\", \"facecolor\": \"#E24A33\", \"edgewidth\": 0.5, \"pathcodes\": [\"M\", \"L\", \"L\", \"L\", \"Z\"], \"yindex\": 1, \"coordinates\": \"data\", \"dasharray\": \"10,0\", \"zorder\": 1, \"alpha\": 1, \"xindex\": 0, \"data\": \"data27\", \"id\": \"21018689700112\"}, {\"edgecolor\": \"#EEEEEE\", \"facecolor\": \"#E24A33\", \"edgewidth\": 0.5, \"pathcodes\": [\"M\", \"L\", \"L\", \"L\", \"Z\"], \"yindex\": 1, \"coordinates\": \"data\", \"dasharray\": \"10,0\", \"zorder\": 1, \"alpha\": 1, \"xindex\": 0, \"data\": \"data28\", \"id\": \"21018689701776\"}, {\"edgecolor\": \"#EEEEEE\", \"facecolor\": \"#E24A33\", \"edgewidth\": 0.5, \"pathcodes\": [\"M\", \"L\", \"L\", \"L\", \"Z\"], \"yindex\": 1, \"coordinates\": \"data\", \"dasharray\": \"10,0\", \"zorder\": 1, \"alpha\": 1, \"xindex\": 0, \"data\": \"data29\", \"id\": \"21018689744464\"}, {\"edgecolor\": \"#EEEEEE\", \"facecolor\": \"#E24A33\", \"edgewidth\": 0.5, \"pathcodes\": [\"M\", \"L\", \"L\", \"L\", \"Z\"], \"yindex\": 1, \"coordinates\": \"data\", \"dasharray\": \"10,0\", \"zorder\": 1, \"alpha\": 1, \"xindex\": 0, \"data\": \"data30\", \"id\": \"21018689746128\"}, {\"edgecolor\": \"#EEEEEE\", \"facecolor\": \"#E24A33\", \"edgewidth\": 0.5, \"pathcodes\": [\"M\", \"L\", \"L\", \"L\", \"Z\"], \"yindex\": 1, \"coordinates\": \"data\", \"dasharray\": \"10,0\", \"zorder\": 1, \"alpha\": 1, \"xindex\": 0, \"data\": \"data31\", \"id\": \"21018689747408\"}, {\"edgecolor\": \"#EEEEEE\", \"facecolor\": \"#E24A33\", \"edgewidth\": 0.5, \"pathcodes\": [\"M\", \"L\", \"L\", \"L\", \"Z\"], \"yindex\": 1, \"coordinates\": \"data\", \"dasharray\": \"10,0\", \"zorder\": 1, \"alpha\": 1, \"xindex\": 0, \"data\": \"data32\", \"id\": \"21018682323472\"}, {\"edgecolor\": \"#EEEEEE\", \"facecolor\": \"#E24A33\", \"edgewidth\": 0.5, \"pathcodes\": [\"M\", \"L\", \"L\", \"L\", \"Z\"], \"yindex\": 1, \"coordinates\": \"data\", \"dasharray\": \"10,0\", \"zorder\": 1, \"alpha\": 1, \"xindex\": 0, \"data\": \"data33\", \"id\": \"21018682325136\"}, {\"edgecolor\": \"#EEEEEE\", \"facecolor\": \"#E24A33\", \"edgewidth\": 0.5, \"pathcodes\": [\"M\", \"L\", \"L\", \"L\", \"Z\"], \"yindex\": 1, \"coordinates\": \"data\", \"dasharray\": \"10,0\", \"zorder\": 1, \"alpha\": 1, \"xindex\": 0, \"data\": \"data34\", \"id\": \"21018682347344\"}, {\"edgecolor\": \"#EEEEEE\", \"facecolor\": \"#E24A33\", \"edgewidth\": 0.5, \"pathcodes\": [\"M\", \"L\", \"L\", \"L\", \"Z\"], \"yindex\": 1, \"coordinates\": \"data\", \"dasharray\": \"10,0\", \"zorder\": 1, \"alpha\": 1, \"xindex\": 0, \"data\": \"data35\", \"id\": \"21018682349008\"}, {\"edgecolor\": \"#EEEEEE\", \"facecolor\": \"#E24A33\", \"edgewidth\": 0.5, \"pathcodes\": [\"M\", \"L\", \"L\", \"L\", \"Z\"], \"yindex\": 1, \"coordinates\": \"data\", \"dasharray\": \"10,0\", \"zorder\": 1, \"alpha\": 1, \"xindex\": 0, \"data\": \"data36\", \"id\": \"21018682289296\"}, {\"edgecolor\": \"#EEEEEE\", \"facecolor\": \"#E24A33\", \"edgewidth\": 0.5, \"pathcodes\": [\"M\", \"L\", \"L\", \"L\", \"Z\"], \"yindex\": 1, \"coordinates\": \"data\", \"dasharray\": \"10,0\", \"zorder\": 1, \"alpha\": 1, \"xindex\": 0, \"data\": \"data37\", \"id\": \"21018682290960\"}, {\"edgecolor\": \"#EEEEEE\", \"facecolor\": \"#E24A33\", \"edgewidth\": 0.5, \"pathcodes\": [\"M\", \"L\", \"L\", \"L\", \"Z\"], \"yindex\": 1, \"coordinates\": \"data\", \"dasharray\": \"10,0\", \"zorder\": 1, \"alpha\": 1, \"xindex\": 0, \"data\": \"data38\", \"id\": \"21018682292624\"}, {\"edgecolor\": \"#EEEEEE\", \"facecolor\": \"#E24A33\", \"edgewidth\": 0.5, \"pathcodes\": [\"M\", \"L\", \"L\", \"L\", \"Z\"], \"yindex\": 1, \"coordinates\": \"data\", \"dasharray\": \"10,0\", \"zorder\": 1, \"alpha\": 1, \"xindex\": 0, \"data\": \"data39\", \"id\": \"21018682306640\"}, {\"edgecolor\": \"#EEEEEE\", \"facecolor\": \"#E24A33\", \"edgewidth\": 0.5, \"pathcodes\": [\"M\", \"L\", \"L\", \"L\", \"Z\"], \"yindex\": 1, \"coordinates\": \"data\", \"dasharray\": \"10,0\", \"zorder\": 1, \"alpha\": 1, \"xindex\": 0, \"data\": \"data40\", \"id\": \"21018682308304\"}, {\"edgecolor\": \"#EEEEEE\", \"facecolor\": \"#E24A33\", \"edgewidth\": 0.5, \"pathcodes\": [\"M\", \"L\", \"L\", \"L\", \"Z\"], \"yindex\": 1, \"coordinates\": \"data\", \"dasharray\": \"10,0\", \"zorder\": 1, \"alpha\": 1, \"xindex\": 0, \"data\": \"data41\", \"id\": \"21018682350992\"}, {\"edgecolor\": \"#EEEEEE\", \"facecolor\": \"#E24A33\", \"edgewidth\": 0.5, \"pathcodes\": [\"M\", \"L\", \"L\", \"L\", \"Z\"], \"yindex\": 1, \"coordinates\": \"data\", \"dasharray\": \"10,0\", \"zorder\": 1, \"alpha\": 1, \"xindex\": 0, \"data\": \"data42\", \"id\": \"21018682352656\"}, {\"edgecolor\": \"#EEEEEE\", \"facecolor\": \"#E24A33\", \"edgewidth\": 0.5, \"pathcodes\": [\"M\", \"L\", \"L\", \"L\", \"Z\"], \"yindex\": 1, \"coordinates\": \"data\", \"dasharray\": \"10,0\", \"zorder\": 1, \"alpha\": 1, \"xindex\": 0, \"data\": \"data43\", \"id\": \"21018682353936\"}, {\"edgecolor\": \"#EEEEEE\", \"facecolor\": \"#E24A33\", \"edgewidth\": 0.5, \"pathcodes\": [\"M\", \"L\", \"L\", \"L\", \"Z\"], \"yindex\": 1, \"coordinates\": \"data\", \"dasharray\": \"10,0\", \"zorder\": 1, \"alpha\": 1, \"xindex\": 0, \"data\": \"data44\", \"id\": \"21018682253648\"}, {\"edgecolor\": \"#EEEEEE\", \"facecolor\": \"#E24A33\", \"edgewidth\": 0.5, \"pathcodes\": [\"M\", \"L\", \"L\", \"L\", \"Z\"], \"yindex\": 1, \"coordinates\": \"data\", \"dasharray\": \"10,0\", \"zorder\": 1, \"alpha\": 1, \"xindex\": 0, \"data\": \"data45\", \"id\": \"21018682255312\"}, {\"edgecolor\": \"#EEEEEE\", \"facecolor\": \"#E24A33\", \"edgewidth\": 0.5, \"pathcodes\": [\"M\", \"L\", \"L\", \"L\", \"Z\"], \"yindex\": 1, \"coordinates\": \"data\", \"dasharray\": \"10,0\", \"zorder\": 1, \"alpha\": 1, \"xindex\": 0, \"data\": \"data46\", \"id\": \"21018682211984\"}, {\"edgecolor\": \"#EEEEEE\", \"facecolor\": \"#E24A33\", \"edgewidth\": 0.5, \"pathcodes\": [\"M\", \"L\", \"L\", \"L\", \"Z\"], \"yindex\": 1, \"coordinates\": \"data\", \"dasharray\": \"10,0\", \"zorder\": 1, \"alpha\": 1, \"xindex\": 0, \"data\": \"data47\", \"id\": \"21018682213648\"}, {\"edgecolor\": \"#EEEEEE\", \"facecolor\": \"#E24A33\", \"edgewidth\": 0.5, \"pathcodes\": [\"M\", \"L\", \"L\", \"L\", \"Z\"], \"yindex\": 1, \"coordinates\": \"data\", \"dasharray\": \"10,0\", \"zorder\": 1, \"alpha\": 1, \"xindex\": 0, \"data\": \"data48\", \"id\": \"21018682215376\"}, {\"edgecolor\": \"#EEEEEE\", \"facecolor\": \"#E24A33\", \"edgewidth\": 0.5, \"pathcodes\": [\"M\", \"L\", \"L\", \"L\", \"Z\"], \"yindex\": 1, \"coordinates\": \"data\", \"dasharray\": \"10,0\", \"zorder\": 1, \"alpha\": 1, \"xindex\": 0, \"data\": \"data49\", \"id\": \"21018682217040\"}, {\"edgecolor\": \"#EEEEEE\", \"facecolor\": \"#E24A33\", \"edgewidth\": 0.5, \"pathcodes\": [\"M\", \"L\", \"L\", \"L\", \"Z\"], \"yindex\": 1, \"coordinates\": \"data\", \"dasharray\": \"10,0\", \"zorder\": 1, \"alpha\": 1, \"xindex\": 0, \"data\": \"data50\", \"id\": \"21018682218704\"}], \"sharey\": [], \"sharex\": [], \"axesbgalpha\": null, \"axes\": [{\"scale\": \"linear\", \"tickformat\": null, \"grid\": {\"color\": \"#FFFFFF\", \"alpha\": 1.0, \"dasharray\": \"10,0\", \"gridOn\": true}, \"fontsize\": 10.0, \"position\": \"bottom\", \"nticks\": 7, \"tickvalues\": null}, {\"scale\": \"linear\", \"tickformat\": null, \"grid\": {\"color\": \"#FFFFFF\", \"alpha\": 1.0, \"dasharray\": \"10,0\", \"gridOn\": true}, \"fontsize\": 10.0, \"position\": \"left\", \"nticks\": 9, \"tickvalues\": null}], \"lines\": [], \"markers\": [], \"id\": \"21018682425872\", \"ydomain\": [0.0, 16000000.0], \"collections\": [], \"xscale\": \"linear\", \"bbox\": [0.125, 0.125, 0.77500000000000002, 0.77500000000000002]}], \"data\": {\"data42\": [[494.44000000000005, 0.0], [505.28000000000003, 0.0], [505.28000000000003, 856.0], [494.44000000000005, 856.0]], \"data43\": [[505.28, 0.0], [516.12, 0.0], [516.12, 292.0], [505.28, 292.0]], \"data40\": [[472.76, 0.0], [483.6, 0.0], [483.6, 5114.0], [472.76, 5114.0]], \"data41\": [[483.6, 0.0], [494.44, 0.0], [494.44, 2565.0], [483.6, 2565.0]], \"data46\": [[537.8, 0.0], [548.64, 0.0], [548.64, 1554.0], [537.8, 1554.0]], \"data47\": [[548.6399999999999, 0.0], [559.4799999999999, 0.0], [559.4799999999999, 21555.0], [548.6399999999999, 21555.0]], \"data44\": [[516.1199999999999, 0.0], [526.9599999999999, 0.0], [526.9599999999999, 121.0], [516.1199999999999, 121.0]], \"data45\": [[526.96, 0.0], [537.8, 0.0], [537.8, 267.0], [526.96, 267.0]], \"data48\": [[559.48, 0.0], [570.3199999999999, 0.0], [570.3199999999999, 2407.0], [559.48, 2407.0]], \"data49\": [[570.3199999999999, 0.0], [581.16, 0.0], [581.16, 366.0], [570.3199999999999, 366.0]], \"data50\": [[581.1599999999999, 0.0], [591.9999999999999, 0.0], [591.9999999999999, 178.0], [581.1599999999999, 178.0]], \"data28\": [[342.68000000000006, 0.0], [353.52000000000004, 0.0], [353.52000000000004, 199930.0], [342.68000000000006, 199930.0]], \"data06\": [[104.20000000000002, 0.0], [115.04, 0.0], [115.04, 1548.0], [104.20000000000002, 1548.0]], \"data08\": [[125.88000000000001, 0.0], [136.72000000000003, 0.0], [136.72000000000003, 2576.0], [125.88000000000001, 2576.0]], \"data09\": [[136.71999999999997, 0.0], [147.55999999999997, 0.0], [147.55999999999997, 2859.0], [136.71999999999997, 2859.0]], \"data20\": [[255.95999999999998, 0.0], [266.79999999999995, 0.0], [266.79999999999995, 1721.0], [255.95999999999998, 1721.0]], \"data21\": [[266.80000000000007, 0.0], [277.64000000000004, 0.0], [277.64000000000004, 1789.0], [266.80000000000007, 1789.0]], \"data22\": [[277.64, 0.0], [288.48, 0.0], [288.48, 2032.0], [277.64, 2032.0]], \"data05\": [[93.36, 0.0], [104.2, 0.0], [104.2, 1062.0], [93.36, 1062.0]], \"data02\": [[60.84, 0.0], [71.68, 0.0], [71.68, 566.0], [60.84, 566.0]], \"data04\": [[82.52, 0.0], [93.36, 0.0], [93.36, 799.0], [82.52, 799.0]], \"data26\": [[321.0, 0.0], [331.84, 0.0], [331.84, 85370.0], [321.0, 85370.0]], \"data01\": [[50.0, 0.0], [60.84, 0.0], [60.84, 769.0], [50.0, 769.0]], \"data23\": [[288.48, 0.0], [299.32, 0.0], [299.32, 2779.0], [288.48, 2779.0]], \"data24\": [[299.32000000000005, 0.0], [310.16, 0.0], [310.16, 8819.0], [299.32000000000005, 8819.0]], \"data03\": [[71.68, 0.0], [82.52, 0.0], [82.52, 1017.0], [71.68, 1017.0]], \"data27\": [[331.84, 0.0], [342.68, 0.0], [342.68, 155009.0], [331.84, 155009.0]], \"data07\": [[115.03999999999999, 0.0], [125.88, 0.0], [125.88, 2051.0], [115.03999999999999, 2051.0]], \"data37\": [[440.24, 0.0], [451.08, 0.0], [451.08, 40254.0], [440.24, 40254.0]], \"data36\": [[429.4, 0.0], [440.24, 0.0], [440.24, 61534.0], [429.4, 61534.0]], \"data35\": [[418.56000000000006, 0.0], [429.40000000000003, 0.0], [429.40000000000003, 81456.0], [418.56000000000006, 81456.0]], \"data34\": [[407.71999999999997, 0.0], [418.56, 0.0], [418.56, 107245.0], [407.71999999999997, 107245.0]], \"data25\": [[310.15999999999997, 0.0], [321.0, 0.0], [321.0, 30393.0], [310.15999999999997, 30393.0]], \"data32\": [[386.0400000000001, 0.0], [396.88000000000005, 0.0], [396.88000000000005, 164053.0], [386.0400000000001, 164053.0]], \"data31\": [[375.2, 0.0], [386.04, 0.0], [386.04, 728568.0], [375.2, 728568.0]], \"data30\": [[364.36, 0.0], [375.2, 0.0], [375.2, 14413931.0], [364.36, 14413931.0]], \"data39\": [[461.9200000000001, 0.0], [472.76000000000005, 0.0], [472.76000000000005, 10273.0], [461.9200000000001, 10273.0]], \"data38\": [[451.08, 0.0], [461.92, 0.0], [461.92, 19289.0], [451.08, 19289.0]], \"data19\": [[245.12, 0.0], [255.96, 0.0], [255.96, 1597.0], [245.12, 1597.0]], \"data18\": [[234.27999999999997, 0.0], [245.11999999999998, 0.0], [245.11999999999998, 1759.0], [234.27999999999997, 1759.0]], \"data15\": [[201.76, 0.0], [212.6, 0.0], [212.6, 2048.0], [201.76, 2048.0]], \"data14\": [[190.91999999999996, 0.0], [201.75999999999996, 0.0], [201.75999999999996, 2128.0], [190.91999999999996, 2128.0]], \"data17\": [[223.44, 0.0], [234.28, 0.0], [234.28, 1925.0], [223.44, 1925.0]], \"data16\": [[212.59999999999997, 0.0], [223.43999999999997, 0.0], [223.43999999999997, 2214.0], [212.59999999999997, 2214.0]], \"data11\": [[158.39999999999998, 0.0], [169.23999999999998, 0.0], [169.23999999999998, 2642.0], [158.39999999999998, 2642.0]], \"data10\": [[147.56, 0.0], [158.4, 0.0], [158.4, 2663.0], [147.56, 2663.0]], \"data13\": [[180.07999999999998, 0.0], [190.92, 0.0], [190.92, 2125.0], [180.07999999999998, 2125.0]], \"data12\": [[169.24, 0.0], [180.07999999999998, 0.0], [180.07999999999998, 2541.0], [169.24, 2541.0]], \"data29\": [[353.52, 0.0], [364.36, 0.0], [364.36, 199612.0], [353.52, 199612.0]], \"data33\": [[396.88, 0.0], [407.71999999999997, 0.0], [407.71999999999997, 119072.0], [396.88, 119072.0]]}, \"id\": \"21018682425808\", \"toolbar\": [\"reset\", \"move\"], \"height\": 480.0});\n",
        "}\n",
        "\n",
        "if(typeof(mpld3) !== \"undefined\"){\n",
        "   // already loaded: just create the figure\n",
        "   create_fig210186824258083669597625();\n",
        "}else if(typeof define === \"function\" && define.amd){\n",
        "   // require.js is available: use it to load d3/mpld3\n",
        "   require.config({paths: {d3: \"http://d3js.org/d3.v3.min\"}});\n",
        "   require([\"d3\"], function(d3){\n",
        "      window.d3 = d3;\n",
        "      mpld3_load_lib(\"http://mpld3.github.io/js/mpld3.v0.2git.js\", create_fig210186824258083669597625);\n",
        "    });\n",
        "}else{\n",
        "    // require.js not available: dynamically load d3 & mpld3\n",
        "    mpld3_load_lib(\"http://d3js.org/d3.v3.min.js\", function(){\n",
        "        mpld3_load_lib(\"http://mpld3.github.io/js/mpld3.v0.2git.js\", create_fig210186824258083669597625);})\n",
        "}\n",
        "</script>"
       ],
       "metadata": {},
       "output_type": "display_data",
       "png": "[encoded data removed]",
       "text": [
        "<matplotlib.figure.Figure at 0x4e9b7d0>"
       ]
      }
     ],
     "prompt_number": 28
    },
    {
     "cell_type": "code",
     "collapsed": false,
     "input": [
      "# I want to know what the average length is.\n",
      "# I think numpy can do this.\n",
      "import numpy\n",
      "numpy.mean(lengths)\n",
      "# Yay, it worked!"
     ],
     "language": "python",
     "metadata": {},
     "outputs": [
      {
       "metadata": {},
       "output_type": "pyout",
       "prompt_number": 31,
       "text": [
        "373.39474152219196"
       ]
      }
     ],
     "prompt_number": 31
    },
    {
     "cell_type": "code",
     "collapsed": false,
     "input": [],
     "language": "python",
     "metadata": {},
     "outputs": []
    }
   ],
   "metadata": {}
  }
 ]
}