{
 "cells": [
  {
   "cell_type": "code",
   "execution_count": 31,
   "metadata": {
    "collapsed": false
   },
   "outputs": [
    {
     "name": "stdout",
     "output_type": "stream",
     "text": [
      "The rpy2.ipython extension is already loaded. To reload it, use:\n",
      "  %reload_ext rpy2.ipython\n"
     ]
    }
   ],
   "source": [
    "%load_ext rpy2.ipython"
   ]
  },
  {
   "cell_type": "code",
   "execution_count": 32,
   "metadata": {
    "collapsed": false
   },
   "outputs": [],
   "source": [
    "%%R\n",
    "# loading R packages\n",
    "library(dplyr)\n",
    "library(ggplot2)\n",
    "library(tidyr)"
   ]
  },
  {
   "cell_type": "code",
   "execution_count": 33,
   "metadata": {
    "collapsed": true
   },
   "outputs": [],
   "source": [
    "%%R\n",
    "l2fc<-read.csv(\"../data/l2fc.csv\")"
   ]
  },
  {
   "cell_type": "code",
   "execution_count": 34,
   "metadata": {
    "collapsed": false
   },
   "outputs": [
    {
     "data": {
      "text/plain": [
       "  Day Amdmt     OTU   baseMean        l2FC         SE    pvalue      padj\n",
       "1   1     1  OTU.43  223.48048 -0.11012779 0.29052924 0.7046439 0.8990732\n",
       "2   1     1   OTU.2 1664.01427  0.11095267 0.07837381 0.1568676 0.4569113\n",
       "3   1     1 OTU.187  362.13258  0.06605159 0.15991481 0.6795756 0.8866206\n",
       "4   1     1 OTU.150   39.05672  0.03205671 0.15816953 0.8393906 0.9496064\n",
       "5   1     1  OTU.91   62.21140 -0.01718316 0.37497442 0.9634498 0.9886185\n",
       "6   1     1 OTU.305   37.70726 -0.14629517 0.27103038 0.5893528 0.8405491\n"
      ]
     },
     "metadata": {},
     "output_type": "display_data"
    }
   ],
   "source": [
    "%%R\n",
    "head(l2fc)"
   ]
  },
  {
   "cell_type": "code",
   "execution_count": 35,
   "metadata": {
    "collapsed": false
   },
   "outputs": [
    {
     "data": {
      "text/plain": [
       "Source: local data frame [6 x 4]\n",
       "\n",
       "     OTU Amdmt Day N\n",
       "1  OTU.1     1   1 1\n",
       "2  OTU.1     1   2 1\n",
       "3  OTU.1     2   1 1\n",
       "4  OTU.1     2   2 1\n",
       "5 OTU.10     1   1 1\n",
       "6 OTU.10     1   2 1\n"
      ]
     },
     "metadata": {},
     "output_type": "display_data"
    }
   ],
   "source": [
    "%%R\n",
    "l2fc %>%\n",
    "    group_by(OTU, Amdmt, Day) %>%\n",
    "    summarize(N = n()) %>%\n",
    "    arrange(desc(N)) %>%\n",
    "    group_by() %>%\n",
    "    head"
   ]
  },
  {
   "cell_type": "code",
   "execution_count": null,
   "metadata": {
    "collapsed": false
   },
   "outputs": [],
   "source": [
    "%%R\n",
    "d.plot = l2fc %>%\n",
    "    select(OTU, Amdmt, Day, l2FC) %>%\n",
    "    spread(Amdmt, l2FC)\n",
    "\n",
    "p = ggplot(d.plot, aes(x = `1`, y =`2`))\n",
    "p = p + geom_point()\n",
    "p = p + geom_abline(slope = 1, intercept = 0)\n",
    "p = p + stat_smooth(method = \"lm\")\n",
    "\n",
    "p"
   ]
  },
  {
   "cell_type": "code",
   "execution_count": null,
   "metadata": {
    "collapsed": true
   },
   "outputs": [],
   "source": []
  },
  {
   "cell_type": "code",
   "execution_count": null,
   "metadata": {
    "collapsed": true
   },
   "outputs": [],
   "source": [
    "%%R\n"
   ]
  }
 ],
 "metadata": {
  "kernelspec": {
   "display_name": "Python 2",
   "language": "python",
   "name": "python2"
  },
  "language_info": {
   "codemirror_mode": {
    "name": "ipython",
    "version": 2
   },
   "file_extension": ".py",
   "mimetype": "text/x-python",
   "name": "python",
   "nbconvert_exporter": "python",
   "pygments_lexer": "ipython2",
   "version": "2.7.9"
  }
 },
 "nbformat": 4,
 "nbformat_minor": 0
}
