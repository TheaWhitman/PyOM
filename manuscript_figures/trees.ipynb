{
 "cells": [
  {
   "cell_type": "code",
   "execution_count": 1,
   "metadata": {
    "collapsed": false
   },
   "outputs": [
    {
     "name": "stderr",
     "output_type": "stream",
     "text": [
      "/opt/anaconda/lib/python2.7/site-packages/pandas/rpy/__init__.py:11: FutureWarning: The pandas.rpy module is deprecated and will be removed in a future version. We refer to external packages like rpy2. \n",
      "See here for a guide on how to port your code to rpy2: http://pandas.pydata.org/pandas-docs/stable/r_interface.html\n",
      "  FutureWarning)\n",
      "/opt/anaconda/lib/python2.7/site-packages/mpltools/style/__init__.py:42: FutureWarning: \n",
      "\n",
      "    The style-sheet functionality in mpltools has been integrated into\n",
      "    Matplotlib >= 1.4. This module will be removed in a future release.\n",
      "\n",
      "    Note that style-sheets used by `matplotlib.style` use the standard\n",
      "    Matplotlib rc-file syntax instead of the INI format used by `mpltools`.\n",
      "    This mostly means un-quoting strings and changing '=' to ':'.\n",
      "\n",
      "\n",
      "  \"\"\", FutureWarning)\n"
     ]
    }
   ],
   "source": [
    "from IPython.display import FileLink, Image\n",
    "import pandas as pd\n",
    "import pandas.rpy.common as com\n",
    "import brewer2mpl\n",
    "import matplotlib.pyplot as plt\n",
    "import matplotlib\n",
    "from matplotlib import gridspec\n",
    "from matplotlib import collections\n",
    "from numpy import nan, min, array\n",
    "import itertools\n",
    "from mpltools import style\n",
    "style.use(\"ggplot\")\n",
    "%matplotlib inline\n",
    "%load_ext rpy2.ipython"
   ]
  },
  {
   "cell_type": "code",
   "execution_count": 2,
   "metadata": {
    "collapsed": false
   },
   "outputs": [
    {
     "name": "stderr",
     "output_type": "stream",
     "text": [
      "/opt/anaconda/lib/python2.7/site-packages/rpy2/robjects/functions.py:106: UserWarning: \n",
      "Attaching package: ‘dplyr’\n",
      "\n",
      "\n",
      "  res = super(Function, self).__call__(*new_args, **new_kwargs)\n",
      "/opt/anaconda/lib/python2.7/site-packages/rpy2/robjects/functions.py:106: UserWarning: The following objects are masked from ‘package:plyr’:\n",
      "\n",
      "    arrange, count, desc, failwith, id, mutate, rename, summarise,\n",
      "    summarize\n",
      "\n",
      "\n",
      "  res = super(Function, self).__call__(*new_args, **new_kwargs)\n",
      "/opt/anaconda/lib/python2.7/site-packages/rpy2/robjects/functions.py:106: UserWarning: The following objects are masked from ‘package:stats’:\n",
      "\n",
      "    filter, lag\n",
      "\n",
      "\n",
      "  res = super(Function, self).__call__(*new_args, **new_kwargs)\n",
      "/opt/anaconda/lib/python2.7/site-packages/rpy2/robjects/functions.py:106: UserWarning: The following objects are masked from ‘package:base’:\n",
      "\n",
      "    intersect, setdiff, setequal, union\n",
      "\n",
      "\n",
      "  res = super(Function, self).__call__(*new_args, **new_kwargs)\n"
     ]
    }
   ],
   "source": [
    "%%R\n",
    "library(phyloseq)\n",
    "library(plyr); library(dplyr)"
   ]
  },
  {
   "cell_type": "code",
   "execution_count": 3,
   "metadata": {
    "collapsed": false
   },
   "outputs": [],
   "source": [
    "%%R\n",
    "physeq = import_biom(\"../data/otu_table_tax_no211_meta.biom\", \"../data/ssu-aln.bacteria.mask.tre\", parseFunction = parse_taxonomy_greengenes)"
   ]
  },
  {
   "cell_type": "code",
   "execution_count": 4,
   "metadata": {
    "collapsed": false
   },
   "outputs": [
    {
     "data": {
      "text/plain": [
       " [1] \"Acidobacteria\"    \"Actinobacteria\"   \"AD3\"              \"Armatimonadetes\" \n",
       " [5] \"Bacteroidetes\"    \"BHI80-139\"        \"BRC1\"             \"Chlamydiae\"      \n",
       " [9] \"Chlorobi\"         \"Chloroflexi\"      \"Cyanobacteria\"    \"Elusimicrobia\"   \n",
       "[13] \"FBP\"              \"FCPU426\"          \"Fibrobacteres\"    \"Firmicutes\"      \n",
       "[17] \"GAL15\"            \"Gemmatimonadetes\" \"GN02\"             \"GN04\"            \n",
       "[21] \"Kazan-3B-28\"      \"MVP-21\"           \"Nitrospirae\"      \"NKB19\"           \n",
       "[25] \"OD1\"              \"OP11\"             \"OP3\"              \"Planctomycetes\"  \n",
       "[29] \"Proteobacteria\"   \"SBR1093\"          \"Spirochaetes\"     \"Tenericutes\"     \n",
       "[33] \"[Thermi]\"         \"TM6\"              \"TM7\"              \"Verrucomicrobia\" \n",
       "[37] \"WPS-2\"            \"WS2\"              \"WS3\"             \n"
      ]
     },
     "metadata": {},
     "output_type": "display_data"
    }
   ],
   "source": [
    "%%R\n",
    "t = tax_table(physeq)\n",
    "levels(data.frame(t)$Phylum)"
   ]
  },
  {
   "cell_type": "code",
   "execution_count": 5,
   "metadata": {
    "collapsed": false
   },
   "outputs": [],
   "source": [
    "#%%R\n",
    "#TT = data.frame(tax_table(physeq)) %>% add_rownames(\"OTU\")\n",
    "\n",
    "#read.csv(\"../data/l2fc.csv\") %>%\n",
    "#    left_join(TT) %>% \n",
    "#    write.csv(\"../data/l2fc_w_tax.csv\", row.names = FALSE)"
   ]
  },
  {
   "cell_type": "code",
   "execution_count": 6,
   "metadata": {
    "collapsed": false
   },
   "outputs": [],
   "source": [
    "matplotlib.rcParams[\"axes.facecolor\"] = \"white\"\n",
    "matplotlib.rcParams[\"axes.edgecolor\"] = \"#151515\"\n",
    "matplotlib.rcParams[\"grid.color\"] = \"#959595\"\n",
    "matplotlib.rcParams[\"grid.alpha\"] = \"0.50\"\n",
    "matplotlib.rcParams[\"font.size\"] = 7.5"
   ]
  },
  {
   "cell_type": "code",
   "execution_count": 11,
   "metadata": {
    "collapsed": false
   },
   "outputs": [],
   "source": [
    "def get_l2fc_df(df_fp, taxon, rank):\n",
    "    df = pd.read_csv(df_fp, sep=\",\")\n",
    "    df_subset = df[df[rank]==taxon]\n",
    "    return df_subset, df_subset[\"OTU\"]\n",
    "\n",
    "def get_tree_df(physeq_str, OTUs):\n",
    "    subset_fn_str = \"prune_taxa(OTUs, %s)\" %physeq_str\n",
    "    print subset_fn_str\n",
    "    %Rpush subset_fn_str\n",
    "    %Rpush OTUs\n",
    "    %R OTUs = as.character(OTUs)\n",
    "    %R ps = eval(parse(text=subset_fn_str))\n",
    "    %R tree_dfs = phyloseq:::tree_layout(phy_tree(ps), ladderize=\"right\")\n",
    "    %R tax = data.frame(tax_table(ps), stringsAsFactors = FALSE)\n",
    "    %R tax$OTU = rownames(tax)\n",
    "    %R tax[is.na(tax)] = 'unassigned'\n",
    "    %R edge_df = left_join(data.frame(tree_dfs$edgeDT), tax)\n",
    "    %R edge_df$OTU = factor(edge_df$OTU)\n",
    "    %R vert_df = data.frame(tree_dfs$vertDT)\n",
    "    edge_df = com.load_data(\"edge_df\")\n",
    "    print edge_df\n",
    "    vert_df = com.load_data(\"vert_df\")\n",
    "    return edge_df, vert_df\n",
    "\n",
    "def add_tree_info(tip_df, l2fc_df):\n",
    "    l2fc_df = l2fc_df.merge(tip_df[[\"y\",\"OTU\"]], \n",
    "                            left_on=\"OTU\", \n",
    "                            right_on=\"OTU\")\n",
    "    return l2fc_df\n",
    "\n",
    "def get_tax_colordict(tip_df, color_rank):\n",
    "    cats = set(tip_df[color_rank].dropna())\n",
    "    c_list = []\n",
    "    for m in [\"Set3\", \"Dark2\", \"Accent\", \"Set1\"]:\n",
    "        colors = brewer2mpl.get_map(m, \"qualitative\", 8).hex_colors\n",
    "        [c_list.append(c) for c in colors]\n",
    "    color_dict = dict(itertools.izip(cats, itertools.cycle(c_list)))\n",
    "    color_dict[\"unassigned\"] = \"#505050\"\n",
    "    return color_dict\n",
    "\n",
    "def get_responders(l2fc_df, amendment):\n",
    "    min_padj = l2fc_df[[\"OTU\",\"padj\",\"Amdmt\"]].groupby([\"Amdmt\",\"OTU\"]).min()\n",
    "    t = min_padj[\"padj\"]\n",
    "    tmp = t[amendment]\n",
    "    rsp = tmp[tmp<0.10].index.tolist()\n",
    "    return rsp\n",
    "    \n",
    "def make_tree_fig(taxon, taxon_rank, color_rank, l2fc_fp, physeq_str, lw_tax = 3, leg_spacing = 0.25, \n",
    "                  save_fn = None, pt_size = 50):\n",
    "    l2fc_df, otus = get_l2fc_df(l2fc_fp, taxon, taxon_rank)\n",
    "    edge_df, vert_df = get_tree_df(physeq_str, otus.tolist())\n",
    "    tip_df = edge_df[edge_df[\"OTU\"].notnull()]\n",
    "    l2fc_df = add_tree_info(tip_df, l2fc_df)\n",
    "    tax_colors = get_tax_colordict(tip_df, color_rank)\n",
    "    \n",
    "    days = map(str,[12,82])\n",
    "    scaleFactor = 0.125\n",
    "    \n",
    "    pyom_rspdrs = get_responders(l2fc_df, 1)\n",
    "    stover_rspdrs = get_responders(l2fc_df, 2)\n",
    "\n",
    "    df_pivot = l2fc_df.pivot_table(index=[\"y\"], columns=[\"Amdmt\",\"Day\"], values=\"l2FC\")\n",
    "    figHeight = min(array([df_pivot.shape[0]*scaleFactor, 30]))\n",
    "\n",
    "    gs = gridspec.GridSpec(nrows=1, ncols=4, width_ratios=[6,2.25,3*.75,3*.75])\n",
    "\n",
    "    fig = plt.figure()\n",
    "    fig.set_size_inches((5,figHeight))\n",
    "    #fig.set_size_inches((8,20))\n",
    "    fig.subplots_adjust(wspace=0.05)\n",
    "\n",
    "    cm = brewer2mpl.get_map('RdYlBu', 'diverging', 5, reverse=True).mpl_colormap\n",
    "\n",
    "    edge_segments = edge_df.apply(lambda row: [(row[\"xleft\"], row[\"y\"]-1), (row[\"xright\"], row[\"y\"]-1)], axis = 1).values\n",
    "    edge_collection = collections.LineCollection(segments = edge_segments, color=\"k\", linewidths = 1.5)\n",
    "    \n",
    "    vert_segments = vert_df.apply(lambda row: [(row[\"x\"], row[\"vmin\"]-1), (row[\"x\"], row[\"vmax\"]-1)], axis = 1).values\n",
    "    vert_collection = collections.LineCollection(segments = vert_segments, color=\"k\", linewidths = 1.5)\n",
    "\n",
    "    max_right = tip_df[\"xright\"].max() * 1.05\n",
    "    buff = 0.025\n",
    "    verts = tip_df.apply(lambda row: [(row[\"xright\"] + buff, row[\"y\"] - 1.5), \n",
    "                                      (row[\"xright\"] + buff, row[\"y\"] - 0.5),\n",
    "                                      (max_right, row[\"y\"] - 0.5), \n",
    "                                      (max_right, row[\"y\"] - 1.5)], axis = 1).values\n",
    "    rect_collection = collections.PolyCollection(verts, \n",
    "                                             facecolors = tip_df.apply(lambda x: tax_colors[x[color_rank]], axis = 1),\n",
    "                                             alpha = 0.75)\n",
    "    \n",
    "    ax1 = fig.add_subplot(gs[0])\n",
    "    ax1.add_collection(edge_collection)\n",
    "    ax1.add_collection(vert_collection)\n",
    "    ax1.add_collection(rect_collection)\n",
    "    ax1.set_xlim(edge_df[\"xleft\"].min() - edge_df[\"xright\"].max() * 0.05, edge_df[\"xright\"].max() * 1.05)\n",
    "    ax1.set_ylim(edge_df[\"y\"].min() - edge_df[\"y\"].max() * 0.05, edge_df[\"y\"].max() * 1.05)\n",
    "    ax1.set_xticks([])\n",
    "    ax1.set_yticks([])\n",
    "    ax1.set_frame_on(False)\n",
    "    ax1.grid(False)\n",
    "    ax1.set_title(taxon, fontdict = {\"fontsize\": 14})\n",
    "\n",
    "    ax2 = fig.add_subplot(gs[1], sharey = ax1)\n",
    "    criterion2 = tip_df[\"OTU\"].map(lambda x: x in pyom_rspdrs)\n",
    "    criterion3 = tip_df[\"OTU\"].map(lambda x: x in stover_rspdrs)\n",
    "    pyom_rspndrs_tips = tip_df[criterion2]\n",
    "    stover_rspndrs_tips = tip_df[criterion3]\n",
    "    ax2.scatter(x = [1 for i in pyom_rspndrs_tips.y], \n",
    "                y = pyom_rspndrs_tips.y -1, \n",
    "                s = pt_size, zorder = 100, color = \"#377eb8\")\n",
    "    ax2.scatter(x = [2 for i in stover_rspndrs_tips.y], \n",
    "                y = stover_rspndrs_tips.y -1, \n",
    "                s = pt_size, zorder = 100, color = \"#4daf4a\")\n",
    "    ax2.set_frame_on(False)\n",
    "    ax2.set_xlim([0,3])\n",
    "    ax2.set_xticks([1,2])\n",
    "    ax2.set_xticklabels([\"PyOM\",\"Stover\"], rotation = 90, ha = \"left\", size = 8)\n",
    "    ax2.set_yticks([])\n",
    "    \n",
    "    vmin = l2fc_df[\"l2FC\"].quantile(0.025)\n",
    "    vmax = l2fc_df[\"l2FC\"].quantile(0.975)\n",
    "\n",
    "    ax3 = fig.add_subplot(gs[2], sharey = ax1)\n",
    "    ax3.set_xticks(range(len(days)))\n",
    "    ax3.set_xticklabels(days)\n",
    "    ax3.set_yticklabels([])\n",
    "    ax3.set_title(\"PyOM\")\n",
    "    ax3.set_xlabel(\"Day\")\n",
    "    df = df_pivot[1]\n",
    "    im = ax3.imshow(df.as_matrix(), interpolation=\"nearest\", aspect=\"auto\", cmap=cm, vmax=vmax, vmin=vmin)\n",
    "    ax3.grid(False)\n",
    "\n",
    "    ax4 = fig.add_subplot(gs[3], sharey = ax1)\n",
    "    ax4.set_xticks(range(len(days)))\n",
    "    ax4.set_xticklabels(days)\n",
    "    ax4.set_yticklabels([])\n",
    "    ax4.set_title(\"Stover\")\n",
    "    ax4.set_xlabel(\"Day\")\n",
    "    df = df_pivot[2]\n",
    "    ax4.imshow(df.as_matrix(), interpolation=\"nearest\", aspect=\"auto\", cmap=cm, vmax=vmax, vmin=vmin)\n",
    "    ax4.grid(False)\n",
    "\n",
    "    box = ax4.get_position()\n",
    "    cax = fig.add_axes([box.xmax + 0.05, box.ymin + 2 * box.height / 3, 0.02, box.height / 3])\n",
    "    cb = fig.colorbar(im, cax = cax)\n",
    "    cb.set_label(r\"log$_{2}$ Fold Change\")\n",
    "\n",
    "    proxy_artists = [plt.Rectangle((0,0),1,1,fc=tax_colors[i],alpha=0.75) \n",
    "                     for i in tip_df.sort(\"y\")[color_rank].unique().tolist()]\n",
    "    leg = ax1.legend(proxy_artists, \n",
    "                     tip_df.sort(\"y\")[color_rank].unique().tolist(),\n",
    "                     bbox_to_anchor = (0, -leg_spacing),\n",
    "                     loc = 2, ncol = 2,\n",
    "                     prop={'size':10,'style':\"italic\"}, labelspacing = 0.2)\n",
    "    leg.set_frame_on(False)\n",
    "    \n",
    "    if save_fn:\n",
    "        fig.savefig(save_fn, bbox_extra_artists=(leg, cax), bbox_inches='tight')"
   ]
  },
  {
   "cell_type": "code",
   "execution_count": 12,
   "metadata": {
    "collapsed": false,
    "scrolled": false
   },
   "outputs": [
    {
     "name": "stdout",
     "output_type": "stream",
     "text": [
      "prune_taxa(OTUs, physeq)\n"
     ]
    },
    {
     "ename": "NotImplementedError",
     "evalue": "Conversion 'ri2py' not defined for objects of type '<class 'rpy2.robjects.methods.RS4'>'",
     "output_type": "error",
     "traceback": [
      "\u001b[1;31m---------------------------------------------------------------------------\u001b[0m",
      "\u001b[1;31mNotImplementedError\u001b[0m                       Traceback (most recent call last)",
      "\u001b[1;32m<ipython-input-12-dd52b1883e58>\u001b[0m in \u001b[0;36m<module>\u001b[1;34m()\u001b[0m\n\u001b[0;32m      2\u001b[0m               \u001b[0msave_fn\u001b[0m \u001b[1;33m=\u001b[0m \u001b[1;34m\"Gemm_tree.pdf\"\u001b[0m\u001b[1;33m,\u001b[0m \u001b[0mlw_tax\u001b[0m \u001b[1;33m=\u001b[0m \u001b[1;36m1\u001b[0m\u001b[1;33m,\u001b[0m \u001b[0mleg_spacing\u001b[0m \u001b[1;33m=\u001b[0m \u001b[1;36m0.03\u001b[0m\u001b[1;33m,\u001b[0m\u001b[1;33m\u001b[0m\u001b[0m\n\u001b[0;32m      3\u001b[0m               \u001b[1;31m#save_fn = None, lw_tax = 1, leg_spacing = 0.05,\u001b[0m\u001b[1;33m\u001b[0m\u001b[1;33m\u001b[0m\u001b[0m\n\u001b[1;32m----> 4\u001b[1;33m               pt_size = 35)\n\u001b[0m",
      "\u001b[1;32m<ipython-input-11-6821f94ed2d6>\u001b[0m in \u001b[0;36mmake_tree_fig\u001b[1;34m(taxon, taxon_rank, color_rank, l2fc_fp, physeq_str, lw_tax, leg_spacing, save_fn, pt_size)\u001b[0m\n\u001b[0;32m     49\u001b[0m                   save_fn = None, pt_size = 50):\n\u001b[0;32m     50\u001b[0m     \u001b[0ml2fc_df\u001b[0m\u001b[1;33m,\u001b[0m \u001b[0motus\u001b[0m \u001b[1;33m=\u001b[0m \u001b[0mget_l2fc_df\u001b[0m\u001b[1;33m(\u001b[0m\u001b[0ml2fc_fp\u001b[0m\u001b[1;33m,\u001b[0m \u001b[0mtaxon\u001b[0m\u001b[1;33m,\u001b[0m \u001b[0mtaxon_rank\u001b[0m\u001b[1;33m)\u001b[0m\u001b[1;33m\u001b[0m\u001b[0m\n\u001b[1;32m---> 51\u001b[1;33m     \u001b[0medge_df\u001b[0m\u001b[1;33m,\u001b[0m \u001b[0mvert_df\u001b[0m \u001b[1;33m=\u001b[0m \u001b[0mget_tree_df\u001b[0m\u001b[1;33m(\u001b[0m\u001b[0mphyseq_str\u001b[0m\u001b[1;33m,\u001b[0m \u001b[0motus\u001b[0m\u001b[1;33m.\u001b[0m\u001b[0mtolist\u001b[0m\u001b[1;33m(\u001b[0m\u001b[1;33m)\u001b[0m\u001b[1;33m)\u001b[0m\u001b[1;33m\u001b[0m\u001b[0m\n\u001b[0m\u001b[0;32m     52\u001b[0m     \u001b[0mtip_df\u001b[0m \u001b[1;33m=\u001b[0m \u001b[0medge_df\u001b[0m\u001b[1;33m[\u001b[0m\u001b[0medge_df\u001b[0m\u001b[1;33m[\u001b[0m\u001b[1;34m\"OTU\"\u001b[0m\u001b[1;33m]\u001b[0m\u001b[1;33m.\u001b[0m\u001b[0mnotnull\u001b[0m\u001b[1;33m(\u001b[0m\u001b[1;33m)\u001b[0m\u001b[1;33m]\u001b[0m\u001b[1;33m\u001b[0m\u001b[0m\n\u001b[0;32m     53\u001b[0m     \u001b[0ml2fc_df\u001b[0m \u001b[1;33m=\u001b[0m \u001b[0madd_tree_info\u001b[0m\u001b[1;33m(\u001b[0m\u001b[0mtip_df\u001b[0m\u001b[1;33m,\u001b[0m \u001b[0ml2fc_df\u001b[0m\u001b[1;33m)\u001b[0m\u001b[1;33m\u001b[0m\u001b[0m\n",
      "\u001b[1;32m<ipython-input-11-6821f94ed2d6>\u001b[0m in \u001b[0;36mget_tree_df\u001b[1;34m(physeq_str, OTUs)\u001b[0m\n\u001b[0;32m     10\u001b[0m     \u001b[0mget_ipython\u001b[0m\u001b[1;33m(\u001b[0m\u001b[1;33m)\u001b[0m\u001b[1;33m.\u001b[0m\u001b[0mmagic\u001b[0m\u001b[1;33m(\u001b[0m\u001b[1;34mu'Rpush OTUs'\u001b[0m\u001b[1;33m)\u001b[0m\u001b[1;33m\u001b[0m\u001b[0m\n\u001b[0;32m     11\u001b[0m     \u001b[0mget_ipython\u001b[0m\u001b[1;33m(\u001b[0m\u001b[1;33m)\u001b[0m\u001b[1;33m.\u001b[0m\u001b[0mmagic\u001b[0m\u001b[1;33m(\u001b[0m\u001b[1;34mu'R OTUs = as.character(OTUs)'\u001b[0m\u001b[1;33m)\u001b[0m\u001b[1;33m\u001b[0m\u001b[0m\n\u001b[1;32m---> 12\u001b[1;33m     \u001b[0mget_ipython\u001b[0m\u001b[1;33m(\u001b[0m\u001b[1;33m)\u001b[0m\u001b[1;33m.\u001b[0m\u001b[0mmagic\u001b[0m\u001b[1;33m(\u001b[0m\u001b[1;34mu'R ps = eval(parse(text=subset_fn_str))'\u001b[0m\u001b[1;33m)\u001b[0m\u001b[1;33m\u001b[0m\u001b[0m\n\u001b[0m\u001b[0;32m     13\u001b[0m     \u001b[0mget_ipython\u001b[0m\u001b[1;33m(\u001b[0m\u001b[1;33m)\u001b[0m\u001b[1;33m.\u001b[0m\u001b[0mmagic\u001b[0m\u001b[1;33m(\u001b[0m\u001b[1;34mu'R tree_dfs = phyloseq:::tree_layout(phy_tree(ps), ladderize=\"right\")'\u001b[0m\u001b[1;33m)\u001b[0m\u001b[1;33m\u001b[0m\u001b[0m\n\u001b[0;32m     14\u001b[0m     \u001b[0mget_ipython\u001b[0m\u001b[1;33m(\u001b[0m\u001b[1;33m)\u001b[0m\u001b[1;33m.\u001b[0m\u001b[0mmagic\u001b[0m\u001b[1;33m(\u001b[0m\u001b[1;34mu'R tax = data.frame(tax_table(ps), stringsAsFactors = FALSE)'\u001b[0m\u001b[1;33m)\u001b[0m\u001b[1;33m\u001b[0m\u001b[0m\n",
      "\u001b[1;32m/opt/anaconda/lib/python2.7/site-packages/IPython/core/interactiveshell.pyc\u001b[0m in \u001b[0;36mmagic\u001b[1;34m(self, arg_s)\u001b[0m\n\u001b[0;32m   2334\u001b[0m         \u001b[0mmagic_name\u001b[0m\u001b[1;33m,\u001b[0m \u001b[0m_\u001b[0m\u001b[1;33m,\u001b[0m \u001b[0mmagic_arg_s\u001b[0m \u001b[1;33m=\u001b[0m \u001b[0marg_s\u001b[0m\u001b[1;33m.\u001b[0m\u001b[0mpartition\u001b[0m\u001b[1;33m(\u001b[0m\u001b[1;34m' '\u001b[0m\u001b[1;33m)\u001b[0m\u001b[1;33m\u001b[0m\u001b[0m\n\u001b[0;32m   2335\u001b[0m         \u001b[0mmagic_name\u001b[0m \u001b[1;33m=\u001b[0m \u001b[0mmagic_name\u001b[0m\u001b[1;33m.\u001b[0m\u001b[0mlstrip\u001b[0m\u001b[1;33m(\u001b[0m\u001b[0mprefilter\u001b[0m\u001b[1;33m.\u001b[0m\u001b[0mESC_MAGIC\u001b[0m\u001b[1;33m)\u001b[0m\u001b[1;33m\u001b[0m\u001b[0m\n\u001b[1;32m-> 2336\u001b[1;33m         \u001b[1;32mreturn\u001b[0m \u001b[0mself\u001b[0m\u001b[1;33m.\u001b[0m\u001b[0mrun_line_magic\u001b[0m\u001b[1;33m(\u001b[0m\u001b[0mmagic_name\u001b[0m\u001b[1;33m,\u001b[0m \u001b[0mmagic_arg_s\u001b[0m\u001b[1;33m)\u001b[0m\u001b[1;33m\u001b[0m\u001b[0m\n\u001b[0m\u001b[0;32m   2337\u001b[0m \u001b[1;33m\u001b[0m\u001b[0m\n\u001b[0;32m   2338\u001b[0m     \u001b[1;31m#-------------------------------------------------------------------------\u001b[0m\u001b[1;33m\u001b[0m\u001b[1;33m\u001b[0m\u001b[0m\n",
      "\u001b[1;32m/opt/anaconda/lib/python2.7/site-packages/IPython/core/interactiveshell.pyc\u001b[0m in \u001b[0;36mrun_line_magic\u001b[1;34m(self, magic_name, line)\u001b[0m\n\u001b[0;32m   2255\u001b[0m                 \u001b[0mkwargs\u001b[0m\u001b[1;33m[\u001b[0m\u001b[1;34m'local_ns'\u001b[0m\u001b[1;33m]\u001b[0m \u001b[1;33m=\u001b[0m \u001b[0msys\u001b[0m\u001b[1;33m.\u001b[0m\u001b[0m_getframe\u001b[0m\u001b[1;33m(\u001b[0m\u001b[0mstack_depth\u001b[0m\u001b[1;33m)\u001b[0m\u001b[1;33m.\u001b[0m\u001b[0mf_locals\u001b[0m\u001b[1;33m\u001b[0m\u001b[0m\n\u001b[0;32m   2256\u001b[0m             \u001b[1;32mwith\u001b[0m \u001b[0mself\u001b[0m\u001b[1;33m.\u001b[0m\u001b[0mbuiltin_trap\u001b[0m\u001b[1;33m:\u001b[0m\u001b[1;33m\u001b[0m\u001b[0m\n\u001b[1;32m-> 2257\u001b[1;33m                 \u001b[0mresult\u001b[0m \u001b[1;33m=\u001b[0m \u001b[0mfn\u001b[0m\u001b[1;33m(\u001b[0m\u001b[1;33m*\u001b[0m\u001b[0margs\u001b[0m\u001b[1;33m,\u001b[0m\u001b[1;33m**\u001b[0m\u001b[0mkwargs\u001b[0m\u001b[1;33m)\u001b[0m\u001b[1;33m\u001b[0m\u001b[0m\n\u001b[0m\u001b[0;32m   2258\u001b[0m             \u001b[1;32mreturn\u001b[0m \u001b[0mresult\u001b[0m\u001b[1;33m\u001b[0m\u001b[0m\n\u001b[0;32m   2259\u001b[0m \u001b[1;33m\u001b[0m\u001b[0m\n",
      "\u001b[1;32m/opt/anaconda/lib/python2.7/site-packages/rpy2/ipython/rmagic.pyc\u001b[0m in \u001b[0;36mR\u001b[1;34m(self, line, cell, local_ns)\u001b[0m\n",
      "\u001b[1;32m/opt/anaconda/lib/python2.7/site-packages/IPython/core/magic.pyc\u001b[0m in \u001b[0;36m<lambda>\u001b[1;34m(f, *a, **k)\u001b[0m\n\u001b[0;32m    191\u001b[0m     \u001b[1;31m# but it's overkill for just that one bit of state.\u001b[0m\u001b[1;33m\u001b[0m\u001b[1;33m\u001b[0m\u001b[0m\n\u001b[0;32m    192\u001b[0m     \u001b[1;32mdef\u001b[0m \u001b[0mmagic_deco\u001b[0m\u001b[1;33m(\u001b[0m\u001b[0marg\u001b[0m\u001b[1;33m)\u001b[0m\u001b[1;33m:\u001b[0m\u001b[1;33m\u001b[0m\u001b[0m\n\u001b[1;32m--> 193\u001b[1;33m         \u001b[0mcall\u001b[0m \u001b[1;33m=\u001b[0m \u001b[1;32mlambda\u001b[0m \u001b[0mf\u001b[0m\u001b[1;33m,\u001b[0m \u001b[1;33m*\u001b[0m\u001b[0ma\u001b[0m\u001b[1;33m,\u001b[0m \u001b[1;33m**\u001b[0m\u001b[0mk\u001b[0m\u001b[1;33m:\u001b[0m \u001b[0mf\u001b[0m\u001b[1;33m(\u001b[0m\u001b[1;33m*\u001b[0m\u001b[0ma\u001b[0m\u001b[1;33m,\u001b[0m \u001b[1;33m**\u001b[0m\u001b[0mk\u001b[0m\u001b[1;33m)\u001b[0m\u001b[1;33m\u001b[0m\u001b[0m\n\u001b[0m\u001b[0;32m    194\u001b[0m \u001b[1;33m\u001b[0m\u001b[0m\n\u001b[0;32m    195\u001b[0m         \u001b[1;32mif\u001b[0m \u001b[0mcallable\u001b[0m\u001b[1;33m(\u001b[0m\u001b[0marg\u001b[0m\u001b[1;33m)\u001b[0m\u001b[1;33m:\u001b[0m\u001b[1;33m\u001b[0m\u001b[0m\n",
      "\u001b[1;32m/opt/anaconda/lib/python2.7/site-packages/rpy2/ipython/rmagic.pyc\u001b[0m in \u001b[0;36mR\u001b[1;34m(self, line, cell, local_ns)\u001b[0m\n\u001b[0;32m    705\u001b[0m         \u001b[1;32mif\u001b[0m \u001b[0mreturn_output\u001b[0m \u001b[1;32mand\u001b[0m \u001b[1;32mnot\u001b[0m \u001b[0margs\u001b[0m\u001b[1;33m.\u001b[0m\u001b[0mnoreturn\u001b[0m\u001b[1;33m:\u001b[0m\u001b[1;33m\u001b[0m\u001b[0m\n\u001b[0;32m    706\u001b[0m             \u001b[1;32mif\u001b[0m \u001b[0mresult\u001b[0m \u001b[1;32mis\u001b[0m \u001b[1;32mnot\u001b[0m \u001b[0mri\u001b[0m\u001b[1;33m.\u001b[0m\u001b[0mNULL\u001b[0m\u001b[1;33m:\u001b[0m\u001b[1;33m\u001b[0m\u001b[0m\n\u001b[1;32m--> 707\u001b[1;33m                 \u001b[1;32mreturn\u001b[0m \u001b[0mconverter\u001b[0m\u001b[1;33m.\u001b[0m\u001b[0mri2py\u001b[0m\u001b[1;33m(\u001b[0m\u001b[0mresult\u001b[0m\u001b[1;33m)\u001b[0m\u001b[1;33m\u001b[0m\u001b[0m\n\u001b[0m\u001b[0;32m    708\u001b[0m \u001b[1;33m\u001b[0m\u001b[0m\n\u001b[0;32m    709\u001b[0m __doc__ = __doc__.format(\n",
      "\u001b[1;32m/opt/anaconda/lib/python2.7/site-packages/singledispatch.pyc\u001b[0m in \u001b[0;36mwrapper\u001b[1;34m(*args, **kw)\u001b[0m\n\u001b[0;32m    208\u001b[0m \u001b[1;33m\u001b[0m\u001b[0m\n\u001b[0;32m    209\u001b[0m     \u001b[1;32mdef\u001b[0m \u001b[0mwrapper\u001b[0m\u001b[1;33m(\u001b[0m\u001b[1;33m*\u001b[0m\u001b[0margs\u001b[0m\u001b[1;33m,\u001b[0m \u001b[1;33m**\u001b[0m\u001b[0mkw\u001b[0m\u001b[1;33m)\u001b[0m\u001b[1;33m:\u001b[0m\u001b[1;33m\u001b[0m\u001b[0m\n\u001b[1;32m--> 210\u001b[1;33m         \u001b[1;32mreturn\u001b[0m \u001b[0mdispatch\u001b[0m\u001b[1;33m(\u001b[0m\u001b[0margs\u001b[0m\u001b[1;33m[\u001b[0m\u001b[1;36m0\u001b[0m\u001b[1;33m]\u001b[0m\u001b[1;33m.\u001b[0m\u001b[0m__class__\u001b[0m\u001b[1;33m)\u001b[0m\u001b[1;33m(\u001b[0m\u001b[1;33m*\u001b[0m\u001b[0margs\u001b[0m\u001b[1;33m,\u001b[0m \u001b[1;33m**\u001b[0m\u001b[0mkw\u001b[0m\u001b[1;33m)\u001b[0m\u001b[1;33m\u001b[0m\u001b[0m\n\u001b[0m\u001b[0;32m    211\u001b[0m \u001b[1;33m\u001b[0m\u001b[0m\n\u001b[0;32m    212\u001b[0m     \u001b[0mregistry\u001b[0m\u001b[1;33m[\u001b[0m\u001b[0mobject\u001b[0m\u001b[1;33m]\u001b[0m \u001b[1;33m=\u001b[0m \u001b[0mfunc\u001b[0m\u001b[1;33m\u001b[0m\u001b[0m\n",
      "\u001b[1;32m/opt/anaconda/lib/python2.7/site-packages/rpy2/robjects/conversion.pyc\u001b[0m in \u001b[0;36mri2py\u001b[1;34m(obj)\u001b[0m\n\u001b[0;32m     54\u001b[0m         \u001b[0mThis\u001b[0m \u001b[0mfunction\u001b[0m \u001b[0mwill\u001b[0m \u001b[0mconvert\u001b[0m \u001b[0mPython\u001b[0m \u001b[0mobjects\u001b[0m \u001b[0minto\u001b[0m \u001b[0mPython\u001b[0m \u001b[1;33m(\u001b[0m\u001b[0mpresumably\u001b[0m \u001b[0mnon\u001b[0m\u001b[1;33m-\u001b[0m\u001b[0mrpy2\u001b[0m\u001b[1;33m)\u001b[0m \u001b[0mobjects\u001b[0m\u001b[1;33m.\u001b[0m\u001b[1;33m\u001b[0m\u001b[0m\n\u001b[0;32m     55\u001b[0m         \"\"\"\n\u001b[1;32m---> 56\u001b[1;33m         \u001b[1;32mraise\u001b[0m \u001b[0mNotImplementedError\u001b[0m\u001b[1;33m(\u001b[0m\u001b[1;34m\"Conversion 'ri2py' not defined for objects of type '%s'\"\u001b[0m \u001b[1;33m%\u001b[0m \u001b[0mstr\u001b[0m\u001b[1;33m(\u001b[0m\u001b[0mtype\u001b[0m\u001b[1;33m(\u001b[0m\u001b[0mobj\u001b[0m\u001b[1;33m)\u001b[0m\u001b[1;33m)\u001b[0m\u001b[1;33m)\u001b[0m\u001b[1;33m\u001b[0m\u001b[0m\n\u001b[0m\u001b[0;32m     57\u001b[0m \u001b[1;33m\u001b[0m\u001b[0m\n\u001b[0;32m     58\u001b[0m     \u001b[1;32mif\u001b[0m \u001b[0mtemplate\u001b[0m \u001b[1;32mis\u001b[0m \u001b[1;32mnot\u001b[0m \u001b[0mNone\u001b[0m\u001b[1;33m:\u001b[0m\u001b[1;33m\u001b[0m\u001b[0m\n",
      "\u001b[1;31mNotImplementedError\u001b[0m: Conversion 'ri2py' not defined for objects of type '<class 'rpy2.robjects.methods.RS4'>'"
     ]
    }
   ],
   "source": [
    "make_tree_fig(\"p__Acidobacteria\", \"Rank2\", \"Class\", \"../data/l2fc_w_tax.csv\", \"physeq\", \n",
    "              save_fn = \"Gemm_tree.pdf\", lw_tax = 1, leg_spacing = 0.03,\n",
    "              #save_fn = None, lw_tax = 1, leg_spacing = 0.05,\n",
    "              pt_size = 35)"
   ]
  },
  {
   "cell_type": "code",
   "execution_count": null,
   "metadata": {
    "collapsed": true
   },
   "outputs": [],
   "source": []
  }
 ],
 "metadata": {
  "kernelspec": {
   "display_name": "Python 2",
   "language": "python",
   "name": "python2"
  },
  "language_info": {
   "codemirror_mode": {
    "name": "ipython",
    "version": 2
   },
   "file_extension": ".py",
   "mimetype": "text/x-python",
   "name": "python",
   "nbconvert_exporter": "python",
   "pygments_lexer": "ipython2",
   "version": "2.7.10"
  }
 },
 "nbformat": 4,
 "nbformat_minor": 0
}
