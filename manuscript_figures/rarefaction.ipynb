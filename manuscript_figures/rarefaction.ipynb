{
 "cells": [
  {
   "cell_type": "code",
   "execution_count": 2,
   "metadata": {
    "collapsed": true
   },
   "outputs": [],
   "source": [
    "%load_ext rpy2.ipython"
   ]
  },
  {
   "cell_type": "code",
   "execution_count": 75,
   "metadata": {
    "collapsed": false
   },
   "outputs": [],
   "source": [
    "%%R\n",
    "library(phyloseq)\n",
    "library(vegan)\n",
    "library(dplyr)\n",
    "library(ggplot2)"
   ]
  },
  {
   "cell_type": "code",
   "execution_count": 26,
   "metadata": {
    "collapsed": false
   },
   "outputs": [
    {
     "data": {
      "text/plain": [
       "phyloseq-class experiment-level object\n",
       "otu_table()   OTU Table:         [ 7770 taxa and 119 samples ]\n",
       "sample_data() Sample Data:       [ 119 samples by 5 sample variables ]\n",
       "tax_table()   Taxonomy Table:    [ 7770 taxa by 7 taxonomic ranks ]\n"
      ]
     },
     "metadata": {},
     "output_type": "display_data"
    }
   ],
   "source": [
    "%%R\n",
    "physeq = import_biom(\"../data/otu_table_tax_no211_meta.biom\")\n",
    "md = sample_data(physeq)\n",
    "physeq"
   ]
  },
  {
   "cell_type": "code",
   "execution_count": 36,
   "metadata": {
    "collapsed": false
   },
   "outputs": [
    {
     "data": {
      "text/plain": [
       "Error in defined[[i]] : Interrupted\n"
      ]
     },
     "metadata": {},
     "output_type": "display_data"
    }
   ],
   "source": [
    "%%R\n",
    "otu_tab = otu_table(physeq) %>% data.frame"
   ]
  },
  {
   "cell_type": "code",
   "execution_count": 49,
   "metadata": {
    "collapsed": false
   },
   "outputs": [],
   "source": [
    "from cogent.maths.stats.rarefaction import rarefaction\n",
    "import pandas.rpy.common as com\n",
    "from numpy import vstack, arange, mean\n",
    "import pandas as pd"
   ]
  },
  {
   "cell_type": "code",
   "execution_count": 43,
   "metadata": {
    "collapsed": true
   },
   "outputs": [],
   "source": [
    "def get_raref_vector(data, stride=10, iters=25):\n",
    "    rare_data = vstack([[len(h.nonzero()[0]) for h in rarefaction(data, stride=stride)] \\\n",
    "                        for i in range(iters)])\n",
    "    X = arange(stride,data.sum()+stride,stride)\n",
    "    return X, mean(rare_data, axis=0)"
   ]
  },
  {
   "cell_type": "code",
   "execution_count": 38,
   "metadata": {
    "collapsed": false
   },
   "outputs": [],
   "source": [
    "otu_tab = com.load_data(\"otu_tab\")"
   ]
  },
  {
   "cell_type": "code",
   "execution_count": 60,
   "metadata": {
    "collapsed": false
   },
   "outputs": [
    {
     "name": "stdout",
     "output_type": "stream",
     "text": [
      "CPU times: user 12min, sys: 84 ms, total: 12min\n",
      "Wall time: 12min\n"
     ]
    }
   ],
   "source": [
    "%%time\n",
    "dfs = {}\n",
    "for sid in otu_tab.columns:\n",
    "    counts = otu_tab[sid]\n",
    "    x, raref_data = get_raref_vector(counts, iters=10)\n",
    "    dfs[sid] = pd.DataFrame(data={\"x\" : x, \"y\" : raref_data})   "
   ]
  },
  {
   "cell_type": "code",
   "execution_count": 61,
   "metadata": {
    "collapsed": false
   },
   "outputs": [
    {
     "data": {
      "text/html": [
       "<div style=\"max-height:1000px;max-width:1500px;overflow:auto;\">\n",
       "<table border=\"1\" class=\"dataframe\">\n",
       "  <thead>\n",
       "    <tr style=\"text-align: right;\">\n",
       "      <th></th>\n",
       "      <th>SampleID</th>\n",
       "      <th>x</th>\n",
       "      <th>y</th>\n",
       "    </tr>\n",
       "  </thead>\n",
       "  <tbody>\n",
       "    <tr>\n",
       "      <th>0</th>\n",
       "      <td>S001</td>\n",
       "      <td>10</td>\n",
       "      <td>9.8</td>\n",
       "    </tr>\n",
       "    <tr>\n",
       "      <th>1</th>\n",
       "      <td>S001</td>\n",
       "      <td>20</td>\n",
       "      <td>19.3</td>\n",
       "    </tr>\n",
       "    <tr>\n",
       "      <th>2</th>\n",
       "      <td>S001</td>\n",
       "      <td>30</td>\n",
       "      <td>28.6</td>\n",
       "    </tr>\n",
       "    <tr>\n",
       "      <th>3</th>\n",
       "      <td>S001</td>\n",
       "      <td>40</td>\n",
       "      <td>37.5</td>\n",
       "    </tr>\n",
       "    <tr>\n",
       "      <th>4</th>\n",
       "      <td>S001</td>\n",
       "      <td>50</td>\n",
       "      <td>46.1</td>\n",
       "    </tr>\n",
       "  </tbody>\n",
       "</table>\n",
       "</div>"
      ],
      "text/plain": [
       "  SampleID   x     y\n",
       "0     S001  10   9.8\n",
       "1     S001  20  19.3\n",
       "2     S001  30  28.6\n",
       "3     S001  40  37.5\n",
       "4     S001  50  46.1"
      ]
     },
     "execution_count": 61,
     "metadata": {},
     "output_type": "execute_result"
    }
   ],
   "source": [
    "d = pd.concat(dfs, axis=0)\n",
    "d.reset_index(inplace=True)\n",
    "d.drop([\"level_1\"], axis=1, inplace=True)\n",
    "d.rename(columns={\"level_0\" : \"SampleID\"}, inplace=True)\n",
    "d.head()"
   ]
  },
  {
   "cell_type": "code",
   "execution_count": 62,
   "metadata": {
    "collapsed": true
   },
   "outputs": [],
   "source": [
    "d = com.convert_to_r_dataframe(d, strings_as_factors=True)\n",
    "%Rpush d"
   ]
  },
  {
   "cell_type": "code",
   "execution_count": 69,
   "metadata": {
    "collapsed": true
   },
   "outputs": [],
   "source": [
    "%%R\n",
    "md = sample_data(physeq) %>% data.frame %>% add_rownames(\"SampleID\")"
   ]
  },
  {
   "cell_type": "code",
   "execution_count": 80,
   "metadata": {
    "collapsed": false
   },
   "outputs": [
    {
     "data": {
      "text/plain": [
       "Joining by: \"SampleID\"\n"
      ]
     },
     "metadata": {},
     "output_type": "display_data"
    },
    {
     "data": {
      "image/png": "[encoded data removed]"
     },
     "metadata": {},
     "output_type": "display_data"
    }
   ],
   "source": [
    "%%R -w 800 -h 350\n",
    "d.plot = d %>% \n",
    "    left_join(md)\n",
    "\n",
    "p = ggplot(d.plot, aes(x = x, y = y, group = SampleID, color = Amdmt))\n",
    "\n",
    "p = p + facet_wrap(~Amdmt)\n",
    "\n",
    "p = p + geom_point(size = 1)\n",
    "\n",
    "p   "
   ]
  }
 ],
 "metadata": {
  "kernelspec": {
   "display_name": "Python 2",
   "language": "python",
   "name": "python2"
  },
  "language_info": {
   "codemirror_mode": {
    "name": "ipython",
    "version": 2
   },
   "file_extension": ".py",
   "mimetype": "text/x-python",
   "name": "python",
   "nbconvert_exporter": "python",
   "pygments_lexer": "ipython2",
   "version": "2.7.9"
  }
 },
 "nbformat": 4,
 "nbformat_minor": 0
}
