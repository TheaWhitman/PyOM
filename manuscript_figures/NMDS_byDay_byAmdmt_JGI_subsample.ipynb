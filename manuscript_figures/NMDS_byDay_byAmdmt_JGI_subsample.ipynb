{
 "cells": [
  {
   "cell_type": "code",
   "execution_count": 1,
   "metadata": {
    "collapsed": true
   },
   "outputs": [],
   "source": [
    "%load_ext rpy2.ipython\n",
    "# Turning on in-IPy R capabilities"
   ]
  },
  {
   "cell_type": "code",
   "execution_count": 2,
   "metadata": {
    "collapsed": false
   },
   "outputs": [
    {
     "name": "stderr",
     "output_type": "stream",
     "text": [
      "/opt/anaconda/lib/python2.7/site-packages/rpy2/robjects/functions.py:106: UserWarning: Loading required package: foreach\n",
      "\n",
      "  res = super(Function, self).__call__(*new_args, **new_kwargs)\n",
      "/opt/anaconda/lib/python2.7/site-packages/rpy2/robjects/functions.py:106: UserWarning: foreach: simple, scalable parallel programming from Revolution Analytics\n",
      "Use Revolution R for scalability, fault tolerance and more.\n",
      "http://www.revolutionanalytics.com\n",
      "\n",
      "  res = super(Function, self).__call__(*new_args, **new_kwargs)\n",
      "/opt/anaconda/lib/python2.7/site-packages/rpy2/robjects/functions.py:106: UserWarning: Loading required package: iterators\n",
      "\n",
      "  res = super(Function, self).__call__(*new_args, **new_kwargs)\n",
      "/opt/anaconda/lib/python2.7/site-packages/rpy2/robjects/functions.py:106: UserWarning: Loading required package: parallel\n",
      "\n",
      "  res = super(Function, self).__call__(*new_args, **new_kwargs)\n",
      "/opt/anaconda/lib/python2.7/site-packages/rpy2/robjects/functions.py:106: UserWarning: Loading required package: permute\n",
      "\n",
      "  res = super(Function, self).__call__(*new_args, **new_kwargs)\n",
      "/opt/anaconda/lib/python2.7/site-packages/rpy2/robjects/functions.py:106: UserWarning: Loading required package: lattice\n",
      "\n",
      "  res = super(Function, self).__call__(*new_args, **new_kwargs)\n",
      "/opt/anaconda/lib/python2.7/site-packages/rpy2/robjects/functions.py:106: UserWarning: This is vegan 2.4-0\n",
      "\n",
      "  res = super(Function, self).__call__(*new_args, **new_kwargs)\n",
      "/opt/anaconda/lib/python2.7/site-packages/rpy2/robjects/functions.py:106: UserWarning: \n",
      "Attaching package: ‘dplyr’\n",
      "\n",
      "\n",
      "  res = super(Function, self).__call__(*new_args, **new_kwargs)\n",
      "/opt/anaconda/lib/python2.7/site-packages/rpy2/robjects/functions.py:106: UserWarning: The following objects are masked from ‘package:plyr’:\n",
      "\n",
      "    arrange, count, desc, failwith, id, mutate, rename, summarise,\n",
      "    summarize\n",
      "\n",
      "\n",
      "  res = super(Function, self).__call__(*new_args, **new_kwargs)\n",
      "/opt/anaconda/lib/python2.7/site-packages/rpy2/robjects/functions.py:106: UserWarning: The following objects are masked from ‘package:stats’:\n",
      "\n",
      "    filter, lag\n",
      "\n",
      "\n",
      "  res = super(Function, self).__call__(*new_args, **new_kwargs)\n",
      "/opt/anaconda/lib/python2.7/site-packages/rpy2/robjects/functions.py:106: UserWarning: The following objects are masked from ‘package:base’:\n",
      "\n",
      "    intersect, setdiff, setequal, union\n",
      "\n",
      "\n",
      "  res = super(Function, self).__call__(*new_args, **new_kwargs)\n",
      "/opt/anaconda/lib/python2.7/site-packages/rpy2/robjects/functions.py:106: UserWarning: \n",
      "Attaching package: ‘gridExtra’\n",
      "\n",
      "\n",
      "  res = super(Function, self).__call__(*new_args, **new_kwargs)\n",
      "/opt/anaconda/lib/python2.7/site-packages/rpy2/robjects/functions.py:106: UserWarning: The following object is masked from ‘package:dplyr’:\n",
      "\n",
      "    combine\n",
      "\n",
      "\n",
      "  res = super(Function, self).__call__(*new_args, **new_kwargs)\n"
     ]
    }
   ],
   "source": [
    "%%R\n",
    "library(phyloseq)\n",
    "library(doParallel)\n",
    "library(ggplot2)\n",
    "library(vegan)\n",
    "library(RColorBrewer)\n",
    "library(plyr)\n",
    "library(dplyr)\n",
    "library(gridExtra)"
   ]
  },
  {
   "cell_type": "code",
   "execution_count": 3,
   "metadata": {
    "collapsed": false
   },
   "outputs": [],
   "source": [
    "%%R\n",
    "#Creating the physeq object from our tree and biom table with taxonomic and metadata already included, telling it \\\n",
    "# that the taxonomy is from greengenes database, so it will recognize the samples\n",
    "physeq = import_biom(\"../data/otu_table_tax_no211_meta.biom\", treefilename = \"../data/ssu-aln.bacteria.mask.tre\",\n",
    "                    parseFunction = parse_taxonomy_greengenes)"
   ]
  },
  {
   "cell_type": "code",
   "execution_count": 4,
   "metadata": {
    "collapsed": true
   },
   "outputs": [],
   "source": [
    "%%R\n",
    "# Normalizes the sample counts by the total - i.e., reporting what fraction of each sample each OTU makes up.\n",
    "physeq_snorm = transform_sample_counts(physeq, function(x) x / sum(x))"
   ]
  },
  {
   "cell_type": "code",
   "execution_count": 5,
   "metadata": {
    "collapsed": false
   },
   "outputs": [
    {
     "data": {
      "text/plain": [
       "Run 0 stress 0.1361207 \n",
       "Run 1 stress 0.1679899 \n",
       "Run 2 stress 0.1361206 \n",
       "... New best solution\n",
       "... Procrustes: rmse 7.1604e-05  max resid 0.0003580347 \n",
       "... Similar to previous best\n",
       "Run 3 stress 0.1361251 \n",
       "... Procrustes: rmse 0.001195243  max resid 0.00631367 \n",
       "... Similar to previous best\n",
       "Run 4 stress 0.1375494 \n",
       "Run 5 stress 0.136122 \n",
       "... Procrustes: rmse 0.0003668744  max resid 0.001927184 \n",
       "... Similar to previous best\n",
       "Run 6 stress 0.1361211 \n",
       "... Procrustes: rmse 0.0001629739  max resid 0.0008562315 \n",
       "... Similar to previous best\n",
       "Run 7 stress 0.1375498 \n",
       "Run 8 stress 0.1650894 \n",
       "Run 9 stress 0.1375506 \n",
       "Run 10 stress 0.1361203 \n",
       "... New best solution\n",
       "... Procrustes: rmse 0.0002157304  max resid 0.001129135 \n",
       "... Similar to previous best\n",
       "Run 11 stress 0.1375526 \n",
       "Run 12 stress 0.1361203 \n",
       "... Procrustes: rmse 2.973774e-06  max resid 1.409951e-05 \n",
       "... Similar to previous best\n",
       "Run 13 stress 0.1375506 \n",
       "Run 14 stress 0.2115361 \n",
       "Run 15 stress 0.1375491 \n",
       "Run 16 stress 0.1361206 \n",
       "... Procrustes: rmse 0.0002550938  max resid 0.001340886 \n",
       "... Similar to previous best\n",
       "Run 17 stress 0.1375492 \n",
       "Run 18 stress 0.1375498 \n",
       "Run 19 stress 0.1361208 \n",
       "... Procrustes: rmse 0.0003065237  max resid 0.001609781 \n",
       "... Similar to previous best\n",
       "Run 20 stress 0.1361229 \n",
       "... Procrustes: rmse 0.0007107922  max resid 0.003734571 \n",
       "... Similar to previous best\n",
       "*** Solution reached\n",
       "Run 0 stress 0.05744812 \n",
       "Run 1 stress 0.05298702 \n",
       "... New best solution\n",
       "... Procrustes: rmse 0.04920325  max resid 0.09768452 \n",
       "Run 2 stress 0.05776776 \n",
       "Run 3 stress 0.04912846 \n",
       "... New best solution\n",
       "... Procrustes: rmse 0.03654662  max resid 0.173147 \n",
       "Run 4 stress 0.04912951 \n",
       "... Procrustes: rmse 0.0001407507  max resid 0.0004870401 \n",
       "... Similar to previous best\n",
       "Run 5 stress 0.04912736 \n",
       "... New best solution\n",
       "... Procrustes: rmse 0.0004319401  max resid 0.001519186 \n",
       "... Similar to previous best\n",
       "Run 6 stress 0.04912767 \n",
       "... Procrustes: rmse 0.0002871409  max resid 0.001293908 \n",
       "... Similar to previous best\n",
       "Run 7 stress 0.05238274 \n",
       "Run 8 stress 0.05237552 \n",
       "Run 9 stress 0.05179669 \n",
       "Run 10 stress 0.05149076 \n",
       "Run 11 stress 0.049196 \n",
       "... Procrustes: rmse 0.002402884  max resid 0.01237374 \n",
       "Run 12 stress 0.049195 \n",
       "... Procrustes: rmse 0.002372608  max resid 0.01164484 \n",
       "Run 13 stress 0.05271377 \n",
       "Run 14 stress 0.05237478 \n",
       "Run 15 stress 0.04919365 \n",
       "... Procrustes: rmse 0.002338947  max resid 0.0117688 \n",
       "Run 16 stress 0.05131785 \n",
       "Run 17 stress 0.04919721 \n",
       "... Procrustes: rmse 0.002433819  max resid 0.01250418 \n",
       "Run 18 stress 0.05137878 \n",
       "Run 19 stress 0.04912921 \n",
       "... Procrustes: rmse 0.0005358521  max resid 0.001854507 \n",
       "... Similar to previous best\n",
       "Run 20 stress 0.04912912 \n",
       "... Procrustes: rmse 0.0005247721  max resid 0.001658904 \n",
       "... Similar to previous best\n",
       "*** Solution reached\n",
       "Run 0 stress 0.1194634 \n",
       "Run 1 stress 0.1260554 \n",
       "Run 2 stress 0.1260556 \n",
       "Run 3 stress 0.1194633 \n",
       "... New best solution\n",
       "... Procrustes: rmse 1.952864e-05  max resid 7.022343e-05 \n",
       "... Similar to previous best\n",
       "Run 4 stress 0.1194628 \n",
       "... New best solution\n",
       "... Procrustes: rmse 0.0002261316  max resid 0.001266982 \n",
       "... Similar to previous best\n",
       "Run 5 stress 0.1271982 \n",
       "Run 6 stress 0.1271982 \n",
       "Run 7 stress 0.1370683 \n",
       "Run 8 stress 0.1194628 \n",
       "... Procrustes: rmse 5.4593e-05  max resid 0.0002867323 \n",
       "... Similar to previous best\n",
       "Run 9 stress 0.1446695 \n",
       "Run 10 stress 0.1271982 \n",
       "Run 11 stress 0.1271982 \n",
       "Run 12 stress 0.1271982 \n",
       "Run 13 stress 0.1370645 \n",
       "Run 14 stress 0.1260554 \n",
       "Run 15 stress 0.1370662 \n",
       "Run 16 stress 0.1364222 \n",
       "Run 17 stress 0.1194628 \n",
       "... Procrustes: rmse 4.018201e-05  max resid 0.0002024521 \n",
       "... Similar to previous best\n",
       "Run 18 stress 0.1194628 \n",
       "... New best solution\n",
       "... Procrustes: rmse 2.346626e-05  max resid 9.994556e-05 \n",
       "... Similar to previous best\n",
       "Run 19 stress 0.1370621 \n",
       "Run 20 stress 0.1260554 \n",
       "*** Solution reached\n"
      ]
     },
     "metadata": {},
     "output_type": "display_data"
    }
   ],
   "source": [
    "%%R\n",
    "# Set up computer to do parallel computing\n",
    "registerDoParallel(cores=10)\n",
    "\n",
    "# This is me running an ordination for a bunch of different sets (here, days), all at once\n",
    "# I create a list of the variables I want to run the ordination by\n",
    "days = list(Day1=0, Day12=1, Day82=2)\n",
    "\n",
    "# Pull out the sample data from the physeq object\n",
    "md = sample_data(physeq_snorm)\n",
    "\n",
    "# Create a function that prunes samples where the Day is equal to the value from her list created above, for the physeq.\n",
    "ord = function(x) {\n",
    "    ps = prune_samples((md$Day == x), physeq_snorm)\n",
    "# Then, on this pruned set of data for just one day, perform a weighted unifrac ordination\n",
    "    NMDS = ordinate(ps,\n",
    "                method = \"NMDS\",\n",
    "                distance = \"unifrac\",\n",
    "                weighted = TRUE,\n",
    "                fast = TRUE,\n",
    "                parallel = TRUE)\n",
    "# Then do the plot_ordination command to get just the data frame, and report that, for the first 3 axes\n",
    "    p.nmds = plot_ordination(ps, NMDS, axes = c(1,2), justDF = TRUE)\n",
    "    p.nmds$Samples = rownames(p.nmds)\n",
    "    return(p.nmds)\n",
    "}\n",
    "\n",
    "# With the function  created above, we then stick together (vertically), the results from the dataframe,\n",
    "# using the days string as the input that gets run through the ord function each time.\n",
    "# Now, you could make plots on each day separately, by using the facet_wrap parameter in ggplot,\n",
    "# And the ordinations for each day would have been calculated independently, rather than across the whole experiment\n",
    "ord.NMDS.days = ldply(days, ord)\n",
    "ord.NMDS.days = ord.NMDS.days[,2:9]"
   ]
  },
  {
   "cell_type": "code",
   "execution_count": 6,
   "metadata": {
    "collapsed": false,
    "scrolled": true
   },
   "outputs": [
    {
     "data": {
      "text/plain": [
       "Run 0 stress 0.1520164 \n",
       "Run 1 stress 0.1520306 \n",
       "... Procrustes: rmse 0.003000295  max resid 0.01538887 \n",
       "Run 2 stress 0.1520214 \n",
       "... Procrustes: rmse 0.0009259461  max resid 0.004729152 \n",
       "... Similar to previous best\n",
       "Run 3 stress 0.1520366 \n",
       "... Procrustes: rmse 0.003451884  max resid 0.01578416 \n",
       "Run 4 stress 0.1520229 \n",
       "... Procrustes: rmse 0.001099378  max resid 0.005807711 \n",
       "... Similar to previous best\n",
       "Run 5 stress 0.1520191 \n",
       "... Procrustes: rmse 0.001155295  max resid 0.006097631 \n",
       "... Similar to previous best\n",
       "Run 6 stress 0.1520216 \n",
       "... Procrustes: rmse 0.0009412774  max resid 0.004922679 \n",
       "... Similar to previous best\n",
       "Run 7 stress 0.1520246 \n",
       "... Procrustes: rmse 0.001196755  max resid 0.006241127 \n",
       "... Similar to previous best\n",
       "Run 8 stress 0.1520232 \n",
       "... Procrustes: rmse 0.001039884  max resid 0.005387654 \n",
       "... Similar to previous best\n",
       "Run 9 stress 0.1520177 \n",
       "... Procrustes: rmse 0.001018764  max resid 0.005299825 \n",
       "... Similar to previous best\n",
       "Run 10 stress 0.1520178 \n",
       "... Procrustes: rmse 0.0003793086  max resid 0.001983133 \n",
       "... Similar to previous best\n",
       "Run 11 stress 0.1520355 \n",
       "... Procrustes: rmse 0.003406877  max resid 0.01580834 \n",
       "Run 12 stress 0.2003161 \n",
       "Run 13 stress 0.1520191 \n",
       "... Procrustes: rmse 0.0004685754  max resid 0.002442997 \n",
       "... Similar to previous best\n",
       "Run 14 stress 0.1520316 \n",
       "... Procrustes: rmse 0.002615877  max resid 0.01465419 \n",
       "Run 15 stress 0.1520208 \n",
       "... Procrustes: rmse 0.0008453387  max resid 0.00439193 \n",
       "... Similar to previous best\n",
       "Run 16 stress 0.152017 \n",
       "... Procrustes: rmse 0.0009253115  max resid 0.004814357 \n",
       "... Similar to previous best\n",
       "Run 17 stress 0.1520168 \n",
       "... Procrustes: rmse 0.0001414246  max resid 0.0007339937 \n",
       "... Similar to previous best\n",
       "Run 18 stress 0.1520209 \n",
       "... Procrustes: rmse 0.0007878629  max resid 0.004110153 \n",
       "... Similar to previous best\n",
       "Run 19 stress 0.1520207 \n",
       "... Procrustes: rmse 0.0008137377  max resid 0.003954565 \n",
       "... Similar to previous best\n",
       "Run 20 stress 0.1520299 \n",
       "... Procrustes: rmse 0.002892124  max resid 0.01529488 \n",
       "*** Solution reached\n",
       "Run 0 stress 0.155034 \n",
       "Run 1 stress 0.1848493 \n",
       "Run 2 stress 0.1543011 \n",
       "... New best solution\n",
       "... Procrustes: rmse 0.01066377  max resid 0.06005281 \n",
       "Run 3 stress 0.1771983 \n",
       "Run 4 stress 0.1905211 \n",
       "Run 5 stress 0.1528738 \n",
       "... New best solution\n",
       "... Procrustes: rmse 0.01175578  max resid 0.05864786 \n",
       "Run 6 stress 0.1799443 \n",
       "Run 7 stress 0.1846253 \n",
       "Run 8 stress 0.1550326 \n",
       "Run 9 stress 0.1650407 \n",
       "Run 10 stress 0.1875695 \n",
       "Run 11 stress 0.1528757 \n",
       "... Procrustes: rmse 0.00138768  max resid 0.008244984 \n",
       "... Similar to previous best\n",
       "Run 12 stress 0.1639034 \n",
       "Run 13 stress 0.1654607 \n",
       "Run 14 stress 0.1916642 \n",
       "Run 15 stress 0.1528736 \n",
       "... New best solution\n",
       "... Procrustes: rmse 0.00107033  max resid 0.006358205 \n",
       "... Similar to previous best\n",
       "Run 16 stress 0.1528732 \n",
       "... New best solution\n",
       "... Procrustes: rmse 0.0001418772  max resid 0.0007636147 \n",
       "... Similar to previous best\n",
       "Run 17 stress 0.1528775 \n",
       "... Procrustes: rmse 0.001390993  max resid 0.008245512 \n",
       "... Similar to previous best\n",
       "Run 18 stress 0.1762356 \n",
       "Run 19 stress 0.1654592 \n",
       "Run 20 stress 0.1817546 \n",
       "*** Solution reached\n",
       "Run 0 stress 0.04770833 \n",
       "Run 1 stress 0.04770785 \n",
       "... New best solution\n",
       "... Procrustes: rmse 0.0003155066  max resid 0.001198349 \n",
       "... Similar to previous best\n",
       "Run 2 stress 0.05169709 \n",
       "Run 3 stress 0.04772095 \n",
       "... Procrustes: rmse 0.002059839  max resid 0.007713595 \n",
       "... Similar to previous best\n",
       "Run 4 stress 0.05456031 \n",
       "Run 5 stress 0.2049263 \n",
       "Run 6 stress 0.05277148 \n",
       "Run 7 stress 0.05139455 \n",
       "Run 8 stress 0.05459196 \n",
       "Run 9 stress 0.05091787 \n",
       "Run 10 stress 0.05067016 \n",
       "Run 11 stress 0.05169664 \n",
       "Run 12 stress 0.05589103 \n",
       "Run 13 stress 0.0558104 \n",
       "Run 14 stress 0.05052388 \n",
       "Run 15 stress 0.2369186 \n",
       "Run 16 stress 0.05052409 \n",
       "Run 17 stress 0.05363037 \n",
       "Run 18 stress 0.04840656 \n",
       "Run 19 stress 0.05118342 \n",
       "Run 20 stress 0.05517384 \n",
       "*** Solution reached\n"
      ]
     },
     "metadata": {},
     "output_type": "display_data"
    }
   ],
   "source": [
    "%%R\n",
    "# Set up computer to do parallel computing\n",
    "registerDoParallel(cores=10)\n",
    "\n",
    "# This is me running an ordination for a bunch of different sets (here, amendments), all at once\n",
    "# I create a list of the variables I want to run the ordination by\n",
    "amdmts = list(Soil=0, PyOM=1, Stover=2)\n",
    "\n",
    "# Pull out the sample data from the physeq object\n",
    "md = sample_data(physeq_snorm)\n",
    "\n",
    "# Create a function that prunes samples where the Day is equal to the value from her list created above, for the physeq.\n",
    "ord = function(x) {\n",
    "    ps = prune_samples((md$Amdmt == x), physeq_snorm)\n",
    "# Then, on this pruned set of data for just one day, perform a weighted unifrac ordination\n",
    "    NMDS = ordinate(ps,\n",
    "                method = \"NMDS\",\n",
    "                distance = \"unifrac\",\n",
    "                weighted = TRUE,\n",
    "                fast = TRUE,\n",
    "                parallel = TRUE)\n",
    "# Then do the plot_ordination command to get just the data frame, and report that, for the first 3 axes\n",
    "    p.nmds = plot_ordination(ps, NMDS, axes = c(1,2), justDF = TRUE)\n",
    "    p.nmds$Samples = rownames(p.nmds)\n",
    "    return(p.nmds)\n",
    "}\n",
    "\n",
    "# With the function  created above, we then stick together (vertically), the results from the dataframe,\n",
    "# using the days string as the input that gets run through the ord function each time.\n",
    "# Now, you could make plots on each day separately, by using the facet_wrap parameter in ggplot,\n",
    "# And the ordinations for each day would have been calculated independently, rather than across the whole experiment\n",
    "ord.NMDS.amdmts = ldply(amdmts, ord)\n",
    "ord.NMDS.amdmts = ord.NMDS.amdmts[,2:9]"
   ]
  },
  {
   "cell_type": "code",
   "execution_count": 7,
   "metadata": {
    "collapsed": false
   },
   "outputs": [
    {
     "data": {
      "text/plain": [
       "Run 0 stress 0.08149105 \n",
       "Run 1 stress 0.08141088 \n",
       "... New best solution\n",
       "... Procrustes: rmse 0.005273043  max resid 0.03771178 \n",
       "Run 2 stress 0.08195361 \n",
       "Run 3 stress 0.08463203 \n",
       "Run 4 stress 0.08642421 \n",
       "Run 5 stress 0.08472512 \n",
       "Run 6 stress 0.08535818 \n",
       "Run 7 stress 0.08368845 \n",
       "Run 8 stress 0.08828467 \n",
       "Run 9 stress 0.0835365 \n",
       "Run 10 stress 0.08527381 \n",
       "Run 11 stress 0.08602284 \n",
       "Run 12 stress 0.0823728 \n",
       "Run 13 stress 0.08429363 \n",
       "Run 14 stress 0.08647064 \n",
       "Run 15 stress 0.08276144 \n",
       "Run 16 stress 0.0814003 \n",
       "... New best solution\n",
       "... Procrustes: rmse 0.00209317  max resid 0.01055676 \n",
       "Run 17 stress 0.08523645 \n",
       "Run 18 stress 0.08448979 \n",
       "Run 19 stress 0.08813209 \n",
       "Run 20 stress 0.08829728 \n",
       "*** No convergence -- monoMDS stopping criteria:\n",
       "    20: stress ratio > sratmax\n"
      ]
     },
     "metadata": {},
     "output_type": "display_data"
    }
   ],
   "source": [
    "%%R\n",
    "# Computing the weighted unifrac distance matrix and NMDS in parallel\n",
    "registerDoParallel(cores=10)\n",
    "ord.NMDS.full = ordinate(physeq_snorm, method = \"NMDS\", distance = \"unifrac\", weighted = TRUE, fast = TRUE, parallel = TRUE)\n",
    "NMDS.full = plot_ordination(physeq_snorm, ord.NMDS.full, axes = c(1,2), justDF = TRUE)\n",
    "NMDS.full$Samples = rownames(NMDS.full)"
   ]
  },
  {
   "cell_type": "code",
   "execution_count": 8,
   "metadata": {
    "collapsed": false
   },
   "outputs": [
    {
     "data": {
      "text/plain": [
       "        NMDS1        NMDS2 Plants DayAmdmt Amdmt ID Day Samples    ord\n",
       "1 -0.01289812 -0.024912990      1       01     1  D   0    S009 By day\n",
       "2  0.01785060 -0.025391644      0       00     0  A   0    S026 By day\n",
       "3 -0.01978674 -0.033394052      1       00     0  C   0    S023 By day\n",
       "4 -0.02227281  0.002296966      0       01     1  B   0    S012 By day\n",
       "5 -0.09197613  0.048473981      0       00     0  A   0    S031 By day\n",
       "6 -0.03172601  0.004555991      1       00     0  C   0    S013 By day\n"
      ]
     },
     "metadata": {},
     "output_type": "display_data"
    }
   ],
   "source": [
    "%%R\n",
    "simple <- ord.NMDS.days\n",
    "full <- NMDS.full\n",
    "simple$ord <- \"By day\"\n",
    "full$ord <- \"Full\"\n",
    "NMDS.days<-rbind(simple, full)\n",
    "head(NMDS.days)"
   ]
  },
  {
   "cell_type": "code",
   "execution_count": 9,
   "metadata": {
    "collapsed": false
   },
   "outputs": [
    {
     "data": {
      "text/plain": [
       "[1] 238   9\n"
      ]
     },
     "metadata": {},
     "output_type": "display_data"
    }
   ],
   "source": [
    "%%R\n",
    "simple <- ord.NMDS.amdmts\n",
    "full <- NMDS.full\n",
    "simple$ord <- \"By amendment\"\n",
    "full$ord <- \"Full\"\n",
    "NMDS.amdmts<-rbind(simple, full)\n",
    "dim(NMDS.amdmts)"
   ]
  },
  {
   "cell_type": "code",
   "execution_count": 16,
   "metadata": {
    "collapsed": false
   },
   "outputs": [
    {
     "data": {
      "text/plain": [
       " [1] \"S221\" \"S226\" \"S216\" \"S231\" \"S202\" \"S237\" \"S207\" \"S217\" \"S243\" \"S247\"\n",
       "[11] \"S242\" \"S246\"\n"
      ]
     },
     "metadata": {},
     "output_type": "display_data"
    }
   ],
   "source": [
    "%%R\n",
    "D <- NMDS.days\n",
    "D = D[D$Day==2,]\n",
    "D = D[D$ord==\"By day\",]\n",
    "D = D[D$ID %in% c(\"A\",\"B\",\"F\"),]\n",
    "# Getting sample and then collecting\n",
    "D = D %>%\n",
    "    group_by(ID)%>%\n",
    "    sample_n(4)\n",
    "SampleIDs = D$Samples\n",
    "SampleIDs"
   ]
  },
  {
   "cell_type": "code",
   "execution_count": 17,
   "metadata": {
    "collapsed": false
   },
   "outputs": [
    {
     "data": {
      "image/png": "[encoded data removed]"
     },
     "metadata": {},
     "output_type": "display_data"
    }
   ],
   "source": [
    "%%R -h 500 -w 700\n",
    "\n",
    "colnames(D)[1:2]<-c(\"NMDS1\",\"NMDS2\")\n",
    "# Renames the axis columns\n",
    "\n",
    "D$AmdmtName = ifelse(D$Amdmt==1,\"PyOM\",ifelse(D$Amdmt==2,\"Stover\",\"Soil only\"))\n",
    "D$AmdmtName = factor(D$AmdmtName, levels=c(\"Soil only\", \"PyOM\", \"Stover\"))\n",
    "D$ord = factor(D$ord, levels=c(\"Full\", \"By day\"))\n",
    "D$DayName = ifelse(D$Day==1,\"Day 12\",ifelse(D$Day==2,\"Day 82\",\"Day 1\"))\n",
    "D$Strip2 = paste(D$ord)\n",
    "\n",
    "\n",
    "\n",
    "# Creates an plot object, using the df.sites data, with the x and y axes specified as the PCoA axes,\n",
    "p = ggplot(D, aes(x = NMDS1, y = NMDS2, color = AmdmtName, shape = AmdmtName))\n",
    "\n",
    "# Determines the size of the symbols\n",
    "p = p  + geom_point(size=4.5) + scale_colour_manual(values=c(\"darkorange2\",\"gold\",\"darkred\"))\n",
    "p = p + geom_text(aes(label=Samples),hjust=0, vjust=0)\n",
    "p = p + guides(colour = guide_legend(\"\"), shape = guide_legend(\"\"))\n",
    "\n",
    "# Determines the color theme of the plot overall\n",
    "p = p + theme_bw() +\n",
    "  theme(\n",
    "    plot.background = element_blank()\n",
    "   ,panel.grid.major = element_blank()\n",
    "   ,panel.grid.minor = element_blank()\n",
    "  ) +\n",
    "  theme(strip.text.x = element_text(size=14, face=\"bold\"),\n",
    "          strip.background = element_rect(colour=\"white\", fill=\"white\"))\n",
    "\n",
    "p = p + theme(strip.text.x = element_text(size = 20),\n",
    "              strip.text.y = element_text(size = 20),\n",
    "              axis.text.x = element_text(size = 15, angle = 90, hjust = 1, vjust = 1),\n",
    "              axis.title.x = element_text(size = 20),\n",
    "              axis.text.y = element_text(size=15),\n",
    "              axis.title.y = element_text(size = 20),\n",
    "              legend.title = element_blank(),\n",
    "              legend.text = element_text(size = 15))\n",
    "\n",
    "# Displays the plot object\n",
    "p = p + facet_grid(~Strip2~DayName, scales = \"free\")\n",
    "# The axis scales could be all optimized individually\n",
    "# Adds a \"facet_wrap\" to it, which means it will plot it separately by whatever we specify - here, Amendments\n",
    "plot.days = p\n",
    "p"
   ]
  },
  {
   "cell_type": "markdown",
   "metadata": {},
   "source": [
    "## First time I ran this, I got samples 231, 216, 221, 226, 237, 217, 202, 207, 242, 243, 247, 246\n",
    "### So, we will submit these to JGI."
   ]
  },
  {
   "cell_type": "code",
   "execution_count": null,
   "metadata": {
    "collapsed": true
   },
   "outputs": [],
   "source": []
  }
 ],
 "metadata": {
  "kernelspec": {
   "display_name": "Python 2",
   "language": "python",
   "name": "python2"
  },
  "language_info": {
   "codemirror_mode": {
    "name": "ipython",
    "version": 2
   },
   "file_extension": ".py",
   "mimetype": "text/x-python",
   "name": "python",
   "nbconvert_exporter": "python",
   "pygments_lexer": "ipython2",
   "version": "2.7.11"
  }
 },
 "nbformat": 4,
 "nbformat_minor": 0
}
