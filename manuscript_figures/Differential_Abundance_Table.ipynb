{
 "cells": [
  {
   "cell_type": "markdown",
   "metadata": {},
   "source": [
    "This notebook is used to calculate the differential abundance of OTUs in soils with PyOM or stover additions, as compared to soil only plots"
   ]
  },
  {
   "cell_type": "code",
   "execution_count": 6,
   "metadata": {
    "collapsed": false
   },
   "outputs": [
    {
     "name": "stdout",
     "output_type": "stream",
     "text": [
      "The rpy2.ipython extension is already loaded. To reload it, use:\n",
      "  %reload_ext rpy2.ipython\n"
     ]
    }
   ],
   "source": [
    "%load_ext rpy2.ipython"
   ]
  },
  {
   "cell_type": "code",
   "execution_count": 7,
   "metadata": {
    "collapsed": false,
    "scrolled": true
   },
   "outputs": [],
   "source": [
    "%%R\n",
    "# loading R packages\n",
    "library(DESeq2)\n",
    "library(phyloseq)\n",
    "library(plyr)\n",
    "library(dplyr)\n",
    "#dplyr needs to come in last\n",
    "library(ggplot2)\n",
    "library(foreach)\n",
    "library(doParallel)\n",
    "library(RColorBrewer)\n",
    "library(gridExtra)"
   ]
  },
  {
   "cell_type": "code",
   "execution_count": 8,
   "metadata": {
    "collapsed": false
   },
   "outputs": [],
   "source": [
    "%%R\n",
    "#Creating the physeq object from our tree and biom table with taxonimic and metadata already included, telling it \\\n",
    "# that the taxonomy is from greengenes database, so it will recognize the samples\n",
    "physeq = import_biom(\"../data/otu_table_tax_no211_meta.biom\")\n",
    "sample.data = import_qiime_sample_data(\"../data/MapFile.txt\")\n",
    "# combines the otu table and the mapping file\n",
    "physeq = merge_phyloseq(physeq,sample.data)\n",
    "sample.data = sample_data(physeq)"
   ]
  },
  {
   "cell_type": "code",
   "execution_count": 9,
   "metadata": {
    "collapsed": false
   },
   "outputs": [],
   "source": [
    "%%R\n",
    "#run deseq on each subset (mdply)\n",
    "#indep filtering\n",
    "#adjust p values\n",
    "# write to file in data\n",
    "Dif_Abund = function(Day, Amdmt){\n",
    "    physeq.pruned <- prune_samples((sample.data$Day == Day)& ((sample.data$Amdmt == Amdmt) | (sample.data$Amdmt == 0)), physeq)\n",
    "    dseq = phyloseq_to_deseq2(physeq.pruned, ~Amdmt)\n",
    "    dseq = DESeq(dseq, quiet = TRUE, fitType = \"local\")\n",
    "    results = results(dseq)\n",
    "    results$Day = Day\n",
    "    results$Amdmt = Amdmt\n",
    "    results = data.frame(results$Day,results$Amdmt,rownames(results),results$baseMean,results$log2FoldChange,results$lfcSE,results$pvalue)\n",
    "    colnames(results) = c(\"Day\",\"Amdmt\",\"OTU\",\"baseMean\",\"l2FC\",\"SE\",\"pvalue\")\n",
    "    results\n",
    "    }"
   ]
  },
  {
   "cell_type": "code",
   "execution_count": 10,
   "metadata": {
    "collapsed": false
   },
   "outputs": [
    {
     "name": "stdout",
     "output_type": "stream",
     "text": [
      "Error in prune_samples((sample.data$Day == Day) & ((sample.data$Amdmt ==  : \n",
      "  error in evaluating the argument 'samples' in selecting a method for function 'prune_samples': Error: object 'Day' not found\n"
     ]
    }
   ],
   "source": [
    "%%R\n",
    "    physeq.pruned <- prune_samples((sample.data$Day == Day)& ((sample.data$Amdmt == Amdmt) | (sample.data$Amdmt == 0)), physeq)\n",
    "    dseq = phyloseq_to_deseq2(physeq.pruned, ~Amdmt)\n",
    "    dseq = DESeq(dseq, quiet = TRUE, fitType = \"local\")"
   ]
  },
  {
   "cell_type": "code",
   "execution_count": 11,
   "metadata": {
    "collapsed": false
   },
   "outputs": [],
   "source": [
    "%%R\n",
    "variables = expand.grid(Amdmt = c(\"1\", \"2\"),\n",
    "                        Day = c(1, 2))"
   ]
  },
  {
   "cell_type": "code",
   "execution_count": 12,
   "metadata": {
    "collapsed": false
   },
   "outputs": [
    {
     "data": {
      "text/plain": [
       "  Amdmt Day\n",
       "1     1   1\n",
       "2     2   1\n",
       "3     1   2\n",
       "4     2   2\n"
      ]
     },
     "metadata": {},
     "output_type": "display_data"
    }
   ],
   "source": [
    "%%R\n",
    "variables"
   ]
  },
  {
   "cell_type": "code",
   "execution_count": 13,
   "metadata": {
    "collapsed": false
   },
   "outputs": [
    {
     "name": "stdout",
     "output_type": "stream",
     "text": [
      "converting counts to integer mode\n",
      "converting counts to integer mode\n",
      "converting counts to integer mode\n",
      "converting counts to integer mode\n",
      "Error in `[.data.frame`(DA, , 3:9) : undefined columns selected\n",
      "In addition: Warning messages:\n",
      "1: In DESeqDataSet(se, design = design, ignoreRank) :\n",
      "  some variables in design formula are characters, converting to factors\n",
      "2: In DESeqDataSet(se, design = design, ignoreRank) :\n",
      "  some variables in design formula are characters, converting to factors\n",
      "3: In DESeqDataSet(se, design = design, ignoreRank) :\n",
      "  some variables in design formula are characters, converting to factors\n",
      "4: In DESeqDataSet(se, design = design, ignoreRank) :\n",
      "  some variables in design formula are characters, converting to factors\n",
      "Error in `[.data.frame`(DA, , 3:9) : undefined columns selected\n"
     ]
    }
   ],
   "source": [
    "%%R\n",
    "DA<-mdply(variables,Dif_Abund)\n",
    "DA <- DA[,3:9]"
   ]
  },
  {
   "cell_type": "code",
   "execution_count": 14,
   "metadata": {
    "collapsed": false
   },
   "outputs": [
    {
     "data": {
      "text/plain": [
       "  Day Amdmt     OTU   baseMean        l2FC         SE    pvalue\n",
       "1   1     1  OTU.43  223.48048 -0.11012779 0.29052924 0.7046439\n",
       "2   1     1   OTU.2 1664.01427  0.11095267 0.07837381 0.1568676\n",
       "3   1     1 OTU.187  362.13258  0.06605159 0.15991481 0.6795756\n",
       "4   1     1 OTU.150   39.05672  0.03205671 0.15816953 0.8393906\n",
       "5   1     1  OTU.91   62.21140 -0.01718316 0.37497442 0.9634498\n",
       "6   1     1 OTU.305   37.70726 -0.14629517 0.27103038 0.5893528\n"
      ]
     },
     "metadata": {},
     "output_type": "display_data"
    }
   ],
   "source": [
    "%%R\n",
    "head(DA)"
   ]
  },
  {
   "cell_type": "code",
   "execution_count": 15,
   "metadata": {
    "collapsed": false
   },
   "outputs": [],
   "source": [
    "%%R\n",
    "threshold = function (thresh){\n",
    "    dplyr::filter(DA, baseMean >= thresh) %>% \n",
    "    dplyr::mutate(padj = p.adjust(pvalue,\"BH\")) %>%\n",
    "    dplyr::summarize(threshold=thresh, count=sum(padj<=0.10, na.rm = TRUE))\n",
    "}\n",
    "# mutate adds a column"
   ]
  },
  {
   "cell_type": "code",
   "execution_count": 16,
   "metadata": {
    "collapsed": false
   },
   "outputs": [],
   "source": [
    "%%R\n",
    "range = seq(0,2,0.1)"
   ]
  },
  {
   "cell_type": "code",
   "execution_count": 17,
   "metadata": {
    "collapsed": false
   },
   "outputs": [],
   "source": [
    "%%R\n",
    "thresh.s <- ldply(range, threshold)"
   ]
  },
  {
   "cell_type": "code",
   "execution_count": 18,
   "metadata": {
    "collapsed": false
   },
   "outputs": [
    {
     "data": {
      "image/png": "[encoded data removed]"
     },
     "metadata": {},
     "output_type": "display_data"
    }
   ],
   "source": [
    "%%R\n",
    "plot(thresh.s$count~thresh.s$threshold)"
   ]
  },
  {
   "cell_type": "code",
   "execution_count": 19,
   "metadata": {
    "collapsed": true
   },
   "outputs": [],
   "source": [
    "%%R\n",
    "filter(DA,baseMean>=0.6) %>% mutate(padj = p.adjust(pvalue,\"BH\")) %>% write.csv(\"../data/l2fc.csv\", row.names=FALSE)"
   ]
  },
  {
   "cell_type": "code",
   "execution_count": 170,
   "metadata": {
    "collapsed": false
   },
   "outputs": [
    {
     "name": "stdout",
     "output_type": "stream",
     "text": [
      "\"Day\",\"Amdmt\",\"OTU\",\"baseMean\",\"l2FC\",\"SE\",\"pvalue\",\"padj\"\r\n",
      "1,\"1\",\"OTU.43\",223.480476760568,-0.110127792559516,0.290529241717165,0.704643875\r\n",
      "1,\"1\",\"OTU.2\",1664.01427323273,0.110952667246641,0.0783738103853471,0.1568676044\r\n",
      "1,\"1\",\"OTU.187\",362.132576964478,0.0660515941822755,0.159914812466415,0.67957556\r\n",
      "1,\"1\",\"OTU.150\",39.0567230436438,0.0320567063241244,0.158169528121542,0.83939056\r\n",
      "1,\"1\",\"OTU.91\",62.2114018390707,-0.0171831613331207,0.374974418838079,0.96344982\r\n",
      "1,\"1\",\"OTU.305\",37.7072580260407,-0.146295170832724,0.271030375040768,0.58935284\r\n",
      "1,\"1\",\"OTU.25\",187.19887275687,0.0945287904788471,0.241875397098751,0.6959332006\r\n",
      "1,\"1\",\"OTU.4258\",216.80811533347,-0.0986802477067795,0.111800295183156,0.3774267\r\n",
      "1,\"1\",\"OTU.453\",49.5655884056922,-0.172410725872039,0.1511126220515,0.2538940912\r\n"
     ]
    }
   ],
   "source": [
    "!head ../data/l2fc.csv | cut -c 1-80"
   ]
  },
  {
   "cell_type": "code",
   "execution_count": 171,
   "metadata": {
    "collapsed": false
   },
   "outputs": [
    {
     "name": "stdout",
     "output_type": "stream",
     "text": [
      "15233 ../data/l2fc.csv\r\n"
     ]
    }
   ],
   "source": [
    "!wc -l ../data/l2fc.csv"
   ]
  },
  {
   "cell_type": "code",
   "execution_count": null,
   "metadata": {
    "collapsed": true
   },
   "outputs": [],
   "source": []
  }
 ],
 "metadata": {
  "kernelspec": {
   "display_name": "Python 2",
   "language": "python",
   "name": "python2"
  },
  "language_info": {
   "codemirror_mode": {
    "name": "ipython",
    "version": 2
   },
   "file_extension": ".py",
   "mimetype": "text/x-python",
   "name": "python",
   "nbconvert_exporter": "python",
   "pygments_lexer": "ipython2",
   "version": "2.7.9"
  }
 },
 "nbformat": 4,
 "nbformat_minor": 0
}
