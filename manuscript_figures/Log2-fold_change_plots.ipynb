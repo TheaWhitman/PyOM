{
 "cells": [
  {
   "cell_type": "code",
   "execution_count": 2,
   "metadata": {
    "collapsed": false
   },
   "outputs": [],
   "source": [
    "%load_ext rpy2.ipython"
   ]
  },
  {
   "cell_type": "code",
   "execution_count": 3,
   "metadata": {
    "collapsed": false
   },
   "outputs": [
    {
     "data": {
      "text/plain": [
       "\n",
       "Attaching package: ‘dplyr’\n",
       "\n",
       "The following objects are masked from ‘package:plyr’:\n",
       "\n",
       "    arrange, count, desc, failwith, id, mutate, rename, summarise,\n",
       "    summarize\n",
       "\n",
       "The following object is masked from ‘package:stats’:\n",
       "\n",
       "    filter\n",
       "\n",
       "The following objects are masked from ‘package:base’:\n",
       "\n",
       "    intersect, setdiff, setequal, union\n",
       "\n"
      ]
     },
     "metadata": {},
     "output_type": "display_data"
    }
   ],
   "source": [
    "%%R\n",
    "# loading R packages\n",
    "library(plyr)\n",
    "library(dplyr)\n",
    "library(ggplot2)\n",
    "library(tidyr)\n",
    "library(phyloseq)"
   ]
  },
  {
   "cell_type": "code",
   "execution_count": 4,
   "metadata": {
    "collapsed": false
   },
   "outputs": [],
   "source": [
    "%%R\n",
    "physeq = import_biom(\"../data/otu_table_tax_no211_meta.biom\", treefilename = \"../data/ssu-aln.bacteria.mask.tre\",\n",
    "                    parseFunction = parse_taxonomy_greengenes)"
   ]
  },
  {
   "cell_type": "code",
   "execution_count": 5,
   "metadata": {
    "collapsed": true
   },
   "outputs": [],
   "source": [
    "%%R\n",
    "l2fc<-read.csv(\"../data/l2fc.csv\")"
   ]
  },
  {
   "cell_type": "code",
   "execution_count": 6,
   "metadata": {
    "collapsed": false
   },
   "outputs": [
    {
     "data": {
      "text/plain": [
       "  Day Amdmt     OTU   baseMean        l2FC         SE    pvalue      padj\n",
       "1   1     1  OTU.43  223.48048 -0.11012779 0.29052924 0.7046439 0.8990732\n",
       "2   1     1   OTU.2 1664.01427  0.11095267 0.07837381 0.1568676 0.4569113\n",
       "3   1     1 OTU.187  362.13258  0.06605159 0.15991481 0.6795756 0.8866206\n",
       "4   1     1 OTU.150   39.05672  0.03205671 0.15816953 0.8393906 0.9496064\n",
       "5   1     1  OTU.91   62.21140 -0.01718316 0.37497442 0.9634498 0.9886185\n",
       "6   1     1 OTU.305   37.70726 -0.14629517 0.27103038 0.5893528 0.8405491\n"
      ]
     },
     "metadata": {},
     "output_type": "display_data"
    }
   ],
   "source": [
    "%%R\n",
    "head(l2fc)"
   ]
  },
  {
   "cell_type": "code",
   "execution_count": 7,
   "metadata": {
    "collapsed": false
   },
   "outputs": [
    {
     "data": {
      "text/plain": [
       "Source: local data frame [6 x 4]\n",
       "\n",
       "     OTU Amdmt Day N\n",
       "1  OTU.1     1   1 1\n",
       "2  OTU.1     1   2 1\n",
       "3  OTU.1     2   1 1\n",
       "4  OTU.1     2   2 1\n",
       "5 OTU.10     1   1 1\n",
       "6 OTU.10     1   2 1\n"
      ]
     },
     "metadata": {},
     "output_type": "display_data"
    }
   ],
   "source": [
    "%%R\n",
    "l2fc %>%\n",
    "    group_by(OTU, Amdmt, Day) %>%\n",
    "    summarize(N = n()) %>%\n",
    "    arrange(desc(N)) %>%\n",
    "    group_by() %>%\n",
    "    head"
   ]
  },
  {
   "cell_type": "code",
   "execution_count": 8,
   "metadata": {
    "collapsed": false
   },
   "outputs": [],
   "source": [
    "%%R\n",
    "d.plot = l2fc %>%\n",
    "    select(OTU, Amdmt, Day, l2FC) %>%\n",
    "    spread(Amdmt, l2FC)"
   ]
  },
  {
   "cell_type": "code",
   "execution_count": 9,
   "metadata": {
    "collapsed": false
   },
   "outputs": [],
   "source": [
    "%%R\n",
    "colnames(d.plot) = c(\"OTU\",\"Day\",\"PyOM\",\"Stover\")"
   ]
  },
  {
   "cell_type": "code",
   "execution_count": 10,
   "metadata": {
    "collapsed": false
   },
   "outputs": [
    {
     "data": {
      "text/plain": [
       "      OTU Day       PyOM     Stover\n",
       "1   OTU.1   1  0.2054216  0.4771340\n",
       "2   OTU.1   2 -0.1233362 -0.6062826\n",
       "3  OTU.10   1  0.4884018  1.3051067\n",
       "4  OTU.10   2  0.5907783  1.0979431\n",
       "5 OTU.100   1  0.1624993  3.8479241\n",
       "6 OTU.100   2 -0.3753782  0.6210347\n"
      ]
     },
     "metadata": {},
     "output_type": "display_data"
    }
   ],
   "source": [
    "%%R\n",
    "head(d.plot)"
   ]
  },
  {
   "cell_type": "code",
   "execution_count": 11,
   "metadata": {
    "collapsed": false
   },
   "outputs": [],
   "source": [
    "%%R\n",
    "pcollector1 = function (Day,OTU,PyOM){\n",
    "    l2fc[l2fc$Day==Day & l2fc$OTU==OTU & l2fc$Amdmt==1,]$padj\n",
    "}\n",
    "pcollector2 = function (Day,OTU,Stover){\n",
    "    l2fc[l2fc$Day==Day & l2fc$OTU==OTU & l2fc$Amdmt==2,]$padj\n",
    "}\n",
    "# Creating the functions to grab the adjusted p values, based on each day and OTUs"
   ]
  },
  {
   "cell_type": "code",
   "execution_count": 12,
   "metadata": {
    "collapsed": false
   },
   "outputs": [
    {
     "data": {
      "text/plain": [
       "[1] 7069    4\n"
      ]
     },
     "metadata": {},
     "output_type": "display_data"
    }
   ],
   "source": [
    "%%R\n",
    "d.narm=d.plot[complete.cases(d.plot),]\n",
    "dim(d.narm)\n",
    "#Getting rid of the NAs, because that made the functions get confused."
   ]
  },
  {
   "cell_type": "code",
   "execution_count": null,
   "metadata": {
    "collapsed": false
   },
   "outputs": [],
   "source": [
    "%%R\n",
    "d.narm<-ddply(d.narm,c(\"Day\",\"OTU\"),transform, padjPyOM=pcollector1(Day,OTU),padjStover=pcollector2(Day,OTU))\n",
    "head(d.narm)"
   ]
  },
  {
   "cell_type": "code",
   "execution_count": null,
   "metadata": {
    "collapsed": false
   },
   "outputs": [],
   "source": [
    "%%R -h 400 -w 800\n",
    "#p = ggplot(d.plot, aes(x = `1`, y =`2`))\n",
    "p = ggplot(d.narm, aes(x = PyOM, y =Stover, color=padjPyOM))\n",
    "p = p + geom_point()\n",
    "p = p + scale_colour_gradient(low=\"red\",high=\"yellow\")\n",
    "p = p + geom_abline(slope = 1, intercept = 0)\n",
    "p = p + stat_smooth(method = \"lm\")\n",
    "p = p + facet_wrap(~Day)\n",
    "p = p + scale_x_continuous(limits = c(0, 10)) + scale_y_continuous(limits = c(0, 10))\n",
    "\n",
    "p"
   ]
  },
  {
   "cell_type": "code",
   "execution_count": null,
   "metadata": {
    "collapsed": true
   },
   "outputs": [],
   "source": []
  },
  {
   "cell_type": "code",
   "execution_count": null,
   "metadata": {
    "collapsed": true
   },
   "outputs": [],
   "source": []
  }
 ],
 "metadata": {
  "kernelspec": {
   "display_name": "Python 2",
   "language": "python",
   "name": "python2"
  },
  "language_info": {
   "codemirror_mode": {
    "name": "ipython",
    "version": 2
   },
   "file_extension": ".py",
   "mimetype": "text/x-python",
   "name": "python",
   "nbconvert_exporter": "python",
   "pygments_lexer": "ipython2",
   "version": "2.7.9"
  }
 },
 "nbformat": 4,
 "nbformat_minor": 0
}
