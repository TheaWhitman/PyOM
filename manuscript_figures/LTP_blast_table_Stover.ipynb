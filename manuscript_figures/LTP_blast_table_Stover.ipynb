{
 "cells": [
  {
   "cell_type": "code",
   "execution_count": 6,
   "metadata": {
    "collapsed": false
   },
   "outputs": [
    {
     "name": "stderr",
     "output_type": "stream",
     "text": [
      "/opt/anaconda/lib/python2.7/site-packages/pandas/rpy/__init__.py:11: FutureWarning: The pandas.rpy module is deprecated and will be removed in a future version. We refer to external packages like rpy2. \n",
      "See here for a guide on how to port your code to rpy2: http://pandas.pydata.org/pandas-docs/stable/r_interface.html\n",
      "  FutureWarning)\n"
     ]
    }
   ],
   "source": [
    "from IPython.display import Image, FileLink\n",
    "import pandas as pd\n",
    "import pandas.rpy.common as com"
   ]
  },
  {
   "cell_type": "code",
   "execution_count": 7,
   "metadata": {
    "collapsed": false
   },
   "outputs": [
    {
     "name": "stdout",
     "output_type": "stream",
     "text": [
      "The history saving thread hit an unexpected error (OperationalError('database is locked',)).History will not be written to the database.\n",
      "The rpy2.ipython extension is already loaded. To reload it, use:\n",
      "  %reload_ext rpy2.ipython\n"
     ]
    }
   ],
   "source": [
    "%load_ext rpy2.ipython"
   ]
  },
  {
   "cell_type": "code",
   "execution_count": 8,
   "metadata": {
    "collapsed": false
   },
   "outputs": [],
   "source": [
    "%%R\n",
    "library(data.table)\n",
    "library(dplyr)\n",
    "library(magrittr)\n",
    "library(tidyr)"
   ]
  },
  {
   "cell_type": "code",
   "execution_count": 9,
   "metadata": {
    "collapsed": false
   },
   "outputs": [],
   "source": [
    "%%R\n",
    "FDR = 0.10\n",
    "df.l2fc = read.csv(\"../data/l2fc.csv\", stringsAsFactors = FALSE) %>%\n",
    "    mutate(Day = ifelse(Day == 1, 12, ifelse(Day == 2, 82, 0))) %>%\n",
    "    filter(padj <= FDR, l2FC >= 1, Amdmt == 2) %>% \n",
    "    group_by(OTU) %>%\n",
    "    summarize(`Day of Response` = paste(Day, collapse = \", \"))"
   ]
  },
  {
   "cell_type": "code",
   "execution_count": 10,
   "metadata": {
    "collapsed": false
   },
   "outputs": [
    {
     "data": {
      "text/plain": [
       "Source: local data frame [6 x 2]\n",
       "\n",
       "       OTU Day of Response\n",
       "     (chr)           (chr)\n",
       "1   OTU.10          12, 82\n",
       "2  OTU.100              12\n",
       "3 OTU.1008              82\n",
       "4 OTU.1013              82\n",
       "5 OTU.1016              82\n",
       "6 OTU.1022          12, 82\n"
      ]
     },
     "metadata": {},
     "output_type": "display_data"
    }
   ],
   "source": [
    "%%R\n",
    "df.l2fc %>% head"
   ]
  },
  {
   "cell_type": "code",
   "execution_count": 11,
   "metadata": {
    "collapsed": false
   },
   "outputs": [
    {
     "data": {
      "text/plain": [
       "Source: local data frame [3,418,929 x 12]\n",
       "\n",
       "      OTU      acc   pid alnlen mismatches  gaps qstart  qend sstart  send\n",
       "   (fctr)   (fctr) (dbl)  (int)      (int) (int)  (int) (int)  (int) (int)\n",
       "1   OTU.1 AB258386 96.25    373         14     0      1   373    459   831\n",
       "2   OTU.1 AB021492 95.73    375         12     4      1   373    471   843\n",
       "3   OTU.1 JN591314 95.73    375         12     4      1   373    471   843\n",
       "4   OTU.1 AY769083 95.71    373         16     0      1   373    459   831\n",
       "5   OTU.1 AB264131 95.71    373         16     0      1   373    439   811\n",
       "6   OTU.1 EF530202 95.73    375         12     4      1   373    445   817\n",
       "7   OTU.1 AB245347 95.71    373         16     0      1   373    455   827\n",
       "8   OTU.1 AB277583 95.45    374         16     1      1   373    440   813\n",
       "9   OTU.1 EU707560 95.17    373         18     0      1   373    428   800\n",
       "10  OTU.1 EU682685 95.17    373         18     0      1   373    470   842\n",
       "..    ...      ...   ...    ...        ...   ...    ...   ...    ...   ...\n",
       "Variables not shown: evalue (dbl), bit (dbl)\n"
      ]
     },
     "metadata": {},
     "output_type": "display_data"
    }
   ],
   "source": [
    "%%R\n",
    "df.blast = tbl_df(read.table(\"../../data/tmp/blast_out_otusn_LTP115.m6\",\n",
    "                  sep = \"\\t\"))\n",
    "names(df.blast) = c(\"OTU\", \"acc\", \"pid\", \"alnlen\", \"mismatches\", \"gaps\", \n",
    "                    \"qstart\", \"qend\", \"sstart\", \"send\", \"evalue\", \"bit\")\n",
    "\n",
    "df.blast"
   ]
  },
  {
   "cell_type": "code",
   "execution_count": 12,
   "metadata": {
    "collapsed": false
   },
   "outputs": [
    {
     "data": {
      "text/plain": [
       "Source: local data frame [1,426,450 x 2]\n",
       "\n",
       "        acc                           full_name\n",
       "     (fctr)                              (fctr)\n",
       "1  AX003092          Enterococcus casseliflavus\n",
       "2  AX044029              Neisseria meningitidis\n",
       "3  EU271959            Myzocytiopsis intermedia\n",
       "4  AX039535            Dehalococcoides mccartyi\n",
       "5  EU273602                   Acorus americanus\n",
       "6  AX175616                Marinomonas communis\n",
       "7  AX044033              Neisseria meningitidis\n",
       "8  AB000389         Pseudoalteromonas elyakovii\n",
       "9  EU271960          Myzocytiopsis sp. venatrix\n",
       "10 AB001439 Pseudomonas syringae pv. actinidiae\n",
       "..      ...                                 ...\n"
      ]
     },
     "metadata": {},
     "output_type": "display_data"
    }
   ],
   "source": [
    "%%R\n",
    "df.tax = tbl_df(read.csv(\"/var/seq_data/silva/silva_blastdb/full_names.csv\"))\n",
    "df.tax"
   ]
  },
  {
   "cell_type": "code",
   "execution_count": 13,
   "metadata": {
    "collapsed": false
   },
   "outputs": [
    {
     "name": "stderr",
     "output_type": "stream",
     "text": [
      "/opt/anaconda/lib/python2.7/site-packages/rpy2/robjects/functions.py:106: UserWarning: Joining by: \"acc\"\n",
      "\n",
      "  res = super(Function, self).__call__(*new_args, **new_kwargs)\n"
     ]
    }
   ],
   "source": [
    "%%R\n",
    "df.blast = left_join(df.blast, df.tax)"
   ]
  },
  {
   "cell_type": "code",
   "execution_count": 14,
   "metadata": {
    "collapsed": false
   },
   "outputs": [
    {
     "name": "stderr",
     "output_type": "stream",
     "text": [
      "/opt/anaconda/lib/python2.7/site-packages/rpy2/robjects/functions.py:106: UserWarning: Joining by: \"OTU\"\n",
      "\n",
      "  res = super(Function, self).__call__(*new_args, **new_kwargs)\n"
     ]
    }
   ],
   "source": [
    "%%R\n",
    "df.blast = left_join(df.blast, df.l2fc)"
   ]
  },
  {
   "cell_type": "code",
   "execution_count": 15,
   "metadata": {
    "collapsed": false
   },
   "outputs": [
    {
     "data": {
      "text/plain": [
       "Source: local data frame [3,559,283 x 14]\n",
       "\n",
       "     OTU      acc   pid alnlen mismatches  gaps qstart  qend sstart  send\n",
       "   (chr)    (chr) (dbl)  (int)      (int) (int)  (int) (int)  (int) (int)\n",
       "1  OTU.1 AB258386 96.25    373         14     0      1   373    459   831\n",
       "2  OTU.1 AB021492 95.73    375         12     4      1   373    471   843\n",
       "3  OTU.1 JN591314 95.73    375         12     4      1   373    471   843\n",
       "4  OTU.1 AY769083 95.71    373         16     0      1   373    459   831\n",
       "5  OTU.1 AB264131 95.71    373         16     0      1   373    439   811\n",
       "6  OTU.1 EF530202 95.73    375         12     4      1   373    445   817\n",
       "7  OTU.1 AB245347 95.71    373         16     0      1   373    455   827\n",
       "8  OTU.1 AB277583 95.45    374         16     1      1   373    440   813\n",
       "9  OTU.1 EU707560 95.17    373         18     0      1   373    428   800\n",
       "10 OTU.1 EU682685 95.17    373         18     0      1   373    470   842\n",
       "..   ...      ...   ...    ...        ...   ...    ...   ...    ...   ...\n",
       "Variables not shown: evalue (dbl), bit (dbl), full_name (fctr), Day of Response\n",
       "  (chr)\n"
      ]
     },
     "metadata": {},
     "output_type": "display_data"
    }
   ],
   "source": [
    "%%R\n",
    "df.blast"
   ]
  },
  {
   "cell_type": "code",
   "execution_count": 16,
   "metadata": {
    "collapsed": false
   },
   "outputs": [],
   "source": [
    "%%R\n",
    "df.top.hits = df.blast %>%\n",
    "    group_by(OTU) %>%\n",
    "    mutate(bit.rank = rank(desc(bit), ties.method = \"min\")) %>%\n",
    "    filter(bit.rank == 1) %>%\n",
    "    group_by()"
   ]
  },
  {
   "cell_type": "code",
   "execution_count": 17,
   "metadata": {
    "collapsed": false
   },
   "outputs": [
    {
     "data": {
      "text/plain": [
       "Source: local data frame [6 x 15]\n",
       "\n",
       "    OTU      acc    pid alnlen mismatches  gaps qstart  qend sstart  send\n",
       "  (chr)    (chr)  (dbl)  (int)      (int) (int)  (int) (int)  (int) (int)\n",
       "1 OTU.1 AB258386  96.25    373         14     0      1   373    459   831\n",
       "2 OTU.2 AY624135 100.00    372          0     0      1   372    473   844\n",
       "3 OTU.2 AF208513 100.00    372          0     0      1   372    467   838\n",
       "4 OTU.2 GU433448 100.00    372          0     0      1   372    423   794\n",
       "5 OTU.2 AB300992 100.00    372          0     0      1   372    452   823\n",
       "6 OTU.2 HQ231463 100.00    372          0     0      1   372    418   789\n",
       "Variables not shown: evalue (dbl), bit (dbl), full_name (fctr), Day of Response\n",
       "  (chr), bit.rank (int)\n"
      ]
     },
     "metadata": {},
     "output_type": "display_data"
    }
   ],
   "source": [
    "%%R\n",
    "df.top.hits %>% head"
   ]
  },
  {
   "cell_type": "code",
   "execution_count": 18,
   "metadata": {
    "collapsed": false
   },
   "outputs": [],
   "source": [
    "%%R\n",
    "FDR = 0.10\n",
    "\n",
    "df.table = df.top.hits %>%\n",
    "    filter(!is.na(`Day of Response`)) %>%\n",
    "    group_by(OTU) %>%\n",
    "    summarize(hits = paste(full_name, collapse = \"|\"), \n",
    "              pid = first(pid), \n",
    "              `Day of Response` = first(`Day of Response`))"
   ]
  },
  {
   "cell_type": "code",
   "execution_count": 19,
   "metadata": {
    "collapsed": false
   },
   "outputs": [],
   "source": [
    "df_table = com.load_data(\"df.table\")"
   ]
  },
  {
   "cell_type": "code",
   "execution_count": 20,
   "metadata": {
    "collapsed": false
   },
   "outputs": [
    {
     "data": {
      "text/html": [
       "<div>\n",
       "<table border=\"1\" class=\"dataframe\">\n",
       "  <thead>\n",
       "    <tr style=\"text-align: right;\">\n",
       "      <th></th>\n",
       "      <th>OTU</th>\n",
       "      <th>hits</th>\n",
       "      <th>pid</th>\n",
       "      <th>Day of Response</th>\n",
       "    </tr>\n",
       "  </thead>\n",
       "  <tbody>\n",
       "    <tr>\n",
       "      <th>1</th>\n",
       "      <td>OTU.10</td>\n",
       "      <td>Terrabacter tumescens|Terrabacter sp. ON10|Ter...</td>\n",
       "      <td>100.00</td>\n",
       "      <td>12, 82</td>\n",
       "    </tr>\n",
       "    <tr>\n",
       "      <th>2</th>\n",
       "      <td>OTU.100</td>\n",
       "      <td>Novosphingobium resinovorum|Novosphingobium pe...</td>\n",
       "      <td>99.46</td>\n",
       "      <td>12</td>\n",
       "    </tr>\n",
       "    <tr>\n",
       "      <th>3</th>\n",
       "      <td>OTU.1008</td>\n",
       "      <td>Phaselicystis flava</td>\n",
       "      <td>92.25</td>\n",
       "      <td>82</td>\n",
       "    </tr>\n",
       "    <tr>\n",
       "      <th>4</th>\n",
       "      <td>OTU.1013</td>\n",
       "      <td>Ilumatobacter fluminis</td>\n",
       "      <td>94.15</td>\n",
       "      <td>82</td>\n",
       "    </tr>\n",
       "    <tr>\n",
       "      <th>5</th>\n",
       "      <td>OTU.1016</td>\n",
       "      <td>Sphingomonas changbaiensis</td>\n",
       "      <td>96.25</td>\n",
       "      <td>82</td>\n",
       "    </tr>\n",
       "  </tbody>\n",
       "</table>\n",
       "</div>"
      ],
      "text/plain": [
       "        OTU                                               hits     pid  \\\n",
       "1    OTU.10  Terrabacter tumescens|Terrabacter sp. ON10|Ter...  100.00   \n",
       "2   OTU.100  Novosphingobium resinovorum|Novosphingobium pe...   99.46   \n",
       "3  OTU.1008                                Phaselicystis flava   92.25   \n",
       "4  OTU.1013                             Ilumatobacter fluminis   94.15   \n",
       "5  OTU.1016                         Sphingomonas changbaiensis   96.25   \n",
       "\n",
       "  Day of Response  \n",
       "1          12, 82  \n",
       "2              12  \n",
       "3              82  \n",
       "4              82  \n",
       "5              82  "
      ]
     },
     "execution_count": 20,
     "metadata": {},
     "output_type": "execute_result"
    }
   ],
   "source": [
    "df_table.head()"
   ]
  },
  {
   "cell_type": "code",
   "execution_count": 21,
   "metadata": {
    "collapsed": false
   },
   "outputs": [],
   "source": [
    "df_table[\"OTU_num\"] = [int(i.split(\".\")[1]) for i in df_table[\"OTU\"]]"
   ]
  },
  {
   "cell_type": "code",
   "execution_count": 22,
   "metadata": {
    "collapsed": true
   },
   "outputs": [],
   "source": [
    "df_table.sort(columns=[\"OTU_num\"],inplace=True)"
   ]
  },
  {
   "cell_type": "code",
   "execution_count": 23,
   "metadata": {
    "collapsed": true
   },
   "outputs": [],
   "source": [
    "def list_genera(l):\n",
    "    if len(l.split(\"|\")) > 10:\n",
    "        names = l.split(\"|\")\n",
    "        names_abbr = []\n",
    "        seen = []\n",
    "        for name in names:\n",
    "            genus, species = name.split(\" \", 1)\n",
    "            if genus in seen:\n",
    "                continue\n",
    "            else:\n",
    "                seen.append(genus)\n",
    "                names_abbr.append(\"\\mbox{\" + \"\\\\textit{\" + genus + \" spp.\" + \"}\" + \"}\")\n",
    "        return \", \".join(names_abbr) \n",
    "    elif len(l.split(\"|\")) > 1:\n",
    "        return  \", \".join([\"\\mbox{\" + \"\\\\textit{\" + i + \"}\" + \"}\" for i in set(l.split(\"|\"))])\n",
    "    else:\n",
    "        return \"\\mbox{\" + \"\\\\textit{\" + l + \"}\" + \"}\"\n",
    "    \n",
    "def get_latex(row):\n",
    "    latex = \"\"\n",
    "    OTU = row[\"OTU\"]\n",
    "    pid = row[\"pid\"]\n",
    "    Day = row[\"Day of Response\"]\n",
    "    \n",
    "    if pid >= 90:\n",
    "        genera = list_genera(row[\"hits\"])\n",
    "    else:\n",
    "        genera = \"{No hits of at least 90\\% identity}\"\n",
    "\n",
    "    #tax = \" \".join([\"\\mbox{\" + \"\\\\textit{\" + i + \"}\" + \"}\" for i in row[[\"Phylum\",\"Class\",\"Order\"]]]).replace(\"_\",\"-\")\n",
    "    \n",
    "    #l2fc = pd.Series(row[\"log2FoldChange\"]).round(2).values[0]\n",
    "    #acc = df.acc.iloc[0]\n",
    "    return OTU + \" & \" + str(Day) + \" & \" + genera + \" & \" + str(pid) + r\" \\\\ \" + r\"\\midrule\" + \"\\n\""
   ]
  },
  {
   "cell_type": "code",
   "execution_count": 42,
   "metadata": {
    "collapsed": false
   },
   "outputs": [],
   "source": [
    "s = df_table.apply(get_latex, axis=1)\n",
    "\n",
    "table_framework = r\"\"\"\n",
    "\\documentclass[10pt]{article}\n",
    "\\usepackage{multirow, array, booktabs, longtable, threeparttablex}\n",
    "\\usepackage{array}\n",
    "\\newcolumntype{P}[1]{>{\\raggedright\\arraybackslash}p{#1}}\n",
    "\n",
    "\\usepackage{geometry} \n",
    "\\geometry{tmargin=1in, bmargin=1in, lmargin=0.5in, rmargin=0.5in} \n",
    "\n",
    "\\begin{document}\n",
    "\n",
    "\\setcounter{table}{1}\n",
    "\n",
    "\\thispagestyle{empty}\n",
    "\n",
    "\\begin{ThreePartTable}\n",
    "\\begin{TableNotes}\n",
    "\\item[a] $log_{2}$ fold change greater than 1, adjusted P-value less than 0.10. \n",
    "\\end{TableNotes}\n",
    "\n",
    "\\begin{longtable}{llP{7cm}l}\n",
    "\n",
    "\\caption{OTUs enriched in stover amended soil relative to control BLAST against Living Tree Project} \\\\\n",
    "\\toprule \n",
    "    \\textbf{OTU ID} & \n",
    "    \\textbf{Day of Response} \\tnote{a} & \n",
    "    \\textbf{Top BLAST hits} & \n",
    "    \\textbf{BLAST \\%%ID} \\\\\n",
    "\\midrule\n",
    "\\endfirsthead\n",
    "\n",
    "\\multicolumn{3}{c}\n",
    "{{\\tablename\\ \\thetable{} -- continued from previous page}} \\\\\n",
    "\\midrule\n",
    "    \\textbf{OTU ID} & \n",
    "    \\textbf{Day of Response} \\tnote{b} & \n",
    "    \\textbf{Top BLAST hits} & \n",
    "    \\textbf{BLAST \\%%ID} \\\\\n",
    "\\midrule\n",
    "\\endhead\n",
    "    %s\n",
    "\\bottomrule\n",
    "\\insertTableNotes\n",
    "\\end{longtable}\n",
    "\n",
    "\\end{ThreePartTable}\n",
    " \n",
    "\\end{document}\"\"\"%\"\".join(s.values)\n",
    "\n",
    "with open(\"../../data/tmp/table_2.tex\", \"w\") as out:\n",
    "    out.write(table_framework)"
   ]
  },
  {
   "cell_type": "code",
   "execution_count": 43,
   "metadata": {
    "collapsed": false
   },
   "outputs": [
    {
     "name": "stdout",
     "output_type": "stream",
     "text": [
      "\r\n",
      "\\documentclass[10pt]{article}\r\n",
      "\\usepackage{multirow, array, booktabs, longtable, threeparttablex}\r\n",
      "\\usepackage{array}\r\n",
      "\\newcolumntype{P}[1]{>{\\raggedright\\arraybackslash}p{#1}}\r\n",
      "\r\n",
      "\\usepackage{geometry} \r\n",
      "\\geometry{tmargin=1in, bmargin=1in, lmargin=0.5in, rmargin=0.5in} \r\n",
      "\r\n",
      "\\begin{document}\r\n"
     ]
    }
   ],
   "source": [
    "!head ../../data/tmp/table_2.tex"
   ]
  },
  {
   "cell_type": "code",
   "execution_count": 44,
   "metadata": {
    "collapsed": false
   },
   "outputs": [
    {
     "data": {
      "text/plain": [
       "(671,)"
      ]
     },
     "execution_count": 44,
     "metadata": {},
     "output_type": "execute_result"
    }
   ],
   "source": [
    "s.shape"
   ]
  },
  {
   "cell_type": "code",
   "execution_count": 45,
   "metadata": {
    "collapsed": false
   },
   "outputs": [],
   "source": [
    "!latex ../../data/tmp/table_2.tex >/dev/null\n",
    "!dvipdf table_2.dvi LTP_blast_2.pdf"
   ]
  },
  {
   "cell_type": "code",
   "execution_count": 46,
   "metadata": {
    "collapsed": false
   },
   "outputs": [
    {
     "data": {
      "text/html": [
       "<a href='LTP_blast_2.pdf' target='_blank'>LTP_blast_2.pdf</a><br>"
      ],
      "text/plain": [
       "/home/thea/Field/PyOM/manuscript_figures/LTP_blast_2.pdf"
      ]
     },
     "execution_count": 46,
     "metadata": {},
     "output_type": "execute_result"
    }
   ],
   "source": [
    "FileLink(\"LTP_blast_2.pdf\")"
   ]
  }
 ],
 "metadata": {
  "kernelspec": {
   "display_name": "Python 2",
   "language": "python",
   "name": "python2"
  },
  "language_info": {
   "codemirror_mode": {
    "name": "ipython",
    "version": 2
   },
   "file_extension": ".py",
   "mimetype": "text/x-python",
   "name": "python",
   "nbconvert_exporter": "python",
   "pygments_lexer": "ipython2",
   "version": "2.7.10"
  }
 },
 "nbformat": 4,
 "nbformat_minor": 0
}
