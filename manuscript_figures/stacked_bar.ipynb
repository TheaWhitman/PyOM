{
 "cells": [
  {
   "cell_type": "code",
   "execution_count": 1,
   "metadata": {
    "collapsed": false
   },
   "outputs": [],
   "source": [
    "%load_ext rpy2.ipython"
   ]
  },
  {
   "cell_type": "code",
   "execution_count": 2,
   "metadata": {
    "collapsed": false
   },
   "outputs": [
    {
     "data": {
      "text/plain": [
       "\n",
       "Attaching package: ‘dplyr’\n",
       "\n",
       "The following object is masked from ‘package:stats’:\n",
       "\n",
       "    filter\n",
       "\n",
       "The following objects are masked from ‘package:base’:\n",
       "\n",
       "    intersect, setdiff, setequal, union\n",
       "\n"
      ]
     },
     "metadata": {},
     "output_type": "display_data"
    }
   ],
   "source": [
    "%%R\n",
    "library(phyloseq)\n",
    "library(dplyr); library(tidyr)\n",
    "library(ggplot2)\n",
    "#library(rwantshue)"
   ]
  },
  {
   "cell_type": "code",
   "execution_count": 3,
   "metadata": {
    "collapsed": false
   },
   "outputs": [],
   "source": [
    "%%R\n",
    "physeq = import_biom(\"../data/otu_table_tax_no211_meta.biom\")"
   ]
  },
  {
   "cell_type": "code",
   "execution_count": 4,
   "metadata": {
    "collapsed": false
   },
   "outputs": [],
   "source": [
    "%%R\n",
    "mdf = psmelt(physeq)"
   ]
  },
  {
   "cell_type": "code",
   "execution_count": 5,
   "metadata": {
    "collapsed": false
   },
   "outputs": [
    {
     "name": "stdout",
     "output_type": "stream",
     "text": [
      "Error in ggplot(d.plot, aes(x = Sample, y = Abundance, fill = Rank2)) : \n",
      "  object 'd.plot' not found\n"
     ]
    }
   ],
   "source": [
    "%%R -w 900\n",
    "d.plot = mdf %>%\n",
    "    group_by(Sample) %>%\n",
    "    mutate(Abundance = Abundance / sum(Abundance)) %>%\n",
    "    group_by(Sample, Rank2, Amdmt, Day, DayAmdmt) %>%\n",
    "    summarize(Abundance = sum(Abundance)) %>%\n",
    "    arrange(DayAmdmt) %>%\n",
    "    \n",
    "\n",
    "#scheme <- iwanthue()\n",
    "#colors = scheme$hex(length(unique(d.plot$Rank2)), \n",
    "#                    color_space = hcl_presets$intense)\n",
    "\n",
    "p = ggplot(d.plot, aes(x = Sample, y = Abundance, fill = Rank2))\n",
    "\n",
    "p = p + facet_grid(. ~ Amdmt, scales = \"free_x\", space = \"free\")\n",
    "\n",
    "p = p + geom_bar(stat = \"identity\", width = 0.70)\n",
    "\n",
    "p = p + scale_fill_manual(values = colors)\n",
    "\n",
    "p = p + guides(fill = guide_legend(ncol = 2))\n",
    "\n",
    "p = p + theme_bw()\n",
    "\n",
    "p = p + theme(axis.text.x = element_blank())\n",
    "\n",
    "p"
   ]
  },
  {
   "cell_type": "code",
   "execution_count": null,
   "metadata": {
    "collapsed": true
   },
   "outputs": [],
   "source": []
  }
 ],
 "metadata": {
  "kernelspec": {
   "display_name": "Python 2",
   "language": "python",
   "name": "python2"
  },
  "language_info": {
   "codemirror_mode": {
    "name": "ipython",
    "version": 2
   },
   "file_extension": ".py",
   "mimetype": "text/x-python",
   "name": "python",
   "nbconvert_exporter": "python",
   "pygments_lexer": "ipython2",
   "version": "2.7.9"
  }
 },
 "nbformat": 4,
 "nbformat_minor": 0
}
