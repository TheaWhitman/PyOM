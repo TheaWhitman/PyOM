{
 "cells": [
  {
   "cell_type": "code",
   "execution_count": 2,
   "metadata": {
    "collapsed": true
   },
   "outputs": [],
   "source": [
    "%load_ext rpy2.ipython\n",
    "# Turning on in-IPy R capabilities"
   ]
  },
  {
   "cell_type": "code",
   "execution_count": 3,
   "metadata": {
    "collapsed": false
   },
   "outputs": [
    {
     "data": {
      "text/plain": [
       "Loading required package: permute\n",
       "Loading required package: lattice\n",
       "This is vegan 2.2-1\n"
      ]
     },
     "metadata": {},
     "output_type": "display_data"
    }
   ],
   "source": [
    "%%R\n",
    "library(phyloseq)\n",
    "library(vegan)\n",
    "library(plyr)"
   ]
  },
  {
   "cell_type": "code",
   "execution_count": 4,
   "metadata": {
    "collapsed": true
   },
   "outputs": [],
   "source": [
    "%%R\n",
    "#Creating the physeq object from our tree and biom table with taxonomic and metadata already included, telling it \\\n",
    "# that the taxonomy is from greengenes database, so it will recognize the samples\n",
    "physeq = import_biom(\"../data/otu_table_tax_no211_meta.biom\", treefilename = \"../data/ssu-aln.bacteria.mask.tre\",\n",
    "                    parseFunction = parse_taxonomy_greengenes)"
   ]
  },
  {
   "cell_type": "code",
   "execution_count": 5,
   "metadata": {
    "collapsed": true
   },
   "outputs": [],
   "source": [
    "%%R\n",
    "# Normalizes the sample counts by the total - i.e., reporting what fraction of each sample each OTU makes up.\n",
    "physeq = transform_sample_counts(physeq, function(x) x / sum(x))"
   ]
  },
  {
   "cell_type": "code",
   "execution_count": 6,
   "metadata": {
    "collapsed": false
   },
   "outputs": [
    {
     "data": {
      "text/plain": [
       "phyloseq-class experiment-level object\n",
       "otu_table()   OTU Table:         [ 7770 taxa and 119 samples ]\n",
       "sample_data() Sample Data:       [ 119 samples by 5 sample variables ]\n",
       "tax_table()   Taxonomy Table:    [ 7770 taxa by 8 taxonomic ranks ]\n",
       "phy_tree()    Phylogenetic Tree: [ 7770 tips and 7768 internal nodes ]\n"
      ]
     },
     "metadata": {},
     "output_type": "display_data"
    }
   ],
   "source": [
    "%%R\n",
    "physeq"
   ]
  },
  {
   "cell_type": "code",
   "execution_count": 7,
   "metadata": {
    "collapsed": false
   },
   "outputs": [
    {
     "data": {
      "text/plain": [
       "Sample Data:        [6 samples by 5 sample variables]:\n",
       "     Plants DayAmdmt Amdmt ID Day\n",
       "S009      1       01     1  D   0\n",
       "S204      1       21     1  D   2\n",
       "S112      0       11     1  B   1\n",
       "S247      0       22     2  F   2\n",
       "S026      0       00     0  A   0\n",
       "S023      1       00     0  C   0\n"
      ]
     },
     "metadata": {},
     "output_type": "display_data"
    }
   ],
   "source": [
    "%%R\n",
    "head(sample_data(physeq))"
   ]
  },
  {
   "cell_type": "code",
   "execution_count": 8,
   "metadata": {
    "collapsed": false
   },
   "outputs": [
    {
     "data": {
      "text/plain": [
       "\n",
       "Call:\n",
       "adonis(formula = d ~ sample_data(physeq)$Day + sample_data(physeq)$Amdmt,      data = df) \n",
       "\n",
       "Permutation: free\n",
       "Number of permutations: 999\n",
       "\n",
       "Terms added sequentially (first to last)\n",
       "\n",
       "                           Df SumsOfSqs  MeanSqs F.Model      R2 Pr(>F)    \n",
       "sample_data(physeq)$Day     2   0.14753 0.073765  17.425 0.18595  0.001 ***\n",
       "sample_data(physeq)$Amdmt   2   0.16324 0.081618  19.280 0.20575  0.001 ***\n",
       "Residuals                 114   0.48260 0.004233         0.60829           \n",
       "Total                     118   0.79336                  1.00000           \n",
       "---\n",
       "Signif. codes:  0 ‘***’ 0.001 ‘**’ 0.01 ‘*’ 0.05 ‘.’ 0.1 ‘ ’ 1\n"
      ]
     },
     "metadata": {},
     "output_type": "display_data"
    }
   ],
   "source": [
    "%%R\n",
    "df = as(sample_data(physeq), \"data.frame\")\n",
    "d = distance(physeq, method = \"unifrac\", weighted = TRUE)\n",
    "\n",
    "d.adonis = adonis(d ~ sample_data(physeq)$Day + sample_data(physeq)$Amdmt, df)\n",
    "d.adonis"
   ]
  },
  {
   "cell_type": "code",
   "execution_count": 9,
   "metadata": {
    "collapsed": false
   },
   "outputs": [
    {
     "data": {
      "text/plain": [
       "\n",
       "Call:\n",
       "adonis(formula = d ~ Day + Amdmt, data = df) \n",
       "\n",
       "Permutation: free\n",
       "Number of permutations: 999\n",
       "\n",
       "Terms added sequentially (first to last)\n",
       "\n",
       "           Df SumsOfSqs  MeanSqs F.Model      R2 Pr(>F)    \n",
       "Day         2   0.15358 0.076789  17.905 0.19005  0.001 ***\n",
       "Amdmt       2   0.16560 0.082800  19.307 0.20493  0.001 ***\n",
       "Residuals 114   0.48891 0.004289         0.60502           \n",
       "Total     118   0.80809                  1.00000           \n",
       "---\n",
       "Signif. codes:  0 ‘***’ 0.001 ‘**’ 0.01 ‘*’ 0.05 ‘.’ 0.1 ‘ ’ 1\n"
      ]
     },
     "metadata": {},
     "output_type": "display_data"
    }
   ],
   "source": [
    "%%R\n",
    "df = data.frame(sample_data(physeq))\n",
    "d = distance(physeq, method = \"unifrac\", weighted = TRUE)\n",
    "\n",
    "d.adonis = adonis(d ~ Day + Amdmt, df)\n",
    "d.adonis"
   ]
  },
  {
   "cell_type": "code",
   "execution_count": 35,
   "metadata": {
    "collapsed": false
   },
   "outputs": [],
   "source": [
    "%%R\n",
    "#physeq.D1 = subset_samples(physeq, Day == \"1\")\n",
    "#physeq.D2 = subset_samples(physeq, Day == \"2\")\n",
    "#physeq.PyOM = subset_samples(physeq, Amdmt == \"1\")\n",
    "#physeq.Stover = subset_samples(physeq, Amdmt == \"2\")\n",
    "physeq.D1.PyOM = subset_samples(physeq, Amdmt == c(\"1\",\"0\") & Day == \"1\")\n",
    "physeq.D2.PyOM = subset_samples(physeq, Amdmt == c(\"1\",\"0\") & Day == \"2\")\n",
    "physeq.D1.Stover = subset_samples(physeq, Amdmt == c(\"2\",\"0\") & Day == \"1\")\n",
    "physeq.D2.Stover = subset_samples(physeq, Amdmt == c(\"2\",\"0\") & Day == \"2\")\n",
    "physeq.D1.Both = subset_samples(physeq, Amdmt == c(\"2\",\"1\") & Day == \"1\")\n",
    "physeq.D2.Both = subset_samples(physeq, Amdmt == c(\"2\",\"1\") & Day == \"2\")"
   ]
  },
  {
   "cell_type": "code",
   "execution_count": 14,
   "metadata": {
    "collapsed": false
   },
   "outputs": [],
   "source": [
    "%%R\n",
    "ado.f <- function (ps){\n",
    "    df = as(sample_data(ps), \"data.frame\")\n",
    "    d = distance(ps, method = \"unifrac\", weighted = TRUE)\n",
    "    if (length(levels(factor(sample_data(ps)$Day)))>1) factor=sample_data(ps)$Day else factor=sample_data(ps)$Amdmt\n",
    "    d.adonis = adonis(d ~ factor, df)\n",
    "    d.adonis[1]\n",
    "    }"
   ]
  },
  {
   "cell_type": "code",
   "execution_count": 82,
   "metadata": {
    "collapsed": true
   },
   "outputs": [
    {
     "data": {
      "text/plain": [
       "[[1]]\n",
       "phyloseq-class experiment-level object\n",
       "otu_table()   OTU Table:         [ 7770 taxa and 16 samples ]\n",
       "sample_data() Sample Data:       [ 16 samples by 5 sample variables ]\n",
       "tax_table()   Taxonomy Table:    [ 7770 taxa by 8 taxonomic ranks ]\n",
       "phy_tree()    Phylogenetic Tree: [ 7770 tips and 7768 internal nodes ]\n",
       "\n",
       "[[2]]\n",
       "phyloseq-class experiment-level object\n",
       "otu_table()   OTU Table:         [ 7770 taxa and 15 samples ]\n",
       "sample_data() Sample Data:       [ 15 samples by 5 sample variables ]\n",
       "tax_table()   Taxonomy Table:    [ 7770 taxa by 8 taxonomic ranks ]\n",
       "phy_tree()    Phylogenetic Tree: [ 7770 tips and 7768 internal nodes ]\n",
       "\n",
       "[[3]]\n",
       "phyloseq-class experiment-level object\n",
       "otu_table()   OTU Table:         [ 7770 taxa and 13 samples ]\n",
       "sample_data() Sample Data:       [ 13 samples by 5 sample variables ]\n",
       "tax_table()   Taxonomy Table:    [ 7770 taxa by 8 taxonomic ranks ]\n",
       "phy_tree()    Phylogenetic Tree: [ 7770 tips and 7768 internal nodes ]\n",
       "\n",
       "[[4]]\n",
       "phyloseq-class experiment-level object\n",
       "otu_table()   OTU Table:         [ 7770 taxa and 11 samples ]\n",
       "sample_data() Sample Data:       [ 11 samples by 5 sample variables ]\n",
       "tax_table()   Taxonomy Table:    [ 7770 taxa by 8 taxonomic ranks ]\n",
       "phy_tree()    Phylogenetic Tree: [ 7770 tips and 7768 internal nodes ]\n",
       "\n",
       "[[5]]\n",
       "phyloseq-class experiment-level object\n",
       "otu_table()   OTU Table:         [ 7770 taxa and 13 samples ]\n",
       "sample_data() Sample Data:       [ 13 samples by 5 sample variables ]\n",
       "tax_table()   Taxonomy Table:    [ 7770 taxa by 8 taxonomic ranks ]\n",
       "phy_tree()    Phylogenetic Tree: [ 7770 tips and 7768 internal nodes ]\n",
       "\n",
       "[[6]]\n",
       "phyloseq-class experiment-level object\n",
       "otu_table()   OTU Table:         [ 7770 taxa and 12 samples ]\n",
       "sample_data() Sample Data:       [ 12 samples by 5 sample variables ]\n",
       "tax_table()   Taxonomy Table:    [ 7770 taxa by 8 taxonomic ranks ]\n",
       "phy_tree()    Phylogenetic Tree: [ 7770 tips and 7768 internal nodes ]\n",
       "\n",
       "[[7]]\n",
       "[1] \"physeq.D1.PyOM\"\n",
       "\n",
       "[[8]]\n",
       "[1] \"physeq.D2.PyOM\"\n",
       "\n",
       "[[9]]\n",
       "[1] \"physeq.D1.Stover\"\n",
       "\n",
       "[[10]]\n",
       "[1] \"physeq.D2.Stover\"\n",
       "\n",
       "[[11]]\n",
       "[1] \"physeq.D1.Both\"\n",
       "\n",
       "[[12]]\n",
       "[1] \"physeq.D2.Both\"\n",
       "\n"
      ]
     },
     "metadata": {},
     "output_type": "display_data"
    }
   ],
   "source": [
    "%%R\n",
    "comparisons <- c(physeq.D1.PyOM, physeq.D2.PyOM, physeq.D1.Stover, physeq.D2.Stover, physeq.D1.Both, physeq.D2.Both)\n",
    "names <- c(\"physeq.D1.PyOM\", \"physeq.D2.PyOM\", \"physeq.D1.Stover\", \"physeq.D2.Stover\", \"physeq.D1.Both\", \"physeq.D2.Both\")"
   ]
  },
  {
   "cell_type": "code",
   "execution_count": 30,
   "metadata": {
    "collapsed": true
   },
   "outputs": [
    {
     "data": {
      "text/plain": [
       "[[1]]\n",
       "[1] \"Day =  1\"\n",
       "\n",
       "[[2]]\n",
       "[[2]]$aov.tab\n",
       "Permutation: free\n",
       "Number of permutations: 999\n",
       "\n",
       "Terms added sequentially (first to last)\n",
       "\n",
       "          Df SumsOfSqs  MeanSqs F.Model      R2 Pr(>F)    \n",
       "factor     2   0.19508 0.097542  32.156 0.63479  0.001 ***\n",
       "Residuals 37   0.11224 0.003033         0.36521           \n",
       "Total     39   0.30732                  1.00000           \n",
       "---\n",
       "Signif. codes:  0 ‘***’ 0.001 ‘**’ 0.01 ‘*’ 0.05 ‘.’ 0.1 ‘ ’ 1\n",
       "\n",
       "\n",
       "[[3]]\n",
       "[1] \"Day =  2\"\n",
       "\n",
       "[[4]]\n",
       "[[4]]$aov.tab\n",
       "Permutation: free\n",
       "Number of permutations: 999\n",
       "\n",
       "Terms added sequentially (first to last)\n",
       "\n",
       "          Df SumsOfSqs   MeanSqs F.Model      R2 Pr(>F)    \n",
       "factor     2  0.045748 0.0228740    13.1 0.42122  0.001 ***\n",
       "Residuals 36  0.062860 0.0017461         0.57878           \n",
       "Total     38  0.108608                   1.00000           \n",
       "---\n",
       "Signif. codes:  0 ‘***’ 0.001 ‘**’ 0.01 ‘*’ 0.05 ‘.’ 0.1 ‘ ’ 1\n",
       "\n",
       "\n",
       "[[5]]\n",
       "[1] \"Amdmt =  1\"\n",
       "\n",
       "[[6]]\n",
       "[[6]]$aov.tab\n",
       "Permutation: free\n",
       "Number of permutations: 999\n",
       "\n",
       "Terms added sequentially (first to last)\n",
       "\n",
       "          Df SumsOfSqs   MeanSqs F.Model      R2 Pr(>F)    \n",
       "factor     2  0.045457 0.0227284  8.3719 0.27118  0.001 ***\n",
       "Residuals 45  0.122169 0.0027149         0.72882           \n",
       "Total     47  0.167625                   1.00000           \n",
       "---\n",
       "Signif. codes:  0 ‘***’ 0.001 ‘**’ 0.01 ‘*’ 0.05 ‘.’ 0.1 ‘ ’ 1\n",
       "\n",
       "\n",
       "[[7]]\n",
       "[1] \"Amdmt =  2\"\n",
       "\n",
       "[[8]]\n",
       "[[8]]$aov.tab\n",
       "Permutation: free\n",
       "Number of permutations: 999\n",
       "\n",
       "Terms added sequentially (first to last)\n",
       "\n",
       "          Df SumsOfSqs  MeanSqs F.Model      R2 Pr(>F)    \n",
       "factor     2  0.143785 0.071892  29.199 0.73551  0.001 ***\n",
       "Residuals 21  0.051706 0.002462         0.26449           \n",
       "Total     23  0.195491                  1.00000           \n",
       "---\n",
       "Signif. codes:  0 ‘***’ 0.001 ‘**’ 0.01 ‘*’ 0.05 ‘.’ 0.1 ‘ ’ 1\n",
       "\n",
       "\n"
      ]
     },
     "metadata": {},
     "output_type": "display_data"
    }
   ],
   "source": [
    "%%R\n",
    "fullresults = c()\n",
    "for (i in comparisons) {\n",
    "  if (length(levels(factor(sample_data(i)$Day)))>1) \n",
    "     name = paste(\"Amdmt = \",levels(factor(sample_data(i)$Amdmt)))\n",
    "      else name= paste(\"Day = \", levels(factor(sample_data(i)$Day)))\n",
    "    m = ado.f(i)\n",
    "    fullresults = c(fullresults,list(name,m))\n",
    "}\n",
    "fullresults"
   ]
  },
  {
   "cell_type": "code",
   "execution_count": 91,
   "metadata": {
    "collapsed": false
   },
   "outputs": [
    {
     "data": {
      "text/plain": [
       "[[1]]\n",
       "[1] \"physeq.D1.PyOM\"\n",
       "\n",
       "$aov.tab\n",
       "Permutation: free\n",
       "Number of permutations: 999\n",
       "\n",
       "Terms added sequentially (first to last)\n",
       "\n",
       "          Df SumsOfSqs   MeanSqs F.Model      R2 Pr(>F)\n",
       "factor     1  0.003126 0.0031262  1.3349 0.08705  0.237\n",
       "Residuals 14  0.032787 0.0023419         0.91295       \n",
       "Total     15  0.035913                   1.00000       \n",
       "\n",
       "[[3]]\n",
       "[1] \"physeq.D2.PyOM\"\n",
       "\n",
       "$aov.tab\n",
       "Permutation: free\n",
       "Number of permutations: 999\n",
       "\n",
       "Terms added sequentially (first to last)\n",
       "\n",
       "          Df SumsOfSqs   MeanSqs F.Model      R2 Pr(>F)   \n",
       "factor     1 0.0040632 0.0040632  3.1461 0.19485  0.004 **\n",
       "Residuals 13 0.0167894 0.0012915         0.80515          \n",
       "Total     14 0.0208526                   1.00000          \n",
       "---\n",
       "Signif. codes:  0 ‘***’ 0.001 ‘**’ 0.01 ‘*’ 0.05 ‘.’ 0.1 ‘ ’ 1\n",
       "\n",
       "[[5]]\n",
       "[1] \"physeq.D1.Stover\"\n",
       "\n",
       "$aov.tab\n",
       "Permutation: free\n",
       "Number of permutations: 999\n",
       "\n",
       "Terms added sequentially (first to last)\n",
       "\n",
       "          Df SumsOfSqs  MeanSqs F.Model      R2 Pr(>F)    \n",
       "factor     1  0.066878 0.066878  32.735 0.74849  0.001 ***\n",
       "Residuals 11  0.022473 0.002043         0.25151           \n",
       "Total     12  0.089351                  1.00000           \n",
       "---\n",
       "Signif. codes:  0 ‘***’ 0.001 ‘**’ 0.01 ‘*’ 0.05 ‘.’ 0.1 ‘ ’ 1\n",
       "\n",
       "[[7]]\n",
       "[1] \"physeq.D2.Stover\"\n",
       "\n",
       "$aov.tab\n",
       "Permutation: free\n",
       "Number of permutations: 999\n",
       "\n",
       "Terms added sequentially (first to last)\n",
       "\n",
       "          Df SumsOfSqs   MeanSqs F.Model     R2 Pr(>F)   \n",
       "factor     1  0.016068 0.0160683    11.6 0.5631  0.007 **\n",
       "Residuals  9  0.012467 0.0013852         0.4369          \n",
       "Total     10  0.028535                   1.0000          \n",
       "---\n",
       "Signif. codes:  0 ‘***’ 0.001 ‘**’ 0.01 ‘*’ 0.05 ‘.’ 0.1 ‘ ’ 1\n",
       "\n",
       "[[9]]\n",
       "[1] \"physeq.D1.Both\"\n",
       "\n",
       "$aov.tab\n",
       "Permutation: free\n",
       "Number of permutations: 999\n",
       "\n",
       "Terms added sequentially (first to last)\n",
       "\n",
       "          Df SumsOfSqs  MeanSqs F.Model      R2 Pr(>F)   \n",
       "factor     1  0.096288 0.096288   14.57 0.56981  0.006 **\n",
       "Residuals 11  0.072695 0.006609         0.43019          \n",
       "Total     12  0.168983                  1.00000          \n",
       "---\n",
       "Signif. codes:  0 ‘***’ 0.001 ‘**’ 0.01 ‘*’ 0.05 ‘.’ 0.1 ‘ ’ 1\n",
       "\n",
       "[[11]]\n",
       "[1] \"physeq.D2.Both\"\n",
       "\n",
       "$aov.tab\n",
       "Permutation: free\n",
       "Number of permutations: 999\n",
       "\n",
       "Terms added sequentially (first to last)\n",
       "\n",
       "          Df SumsOfSqs   MeanSqs F.Model      R2 Pr(>F)    \n",
       "factor     1 0.0066933 0.0066933  5.7583 0.36541  0.001 ***\n",
       "Residuals 10 0.0116238 0.0011624         0.63459           \n",
       "Total     11 0.0183172                   1.00000           \n",
       "---\n",
       "Signif. codes:  0 ‘***’ 0.001 ‘**’ 0.01 ‘*’ 0.05 ‘.’ 0.1 ‘ ’ 1\n",
       "\n"
      ]
     },
     "metadata": {},
     "output_type": "display_data"
    }
   ],
   "source": [
    "%%R\n",
    "fullresults = c()\n",
    "n=1\n",
    "for (i in comparisons) {\n",
    "    name = names[n]\n",
    "    n = n+1\n",
    "    m = ado.f(i)\n",
    "    fullresults = c(fullresults,c(name,m))\n",
    "}\n",
    "fullresults"
   ]
  },
  {
   "cell_type": "markdown",
   "metadata": {},
   "source": []
  },
  {
   "cell_type": "code",
   "execution_count": 96,
   "metadata": {
    "collapsed": false
   },
   "outputs": [
    {
     "data": {
      "text/plain": [
       "\n",
       "To cite package ‘vegan’ in publications use:\n",
       "\n",
       "  Jari Oksanen, F. Guillaume Blanchet, Roeland Kindt, Pierre Legendre,\n",
       "  Peter R. Minchin, R. B. O'Hara, Gavin L. Simpson, Peter Solymos, M.\n",
       "  Henry H. Stevens and Helene Wagner (2015). vegan: Community Ecology\n",
       "  Package. R package version 2.2-1.\n",
       "  http://CRAN.R-project.org/package=vegan\n",
       "\n",
       "A BibTeX entry for LaTeX users is\n",
       "\n",
       "  @Manual{,\n",
       "    title = {vegan: Community Ecology Package},\n",
       "    author = {Jari Oksanen and F. Guillaume Blanchet and Roeland Kindt and Pierre Legendre and Peter R. Minchin and R. B. O'Hara and Gavin L. Simpson and Peter Solymos and M. Henry H. Stevens and Helene Wagner},\n",
       "    year = {2015},\n",
       "    note = {R package version 2.2-1},\n",
       "    url = {http://CRAN.R-project.org/package=vegan},\n",
       "  }\n",
       "\n",
       "ATTENTION: This citation information has been auto-generated from the\n",
       "package DESCRIPTION file and may need manual editing, see\n",
       "‘help(\"citation\")’.\n",
       "\n"
      ]
     },
     "metadata": {},
     "output_type": "display_data"
    }
   ],
   "source": [
    "%%R\n",
    "citation(package = \"vegan\", lib.loc = NULL)"
   ]
  },
  {
   "cell_type": "code",
   "execution_count": null,
   "metadata": {
    "collapsed": true
   },
   "outputs": [],
   "source": []
  }
 ],
 "metadata": {
  "kernelspec": {
   "display_name": "Python 2",
   "language": "python",
   "name": "python2"
  },
  "language_info": {
   "codemirror_mode": {
    "name": "ipython",
    "version": 2
   },
   "file_extension": ".py",
   "mimetype": "text/x-python",
   "name": "python",
   "nbconvert_exporter": "python",
   "pygments_lexer": "ipython2",
   "version": "2.7.9"
  }
 },
 "nbformat": 4,
 "nbformat_minor": 0
}
