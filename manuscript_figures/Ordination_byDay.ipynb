{
 "cells": [
  {
   "cell_type": "code",
   "execution_count": 1,
   "metadata": {
    "collapsed": true
   },
   "outputs": [],
   "source": [
    "%load_ext rpy2.ipython\n",
    "# Turning on in-IPy R capabilities"
   ]
  },
  {
   "cell_type": "code",
   "execution_count": 2,
   "metadata": {
    "collapsed": false
   },
   "outputs": [
    {
     "data": {
      "text/plain": [
       "Loading required package: foreach\n",
       "foreach: simple, scalable parallel programming from Revolution Analytics\n",
       "Use Revolution R for scalability, fault tolerance and more.\n",
       "http://www.revolutionanalytics.com\n",
       "Loading required package: iterators\n",
       "Loading required package: parallel\n",
       "Need help? Try the ggplot2 mailing list: http://groups.google.com/group/ggplot2.\n",
       "Loading required package: permute\n",
       "Loading required package: lattice\n",
       "This is vegan 2.2-1\n"
      ]
     },
     "metadata": {},
     "output_type": "display_data"
    }
   ],
   "source": [
    "%%R\n",
    "library(phyloseq)\n",
    "library(doParallel)\n",
    "library(ggplot2)\n",
    "library(vegan)\n",
    "library(RColorBrewer)\n",
    "library(plyr)"
   ]
  },
  {
   "cell_type": "code",
   "execution_count": 6,
   "metadata": {
    "collapsed": false
   },
   "outputs": [],
   "source": [
    "%%R\n",
    "#Creating the physeq object from our tree and biom table with taxonomic and metadata already included, telling it \\\n",
    "# that the taxonomy is from greengenes database, so it will recognize the samples\n",
    "physeq = import_biom(\"otu_table_tax_no211_meta.biom\", treefilename = \"ssu-aln.bacteria.mask.tre\",\n",
    "                    parseFunction = parse_taxonomy_greengenes)"
   ]
  },
  {
   "cell_type": "code",
   "execution_count": null,
   "metadata": {
    "collapsed": true
   },
   "outputs": [],
   "source": []
  }
 ],
 "metadata": {
  "kernelspec": {
   "display_name": "Python 2",
   "language": "python",
   "name": "python2"
  },
  "language_info": {
   "codemirror_mode": {
    "name": "ipython",
    "version": 2
   },
   "file_extension": ".py",
   "mimetype": "text/x-python",
   "name": "python",
   "nbconvert_exporter": "python",
   "pygments_lexer": "ipython2",
   "version": "2.7.9"
  }
 },
 "nbformat": 4,
 "nbformat_minor": 0
}
