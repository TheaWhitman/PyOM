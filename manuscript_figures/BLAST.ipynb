{
 "cells": [
  {
   "cell_type": "code",
   "execution_count": 1,
   "metadata": {
    "collapsed": false
   },
   "outputs": [],
   "source": [
    "from Bio.Blast.Applications import NcbiblastnCommandline as blast"
   ]
  },
  {
   "cell_type": "code",
   "execution_count": null,
   "metadata": {
    "collapsed": false
   },
   "outputs": [],
   "source": [
    "cline = blast(query = \"../../data/otusn.pick.fasta\",\n",
    "              db = \"/var/seq_data/LTP115_db/LTP115\",\n",
    "              outfmt = 6,\n",
    "              out = \"../../data/tmp/blast_out_otusn_LTP115.m6\",\n",
    "              num_threads = 20,\n",
    "              evalue = 10)\n",
    "print cline\n",
    "cline()"
   ]
  },
  {
   "cell_type": "code",
   "execution_count": 1,
   "metadata": {
    "collapsed": false
   },
   "outputs": [
    {
     "name": "stdout",
     "output_type": "stream",
     "text": [
      "OTU.1\tAB258386\t96.25\t373\t14\t0\t1\t373\t459\t831\t2e-175\t  612\n",
      "3418929 ../../data/tmp/blast_out_otusn_LTP115.m6\n"
     ]
    }
   ],
   "source": [
    "!head -n1 ../../data/tmp/blast_out_otusn_LTP115.m6\n",
    "!wc -l ../../data/tmp/blast_out_otusn_LTP115.m6"
   ]
  }
 ],
 "metadata": {
  "kernelspec": {
   "display_name": "Python 2",
   "language": "python",
   "name": "python2"
  },
  "language_info": {
   "codemirror_mode": {
    "name": "ipython",
    "version": 2
   },
   "file_extension": ".py",
   "mimetype": "text/x-python",
   "name": "python",
   "nbconvert_exporter": "python",
   "pygments_lexer": "ipython2",
   "version": "2.7.10"
  }
 },
 "nbformat": 4,
 "nbformat_minor": 0
}
